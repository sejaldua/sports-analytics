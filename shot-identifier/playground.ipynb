{
 "metadata": {
  "language_info": {
   "codemirror_mode": {
    "name": "ipython",
    "version": 3
   },
   "file_extension": ".py",
   "mimetype": "text/x-python",
   "name": "python",
   "nbconvert_exporter": "python",
   "pygments_lexer": "ipython3",
   "version": "3.7.6-final"
  },
  "orig_nbformat": 2,
  "kernelspec": {
   "name": "python3",
   "display_name": "Python 3.7.6 64-bit",
   "metadata": {
    "interpreter": {
     "hash": "e534e48711db4d1e1c48977d0d14ff85b1f16d41bcc4fdfd88268a329b3c9d66"
    }
   }
  }
 },
 "nbformat": 4,
 "nbformat_minor": 2,
 "cells": [
  {
   "cell_type": "code",
   "execution_count": 1,
   "metadata": {},
   "outputs": [],
   "source": [
    "import csv\n",
    "import json\n",
    "import matplotlib.pyplot as plt\n",
    "import matplotlib\n",
    "import numpy as np\n",
    "import pandas as pd\n",
    "# Feel free to add anything else you need here\n",
    "\n"
   ]
  },
  {
   "cell_type": "code",
   "execution_count": 12,
   "metadata": {},
   "outputs": [
    {
     "output_type": "stream",
     "name": "stdout",
     "text": [
      "[]\n[]\n"
     ]
    }
   ],
   "source": [
    "# Read the event log into an array of dictionaries\n",
    "events = []\n",
    "with open('0021500495.csv', mode='r') as event_csv:\n",
    "    event_reader = csv.DictReader(event_csv)\n",
    "    line_count = 0\n",
    "    for row in event_reader:\n",
    "        events.append(dict(row))\n",
    "\n",
    "# Read in the SportVU tracking data\n",
    "sportvu = []\n",
    "with open('0021500495.json', mode='r') as sportvu_json:  \n",
    "    sportvu = json.load(sportvu_json)\n",
    "    df = pd.DataFrame.from_dict(sportvu)\n",
    "    # print(df.columns)\n",
    "\n",
    "\n",
    "def find_moment(search_id):\n",
    "    for i, events in enumerate(df['events']):\n",
    "        if events['eventId'] == str(search_id):\n",
    "            finder = i\n",
    "            break\n",
    "    return finder\n",
    "\n",
    "search_id = 41\n",
    "event_num = find_moment(search_id)\n",
    "print(df['events'][0]['moments'])\n",
    "ball_xy = np.array([x[5][0][2:5] for x in df['events'][event_num]['moments']]) #create matrix of ball df\n",
    "player_xy = np.array([np.array(x[5][1:])[:,1:4] for x in df['events'][event_num]['moments']]) #create matrix of player data\n",
    "\n",
    "print(ball_xy)"
   ]
  },
  {
   "cell_type": "code",
   "execution_count": null,
   "metadata": {},
   "outputs": [],
   "source": []
  }
 ]
}