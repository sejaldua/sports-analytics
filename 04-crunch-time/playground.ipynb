{
 "cells": [
  {
   "cell_type": "code",
   "execution_count": 2,
   "metadata": {},
   "outputs": [],
   "source": [
    "TEAM_ABBREVS = {\n",
    "    'ATLANTA HAWKS' : 'ATL',\n",
    "    'ST. LOUIS HAWKS' : 'SLH',\n",
    "    'MILWAUKEE HAWKS' : 'MIL',\n",
    "    'TRI-CITIES BLACKHAWKS' : 'TCB',\n",
    "    'BOSTON CELTICS' : 'BOS',\n",
    "    'BROOKLYN NETS' : 'BRK',\n",
    "    'NEW JERSEY NETS' : 'NJN',\n",
    "    'CHICAGO BULLS' : 'CHI',\n",
    "    'CHARLOTTE HORNETS (1988-2004)' : 'CHH',\n",
    "    'CHARLOTTE HORNETS' : 'CHO',\n",
    "    'CHARLOTTE BOBCATS' : 'CHA',\n",
    "    'CLEVELAND CAVALIERS' : 'CLE',\n",
    "    'DALLAS MAVERICKS' : 'DAL',\n",
    "    'DENVER NUGGETS' : 'DEN',\n",
    "    'DETROIT PISTONS' : 'DET',\n",
    "    'FORT WAYNE PISTONS' : 'FWP',\n",
    "    'GOLDEN STATE WARRIORS' : 'GSW',\n",
    "    'SAN FRANCISCO WARRIORS' : 'SFW',\n",
    "    'PHILADELPHIA WARRIORS' : 'PHI',\n",
    "    'HOUSTON ROCKETS' : 'HOU',\n",
    "    'INDIANA PACERS' : 'IND',\n",
    "    'LOS ANGELES CLIPPERS' : 'LAC',\n",
    "    'SAN DIEGO CLIPPERS' : 'SDC',\n",
    "    'BUFFALO BRAVES' : 'BUF',\n",
    "    'LOS ANGELES LAKERS' : 'LAL',\n",
    "    'MINNEAPOLIS LAKERS' : 'MIN',\n",
    "    'MEMPHIS GRIZZLIES' : 'MEM',\n",
    "    'VANCOUVER GRIZZLIES' : 'VAN',\n",
    "    'MIAMI HEAT' : 'MIA',\n",
    "    'MILWAUKEE BUCKS' : 'MIL',\n",
    "    'MINNESOTA TIMBERWOLVES' : 'MIN',\n",
    "    'NEW ORLEANS PELICANS' : 'NOP',\n",
    "    'NEW ORLEANS/OKLAHOMA CITY HORNETS' : 'NOK',\n",
    "    'NEW ORLEANS HORNETS' : 'NOH',\n",
    "    'NEW YORK KNICKS' : 'NYK',\n",
    "    'OKLAHOMA CITY THUNDER' : 'OKC',\n",
    "    'SEATTLE SUPERSONICS' : 'SEA',\n",
    "    'ORLANDO MAGIC' : 'ORL',\n",
    "    'PHILADELPHIA 76ERS' : 'PHI',\n",
    "    'SYRACUSE NATIONALS' : 'SYR',\n",
    "    'PHOENIX SUNS' : 'PHO',\n",
    "    'PORTLAND TRAIL BLAZERS' : 'POR',\n",
    "    'SACRAMENTO KINGS' : 'SAC',\n",
    "    'KANSAS CITY KINGS' : 'KCK',\n",
    "    'KANSAS CITY-OMAHA KINGS' : 'KCK',\n",
    "    'CINCINNATI ROYALS' : 'CIN',\n",
    "    'ROCHESTER ROYALS' : 'ROR',\n",
    "    'SAN ANTONIO SPURS' : 'SAS',\n",
    "    'TORONTO RAPTORS' : 'TOR',\n",
    "    'UTAH JAZZ' : 'UTA',\n",
    "    'NEW ORLEANS JAZZ' : 'NOJ',\n",
    "    'WASHINGTON WIZARDS' : 'WAS',\n",
    "    'WASHINGTON BULLETS' : 'WAS',\n",
    "    'CAPITAL BULLETS' : 'CAP',\n",
    "    'BALTIMORE BULLETS' : 'BAL',\n",
    "    'CHICAGO ZEPHYRS' : 'CHI',\n",
    "    'CHICAGO PACKERS' : 'CHI',\n",
    "    'ANDERSON PACKERS' : 'AND',\n",
    "    'CHICAGO STAGS' : 'CHI',\n",
    "    'INDIANAPOLIS OLYMPIANS' : 'IND',\n",
    "    'SHEBOYGAN RED SKINS' : 'SRS',\n",
    "    'ST. LOUIS BOMBERS' : 'SLB',\n",
    "    'WASHINGTON CAPITOLS' : 'WAS',\n",
    "    'WATERLOO HAWKS' : 'WAT',\n",
    "    'SAN DIEGO ROCKETS' : 'SDR',\n",
    "}"
   ]
  },
  {
   "cell_type": "code",
   "execution_count": 5,
   "metadata": {},
   "outputs": [],
   "source": [
    "from tqdm import tqdm\n",
    "import pandas as pd\n",
    "import seaborn as sns\n",
    "import matplotlib.pyplot as plt\n",
    "plt.style.use('ggplot')\n",
    "import plotly.express as px\n",
    "from collections import Counter\n",
    "from collections import OrderedDict\n",
    "\n",
    "from basketball_reference_scraper.teams import get_roster, get_team_stats, get_opp_stats, get_roster_stats, get_team_misc\n",
    "from basketball_reference_scraper.players import get_stats, get_game_logs, get_player_headshot\n",
    "from basketball_reference_scraper.seasons import get_schedule, get_standings\n",
    "from basketball_reference_scraper.box_scores import get_box_scores\n",
    "from basketball_reference_scraper.pbp import get_pbp\n",
    "from basketball_reference_scraper.shot_charts import get_shot_chart\n",
    "from basketball_reference_scraper.drafts import get_draft_class"
   ]
  },
  {
   "cell_type": "code",
   "execution_count": 4,
   "metadata": {},
   "outputs": [
    {
     "name": "stderr",
     "output_type": "stream",
     "text": [
      "  0%|          | 0/1060 [00:00<?, ?it/s]"
     ]
    },
    {
     "name": "stdout",
     "output_type": "stream",
     "text": [
      "Index(['DATE', 'VISITOR', 'VISITOR_PTS', 'HOME', 'HOME_PTS'], dtype='object')\n"
     ]
    },
    {
     "name": "stderr",
     "output_type": "stream",
     "text": [
      "100%|██████████| 1060/1060 [45:43<00:00,  2.59s/it]"
     ]
    },
    {
     "name": "stdout",
     "output_type": "stream",
     "text": [
      "0.5518867924528302 0.7914529914529914 0.5122641509433963\n",
      "0.8526703499079189\n"
     ]
    },
    {
     "name": "stderr",
     "output_type": "stream",
     "text": [
      "\n"
     ]
    }
   ],
   "source": [
    "s = get_schedule(2020, playoffs=False)\n",
    "print(s.columns)\n",
    "# s = s[(s['HOME'] == 'Portland Trail Blazers') | (s['VISITOR'] == 'Portland Trail Blazers')]\n",
    "s['HOME_PTS'] = s['HOME_PTS'].astype(int)\n",
    "s['VISITOR_PTS'] = s['VISITOR_PTS'].astype(int)\n",
    "s['HOME_WON'] = s.apply(lambda x: x['HOME_PTS'] > x['VISITOR_PTS'], axis=1)\n",
    "num_home_wins = sum(s['HOME_WON'].astype(int))\n",
    "prior = num_home_wins / len(s)\n",
    "marginal = 0\n",
    "likelihood = 0\n",
    "for i, row in tqdm(s.iterrows(), total=s.shape[0]):\n",
    "    # print(row['VISITOR'], row['HOME'])\n",
    "    pbp = get_pbp(row['DATE'], TEAM_ABBREVS[row['VISITOR'].upper()], TEAM_ABBREVS[row['HOME'].upper()])\n",
    "    # print(pbp.columns)\n",
    "    pbp_q4 = pbp[pbp['QUARTER'] == 4]\n",
    "    home_up_at_q4 = pbp_q4.iloc[0, len(pbp_q4.columns)-1] > pbp_q4.iloc[0, len(pbp_q4.columns)-2]\n",
    "    if home_up_at_q4:\n",
    "        marginal += 1\n",
    "    if home_up_at_q4 and row['HOME_WON']:\n",
    "        likelihood += 1\n",
    "likelihood /= num_home_wins\n",
    "marginal /= len(s)\n",
    "print(prior, likelihood, marginal)      \n",
    "print((prior * likelihood) / marginal)"
   ]
  },
  {
   "cell_type": "code",
   "execution_count": 7,
   "metadata": {},
   "outputs": [
    {
     "name": "stderr",
     "output_type": "stream",
     "text": [
      "100%|██████████| 1060/1060 [41:46<00:00,  2.36s/it] "
     ]
    },
    {
     "name": "stdout",
     "output_type": "stream",
     "text": [
      "640 1060\n"
     ]
    },
    {
     "name": "stderr",
     "output_type": "stream",
     "text": [
      "\n"
     ]
    }
   ],
   "source": [
    "def get_seconds_left(x):\n",
    "    mins, secs = x.split(':')\n",
    "    mins = int(mins)\n",
    "    secs = int(secs.split('.')[0])\n",
    "    return mins * 60 + secs\n",
    "\n",
    "s = get_schedule(2020, playoffs=False)\n",
    "s['HOME_PTS'] = s['HOME_PTS'].astype(int)\n",
    "s['VISITOR_PTS'] = s['VISITOR_PTS'].astype(int)\n",
    "s['HOME_WON'] = s.apply(lambda x: x['HOME_PTS'] > x['VISITOR_PTS'], axis=1)\n",
    "num_close_games = 0\n",
    "upsetters = []\n",
    "for i, row in tqdm(s.iterrows(), total=s.shape[0]):\n",
    "    # print(row['VISITOR'], row['HOME'])\n",
    "    pbp = get_pbp(row['DATE'], TEAM_ABBREVS[row['VISITOR'].upper()], TEAM_ABBREVS[row['HOME'].upper()])\n",
    "    pbp['SECONDS_LEFT'] = pbp['TIME_REMAINING'].apply(lambda x: get_seconds_left(x))\n",
    "    pbp_2mins = pbp[pbp['SECONDS_LEFT'] <= 120]\n",
    "    score_diff = abs(pbp_2mins.iloc[0, len(pbp_2mins.columns)-2] - pbp_2mins.iloc[0, len(pbp_2mins.columns)-3])\n",
    "    if score_diff <= 6:\n",
    "        num_close_games += 1\n",
    "    home_up_at_2_mins = pbp_2mins.iloc[0, len(pbp_2mins.columns)-2] >= pbp_2mins.iloc[0, len(pbp_2mins.columns)-3]\n",
    "    if home_up_at_2_mins and not row['HOME_WON']:\n",
    "        upsetters.append(row['VISITOR'])\n",
    "    elif not home_up_at_2_mins and row['HOME_WON']:\n",
    "        upsetters.append(row['HOME'])\n",
    "print(num_close_games, len(s))"
   ]
  },
  {
   "cell_type": "code",
   "execution_count": 9,
   "metadata": {},
   "outputs": [
    {
     "data": {
      "text/plain": [
       "[('Denver Nuggets', 21),\n",
       " ('Boston Celtics', 18),\n",
       " ('Houston Rockets', 18),\n",
       " ('Los Angeles Lakers', 18),\n",
       " ('Los Angeles Clippers', 17),\n",
       " ('Toronto Raptors', 16),\n",
       " ('Dallas Mavericks', 15),\n",
       " ('Indiana Pacers', 15),\n",
       " ('Utah Jazz', 15),\n",
       " ('Phoenix Suns', 14),\n",
       " ('Oklahoma City Thunder', 14),\n",
       " ('Milwaukee Bucks', 13),\n",
       " ('Chicago Bulls', 13),\n",
       " ('Portland Trail Blazers', 12),\n",
       " ('Sacramento Kings', 12),\n",
       " ('Philadelphia 76ers', 11),\n",
       " ('Washington Wizards', 11),\n",
       " ('Orlando Magic', 11),\n",
       " ('Memphis Grizzlies', 11),\n",
       " ('Miami Heat', 10),\n",
       " ('Minnesota Timberwolves', 10),\n",
       " ('San Antonio Spurs', 10),\n",
       " ('Charlotte Hornets', 10),\n",
       " ('Brooklyn Nets', 10),\n",
       " ('Atlanta Hawks', 10),\n",
       " ('New Orleans Pelicans', 9),\n",
       " ('New York Knicks', 7),\n",
       " ('Detroit Pistons', 7),\n",
       " ('Cleveland Cavaliers', 6),\n",
       " ('Golden State Warriors', 6)]"
      ]
     },
     "execution_count": 9,
     "metadata": {},
     "output_type": "execute_result"
    }
   ],
   "source": [
    "Counter(upsetters).most_common()"
   ]
  },
  {
   "cell_type": "code",
   "execution_count": 9,
   "metadata": {},
   "outputs": [
    {
     "name": "stderr",
     "output_type": "stream",
     "text": [
      "100%|██████████| 30/30 [1:48:05<00:00, 216.17s/it]\n"
     ]
    }
   ],
   "source": [
    "import warnings\n",
    "from pandas.core.common import SettingWithCopyWarning\n",
    "warnings.simplefilter(action=\"ignore\", category=SettingWithCopyWarning)\n",
    "\n",
    "s = get_schedule(2020, playoffs=False)\n",
    "teams = list(s['HOME'].unique())\n",
    "s['HOME_PTS'] = s['HOME_PTS'].astype(int)\n",
    "s['VISITOR_PTS'] = s['VISITOR_PTS'].astype(int)\n",
    "d = {}\n",
    "for team in tqdm(teams):\n",
    "    home_games = s[s['HOME'] == team]\n",
    "    visitor_games = s[s['VISITOR'] == team]\n",
    "    home_games['TEAM_WON'] = home_games.apply(lambda x: x['HOME_PTS'] > x['VISITOR_PTS'], axis=1)\n",
    "    visitor_games['TEAM_WON'] = visitor_games.apply(lambda x: x['VISITOR_PTS'] > x['HOME_PTS'], axis=1)\n",
    "    num_wins = sum(home_games['TEAM_WON'].astype(int)) + sum(visitor_games['TEAM_WON'].astype(int))\n",
    "    num_games = (len(home_games) + len(visitor_games))\n",
    "    prior = num_wins / num_games\n",
    "    marginal = 0\n",
    "    likelihood = 0\n",
    "    for i, row in home_games.iterrows():\n",
    "        # if i == 0:\n",
    "        #     print(row['VISITOR'], row['HOME'])\n",
    "        pbp = get_pbp(row['DATE'], TEAM_ABBREVS[row['VISITOR'].upper()], TEAM_ABBREVS[row['HOME'].upper()])\n",
    "        pbp_q4 = pbp[pbp['QUARTER'] == 4]\n",
    "        team_up_at_q4 = pbp_q4.iloc[0, len(pbp_q4.columns)-1] > pbp_q4.iloc[0, len(pbp_q4.columns)-2]\n",
    "        if team_up_at_q4:\n",
    "            marginal += 1\n",
    "        if team_up_at_q4 and row['TEAM_WON']:\n",
    "            likelihood += 1\n",
    "    for i, row in visitor_games.iterrows():\n",
    "        # if i == 0:\n",
    "        #     print(row['VISITOR'], row['HOME'])\n",
    "        pbp = get_pbp(row['DATE'], TEAM_ABBREVS[row['VISITOR'].upper()], TEAM_ABBREVS[row['HOME'].upper()])\n",
    "        pbp_q4 = pbp[pbp['QUARTER'] == 4]\n",
    "        team_up_at_q4 = pbp_q4.iloc[0, len(pbp_q4.columns)-2] > pbp_q4.iloc[0, len(pbp_q4.columns)-1]\n",
    "        if team_up_at_q4:\n",
    "            marginal += 1\n",
    "        if team_up_at_q4 and row['TEAM_WON']:\n",
    "            likelihood += 1\n",
    "    likelihood /= num_wins\n",
    "    marginal /= num_games   \n",
    "    posterior = (prior * likelihood) / marginal\n",
    "    d[team] = {\n",
    "        'num_wins': num_wins,\n",
    "        'num_games': num_games,\n",
    "        'prior': prior,\n",
    "        'likelihood': likelihood,\n",
    "        'marginal': marginal,\n",
    "        'posterior': posterior\n",
    "    }"
   ]
  },
  {
   "cell_type": "code",
   "execution_count": 15,
   "metadata": {},
   "outputs": [
    {
     "data": {
      "image/png": "[encoded data removed]",
      "text/plain": [
       "<Figure size 864x576 with 1 Axes>"
      ]
     },
     "metadata": {
      "needs_background": "light"
     },
     "output_type": "display_data"
    }
   ],
   "source": [
    "from collections import OrderedDict\n",
    "sorted_dict = OrderedDict(sorted(d.items(), key=lambda kv: kv[1]['posterior'], reverse=True))\n",
    "sorted_posteriors = {k: v['posterior'] for k, v in sorted_dict.items()}\n",
    "fig = plt.figure(figsize=(12,8))\n",
    "plt.bar(sorted_posteriors.keys(), sorted_posteriors.values())\n",
    "plt.xticks(rotation=90);"
   ]
  },
  {
   "cell_type": "code",
   "execution_count": 33,
   "metadata": {},
   "outputs": [
    {
     "data": {
      "application/vnd.plotly.v1+json": {
       "config": {
        "plotlyServerURL": "https://plot.ly"
       },
       "data": [
        {
         "hovertemplate": " ",
         "legendgroup": "Toronto Raptors",
         "marker": {
          "color": "#636efa",
          "symbol": "circle"
         },
         "mode": "markers",
         "name": "Toronto Raptors",
         "orientation": "v",
         "showlegend": true,
         "type": "scatter",
         "x": [
          0.9038461538461539
         ],
         "xaxis": "x",
         "y": [
          0.7361111111111112
         ],
         "yaxis": "y"
        },
        {
         "hovertemplate": " ",
         "legendgroup": "Los Angeles Clippers",
         "marker": {
          "color": "#EF553B",
          "symbol": "circle"
         },
         "mode": "markers",
         "name": "Los Angeles Clippers",
         "orientation": "v",
         "showlegend": true,
         "type": "scatter",
         "x": [
          0.926829268292683
         ],
         "xaxis": "x",
         "y": [
          0.6805555555555556
         ],
         "yaxis": "y"
        },
        {
         "hovertemplate": " ",
         "legendgroup": "Portland Trail Blazers",
         "marker": {
          "color": "#00cc96",
          "symbol": "circle"
         },
         "mode": "markers",
         "name": "Portland Trail Blazers",
         "orientation": "v",
         "showlegend": true,
         "type": "scatter",
         "x": [
          0.8333333333333333
         ],
         "xaxis": "x",
         "y": [
          0.48
         ],
         "yaxis": "y"
        },
        {
         "hovertemplate": " ",
         "legendgroup": "Phoenix Suns",
         "marker": {
          "color": "#ab63fa",
          "symbol": "circle"
         },
         "mode": "markers",
         "name": "Phoenix Suns",
         "orientation": "v",
         "showlegend": true,
         "type": "scatter",
         "x": [
          0.8571428571428571
         ],
         "xaxis": "x",
         "y": [
          0.4657534246575342
         ],
         "yaxis": "y"
        },
        {
         "hovertemplate": " ",
         "legendgroup": "Utah Jazz",
         "marker": {
          "color": "#FFA15A",
          "symbol": "circle"
         },
         "mode": "markers",
         "name": "Utah Jazz",
         "orientation": "v",
         "showlegend": true,
         "type": "scatter",
         "x": [
          0.8181818181818183
         ],
         "xaxis": "x",
         "y": [
          0.6111111111111112
         ],
         "yaxis": "y"
        },
        {
         "hovertemplate": " ",
         "legendgroup": "Dallas Mavericks",
         "marker": {
          "color": "#19d3f3",
          "symbol": "circle"
         },
         "mode": "markers",
         "name": "Dallas Mavericks",
         "orientation": "v",
         "showlegend": true,
         "type": "scatter",
         "x": [
          0.7872340425531915
         ],
         "xaxis": "x",
         "y": [
          0.5733333333333334
         ],
         "yaxis": "y"
        },
        {
         "hovertemplate": " ",
         "legendgroup": "Philadelphia 76ers",
         "marker": {
          "color": "#FF6692",
          "symbol": "circle"
         },
         "mode": "markers",
         "name": "Philadelphia 76ers",
         "orientation": "v",
         "showlegend": true,
         "type": "scatter",
         "x": [
          0.7804878048780488
         ],
         "xaxis": "x",
         "y": [
          0.589041095890411
         ],
         "yaxis": "y"
        },
        {
         "hovertemplate": " ",
         "legendgroup": "San Antonio Spurs",
         "marker": {
          "color": "#B6E880",
          "symbol": "circle"
         },
         "mode": "markers",
         "name": "San Antonio Spurs",
         "orientation": "v",
         "showlegend": true,
         "type": "scatter",
         "x": [
          0.7058823529411765
         ],
         "xaxis": "x",
         "y": [
          0.4507042253521127
         ],
         "yaxis": "y"
        },
        {
         "hovertemplate": " ",
         "legendgroup": "Brooklyn Nets",
         "marker": {
          "color": "#FF97FF",
          "symbol": "circle"
         },
         "mode": "markers",
         "name": "Brooklyn Nets",
         "orientation": "v",
         "showlegend": true,
         "type": "scatter",
         "x": [
          0.6829268292682927
         ],
         "xaxis": "x",
         "y": [
          0.4861111111111111
         ],
         "yaxis": "y"
        },
        {
         "hovertemplate": " ",
         "legendgroup": "Orlando Magic",
         "marker": {
          "color": "#FECB52",
          "symbol": "circle"
         },
         "mode": "markers",
         "name": "Orlando Magic",
         "orientation": "v",
         "showlegend": true,
         "type": "scatter",
         "x": [
          0.9285714285714286
         ],
         "xaxis": "x",
         "y": [
          0.4520547945205479
         ],
         "yaxis": "y"
        },
        {
         "hovertemplate": " ",
         "legendgroup": "Indiana Pacers",
         "marker": {
          "color": "#636efa",
          "symbol": "circle"
         },
         "mode": "markers",
         "name": "Indiana Pacers",
         "orientation": "v",
         "showlegend": true,
         "type": "scatter",
         "x": [
          0.8666666666666667
         ],
         "xaxis": "x",
         "y": [
          0.6164383561643836
         ],
         "yaxis": "y"
        },
        {
         "hovertemplate": " ",
         "legendgroup": "Charlotte Hornets",
         "marker": {
          "color": "#EF553B",
          "symbol": "circle"
         },
         "mode": "markers",
         "name": "Charlotte Hornets",
         "orientation": "v",
         "showlegend": true,
         "type": "scatter",
         "x": [
          0.7777777777777778
         ],
         "xaxis": "x",
         "y": [
          0.35384615384615387
         ],
         "yaxis": "y"
        },
        {
         "hovertemplate": " ",
         "legendgroup": "Miami Heat",
         "marker": {
          "color": "#00cc96",
          "symbol": "circle"
         },
         "mode": "markers",
         "name": "Miami Heat",
         "orientation": "v",
         "showlegend": true,
         "type": "scatter",
         "x": [
          0.8636363636363636
         ],
         "xaxis": "x",
         "y": [
          0.6027397260273972
         ],
         "yaxis": "y"
        },
        {
         "hovertemplate": " ",
         "legendgroup": "Detroit Pistons",
         "marker": {
          "color": "#ab63fa",
          "symbol": "circle"
         },
         "mode": "markers",
         "name": "Detroit Pistons",
         "orientation": "v",
         "showlegend": true,
         "type": "scatter",
         "x": [
          0.761904761904762
         ],
         "xaxis": "x",
         "y": [
          0.30303030303030304
         ],
         "yaxis": "y"
        },
        {
         "hovertemplate": " ",
         "legendgroup": "Houston Rockets",
         "marker": {
          "color": "#FFA15A",
          "symbol": "circle"
         },
         "mode": "markers",
         "name": "Houston Rockets",
         "orientation": "v",
         "showlegend": true,
         "type": "scatter",
         "x": [
          0.8604651162790699
         ],
         "xaxis": "x",
         "y": [
          0.6111111111111112
         ],
         "yaxis": "y"
        },
        {
         "hovertemplate": " ",
         "legendgroup": "Golden State Warriors",
         "marker": {
          "color": "#19d3f3",
          "symbol": "circle"
         },
         "mode": "markers",
         "name": "Golden State Warriors",
         "orientation": "v",
         "showlegend": true,
         "type": "scatter",
         "x": [
          0.6111111111111112
         ],
         "xaxis": "x",
         "y": [
          0.23076923076923078
         ],
         "yaxis": "y"
        },
        {
         "hovertemplate": " ",
         "legendgroup": "Denver Nuggets",
         "marker": {
          "color": "#FF6692",
          "symbol": "circle"
         },
         "mode": "markers",
         "name": "Denver Nuggets",
         "orientation": "v",
         "showlegend": true,
         "type": "scatter",
         "x": [
          0.8292682926829267
         ],
         "xaxis": "x",
         "y": [
          0.6301369863013698
         ],
         "yaxis": "y"
        },
        {
         "hovertemplate": " ",
         "legendgroup": "Los Angeles Lakers",
         "marker": {
          "color": "#B6E880",
          "symbol": "circle"
         },
         "mode": "markers",
         "name": "Los Angeles Lakers",
         "orientation": "v",
         "showlegend": true,
         "type": "scatter",
         "x": [
          1
         ],
         "xaxis": "x",
         "y": [
          0.7323943661971831
         ],
         "yaxis": "y"
        },
        {
         "hovertemplate": " ",
         "legendgroup": "Sacramento Kings",
         "marker": {
          "color": "#FF97FF",
          "symbol": "circle"
         },
         "mode": "markers",
         "name": "Sacramento Kings",
         "orientation": "v",
         "showlegend": true,
         "type": "scatter",
         "x": [
          0.7500000000000001
         ],
         "xaxis": "x",
         "y": [
          0.4305555555555556
         ],
         "yaxis": "y"
        },
        {
         "hovertemplate": " ",
         "legendgroup": "Oklahoma City Thunder",
         "marker": {
          "color": "#FECB52",
          "symbol": "circle"
         },
         "mode": "markers",
         "name": "Oklahoma City Thunder",
         "orientation": "v",
         "showlegend": true,
         "type": "scatter",
         "x": [
          0.8437500000000002
         ],
         "xaxis": "x",
         "y": [
          0.6111111111111112
         ],
         "yaxis": "y"
        },
        {
         "hovertemplate": " ",
         "legendgroup": "Memphis Grizzlies",
         "marker": {
          "color": "#636efa",
          "symbol": "circle"
         },
         "mode": "markers",
         "name": "Memphis Grizzlies",
         "orientation": "v",
         "showlegend": true,
         "type": "scatter",
         "x": [
          0.7631578947368421
         ],
         "xaxis": "x",
         "y": [
          0.4594594594594595
         ],
         "yaxis": "y"
        },
        {
         "hovertemplate": " ",
         "legendgroup": "Boston Celtics",
         "marker": {
          "color": "#EF553B",
          "symbol": "circle"
         },
         "mode": "markers",
         "name": "Boston Celtics",
         "orientation": "v",
         "showlegend": true,
         "type": "scatter",
         "x": [
          0.8823529411764706
         ],
         "xaxis": "x",
         "y": [
          0.6666666666666666
         ],
         "yaxis": "y"
        },
        {
         "hovertemplate": " ",
         "legendgroup": "New Orleans Pelicans",
         "marker": {
          "color": "#00cc96",
          "symbol": "circle"
         },
         "mode": "markers",
         "name": "New Orleans Pelicans",
         "orientation": "v",
         "showlegend": true,
         "type": "scatter",
         "x": [
          0.742857142857143
         ],
         "xaxis": "x",
         "y": [
          0.4166666666666667
         ],
         "yaxis": "y"
        },
        {
         "hovertemplate": " ",
         "legendgroup": "Milwaukee Bucks",
         "marker": {
          "color": "#ab63fa",
          "symbol": "circle"
         },
         "mode": "markers",
         "name": "Milwaukee Bucks",
         "orientation": "v",
         "showlegend": true,
         "type": "scatter",
         "x": [
          0.9615384615384616
         ],
         "xaxis": "x",
         "y": [
          0.7671232876712328
         ],
         "yaxis": "y"
        },
        {
         "hovertemplate": " ",
         "legendgroup": "Atlanta Hawks",
         "marker": {
          "color": "#FFA15A",
          "symbol": "circle"
         },
         "mode": "markers",
         "name": "Atlanta Hawks",
         "orientation": "v",
         "showlegend": true,
         "type": "scatter",
         "x": [
          0.75
         ],
         "xaxis": "x",
         "y": [
          0.29850746268656714
         ],
         "yaxis": "y"
        },
        {
         "hovertemplate": " ",
         "legendgroup": "New York Knicks",
         "marker": {
          "color": "#19d3f3",
          "symbol": "circle"
         },
         "mode": "markers",
         "name": "New York Knicks",
         "orientation": "v",
         "showlegend": true,
         "type": "scatter",
         "x": [
          0.7368421052631577
         ],
         "xaxis": "x",
         "y": [
          0.3181818181818182
         ],
         "yaxis": "y"
        },
        {
         "hovertemplate": " ",
         "legendgroup": "Chicago Bulls",
         "marker": {
          "color": "#FF6692",
          "symbol": "circle"
         },
         "mode": "markers",
         "name": "Chicago Bulls",
         "orientation": "v",
         "showlegend": true,
         "type": "scatter",
         "x": [
          0.6818181818181818
         ],
         "xaxis": "x",
         "y": [
          0.3384615384615385
         ],
         "yaxis": "y"
        },
        {
         "hovertemplate": " ",
         "legendgroup": "Cleveland Cavaliers",
         "marker": {
          "color": "#B6E880",
          "symbol": "circle"
         },
         "mode": "markers",
         "name": "Cleveland Cavaliers",
         "orientation": "v",
         "showlegend": true,
         "type": "scatter",
         "x": [
          0.75
         ],
         "xaxis": "x",
         "y": [
          0.2923076923076923
         ],
         "yaxis": "y"
        },
        {
         "hovertemplate": " ",
         "legendgroup": "Minnesota Timberwolves",
         "marker": {
          "color": "#FF97FF",
          "symbol": "circle"
         },
         "mode": "markers",
         "name": "Minnesota Timberwolves",
         "orientation": "v",
         "showlegend": true,
         "type": "scatter",
         "x": [
          0.75
         ],
         "xaxis": "x",
         "y": [
          0.296875
         ],
         "yaxis": "y"
        },
        {
         "hovertemplate": " ",
         "legendgroup": "Washington Wizards",
         "marker": {
          "color": "#FECB52",
          "symbol": "circle"
         },
         "mode": "markers",
         "name": "Washington Wizards",
         "orientation": "v",
         "showlegend": true,
         "type": "scatter",
         "x": [
          0.7916666666666667
         ],
         "xaxis": "x",
         "y": [
          0.3472222222222222
         ],
         "yaxis": "y"
        }
       ],
       "layout": {
        "legend": {
         "title": {
          "text": "team"
         },
         "tracegroupgap": 0
        },
        "margin": {
         "t": 60
        },
        "template": {
         "data": {
          "bar": [
           {
            "error_x": {
             "color": "#2a3f5f"
            },
            "error_y": {
             "color": "#2a3f5f"
            },
            "marker": {
             "line": {
              "color": "#E5ECF6",
              "width": 0.5
             },
             "pattern": {
              "fillmode": "overlay",
              "size": 10,
              "solidity": 0.2
             }
            },
            "type": "bar"
           }
          ],
          "barpolar": [
           {
            "marker": {
             "line": {
              "color": "#E5ECF6",
              "width": 0.5
             },
             "pattern": {
              "fillmode": "overlay",
              "size": 10,
              "solidity": 0.2
             }
            },
            "type": "barpolar"
           }
          ],
          "carpet": [
           {
            "aaxis": {
             "endlinecolor": "#2a3f5f",
             "gridcolor": "white",
             "linecolor": "white",
             "minorgridcolor": "white",
             "startlinecolor": "#2a3f5f"
            },
            "baxis": {
             "endlinecolor": "#2a3f5f",
             "gridcolor": "white",
             "linecolor": "white",
             "minorgridcolor": "white",
             "startlinecolor": "#2a3f5f"
            },
            "type": "carpet"
           }
          ],
          "choropleth": [
           {
            "colorbar": {
             "outlinewidth": 0,
             "ticks": ""
            },
            "type": "choropleth"
           }
          ],
          "contour": [
           {
            "colorbar": {
             "outlinewidth": 0,
             "ticks": ""
            },
            "colorscale": [
             [
              0,
              "#0d0887"
             ],
             [
              0.1111111111111111,
              "#46039f"
             ],
             [
              0.2222222222222222,
              "#7201a8"
             ],
             [
              0.3333333333333333,
              "#9c179e"
             ],
             [
              0.4444444444444444,
              "#bd3786"
             ],
             [
              0.5555555555555556,
              "#d8576b"
             ],
             [
              0.6666666666666666,
              "#ed7953"
             ],
             [
              0.7777777777777778,
              "#fb9f3a"
             ],
             [
              0.8888888888888888,
              "#fdca26"
             ],
             [
              1,
              "#f0f921"
             ]
            ],
            "type": "contour"
           }
          ],
          "contourcarpet": [
           {
            "colorbar": {
             "outlinewidth": 0,
             "ticks": ""
            },
            "type": "contourcarpet"
           }
          ],
          "heatmap": [
           {
            "colorbar": {
             "outlinewidth": 0,
             "ticks": ""
            },
            "colorscale": [
             [
              0,
              "#0d0887"
             ],
             [
              0.1111111111111111,
              "#46039f"
             ],
             [
              0.2222222222222222,
              "#7201a8"
             ],
             [
              0.3333333333333333,
              "#9c179e"
             ],
             [
              0.4444444444444444,
              "#bd3786"
             ],
             [
              0.5555555555555556,
              "#d8576b"
             ],
             [
              0.6666666666666666,
              "#ed7953"
             ],
             [
              0.7777777777777778,
              "#fb9f3a"
             ],
             [
              0.8888888888888888,
              "#fdca26"
             ],
             [
              1,
              "#f0f921"
             ]
            ],
            "type": "heatmap"
           }
          ],
          "heatmapgl": [
           {
            "colorbar": {
             "outlinewidth": 0,
             "ticks": ""
            },
            "colorscale": [
             [
              0,
              "#0d0887"
             ],
             [
              0.1111111111111111,
              "#46039f"
             ],
             [
              0.2222222222222222,
              "#7201a8"
             ],
             [
              0.3333333333333333,
              "#9c179e"
             ],
             [
              0.4444444444444444,
              "#bd3786"
             ],
             [
              0.5555555555555556,
              "#d8576b"
             ],
             [
              0.6666666666666666,
              "#ed7953"
             ],
             [
              0.7777777777777778,
              "#fb9f3a"
             ],
             [
              0.8888888888888888,
              "#fdca26"
             ],
             [
              1,
              "#f0f921"
             ]
            ],
            "type": "heatmapgl"
           }
          ],
          "histogram": [
           {
            "marker": {
             "pattern": {
              "fillmode": "overlay",
              "size": 10,
              "solidity": 0.2
             }
            },
            "type": "histogram"
           }
          ],
          "histogram2d": [
           {
            "colorbar": {
             "outlinewidth": 0,
             "ticks": ""
            },
            "colorscale": [
             [
              0,
              "#0d0887"
             ],
             [
              0.1111111111111111,
              "#46039f"
             ],
             [
              0.2222222222222222,
              "#7201a8"
             ],
             [
              0.3333333333333333,
              "#9c179e"
             ],
             [
              0.4444444444444444,
              "#bd3786"
             ],
             [
              0.5555555555555556,
              "#d8576b"
             ],
             [
              0.6666666666666666,
              "#ed7953"
             ],
             [
              0.7777777777777778,
              "#fb9f3a"
             ],
             [
              0.8888888888888888,
              "#fdca26"
             ],
             [
              1,
              "#f0f921"
             ]
            ],
            "type": "histogram2d"
           }
          ],
          "histogram2dcontour": [
           {
            "colorbar": {
             "outlinewidth": 0,
             "ticks": ""
            },
            "colorscale": [
             [
              0,
              "#0d0887"
             ],
             [
              0.1111111111111111,
              "#46039f"
             ],
             [
              0.2222222222222222,
              "#7201a8"
             ],
             [
              0.3333333333333333,
              "#9c179e"
             ],
             [
              0.4444444444444444,
              "#bd3786"
             ],
             [
              0.5555555555555556,
              "#d8576b"
             ],
             [
              0.6666666666666666,
              "#ed7953"
             ],
             [
              0.7777777777777778,
              "#fb9f3a"
             ],
             [
              0.8888888888888888,
              "#fdca26"
             ],
             [
              1,
              "#f0f921"
             ]
            ],
            "type": "histogram2dcontour"
           }
          ],
          "mesh3d": [
           {
            "colorbar": {
             "outlinewidth": 0,
             "ticks": ""
            },
            "type": "mesh3d"
           }
          ],
          "parcoords": [
           {
            "line": {
             "colorbar": {
              "outlinewidth": 0,
              "ticks": ""
             }
            },
            "type": "parcoords"
           }
          ],
          "pie": [
           {
            "automargin": true,
            "type": "pie"
           }
          ],
          "scatter": [
           {
            "marker": {
             "colorbar": {
              "outlinewidth": 0,
              "ticks": ""
             }
            },
            "type": "scatter"
           }
          ],
          "scatter3d": [
           {
            "line": {
             "colorbar": {
              "outlinewidth": 0,
              "ticks": ""
             }
            },
            "marker": {
             "colorbar": {
              "outlinewidth": 0,
              "ticks": ""
             }
            },
            "type": "scatter3d"
           }
          ],
          "scattercarpet": [
           {
            "marker": {
             "colorbar": {
              "outlinewidth": 0,
              "ticks": ""
             }
            },
            "type": "scattercarpet"
           }
          ],
          "scattergeo": [
           {
            "marker": {
             "colorbar": {
              "outlinewidth": 0,
              "ticks": ""
             }
            },
            "type": "scattergeo"
           }
          ],
          "scattergl": [
           {
            "marker": {
             "colorbar": {
              "outlinewidth": 0,
              "ticks": ""
             }
            },
            "type": "scattergl"
           }
          ],
          "scattermapbox": [
           {
            "marker": {
             "colorbar": {
              "outlinewidth": 0,
              "ticks": ""
             }
            },
            "type": "scattermapbox"
           }
          ],
          "scatterpolar": [
           {
            "marker": {
             "colorbar": {
              "outlinewidth": 0,
              "ticks": ""
             }
            },
            "type": "scatterpolar"
           }
          ],
          "scatterpolargl": [
           {
            "marker": {
             "colorbar": {
              "outlinewidth": 0,
              "ticks": ""
             }
            },
            "type": "scatterpolargl"
           }
          ],
          "scatterternary": [
           {
            "marker": {
             "colorbar": {
              "outlinewidth": 0,
              "ticks": ""
             }
            },
            "type": "scatterternary"
           }
          ],
          "surface": [
           {
            "colorbar": {
             "outlinewidth": 0,
             "ticks": ""
            },
            "colorscale": [
             [
              0,
              "#0d0887"
             ],
             [
              0.1111111111111111,
              "#46039f"
             ],
             [
              0.2222222222222222,
              "#7201a8"
             ],
             [
              0.3333333333333333,
              "#9c179e"
             ],
             [
              0.4444444444444444,
              "#bd3786"
             ],
             [
              0.5555555555555556,
              "#d8576b"
             ],
             [
              0.6666666666666666,
              "#ed7953"
             ],
             [
              0.7777777777777778,
              "#fb9f3a"
             ],
             [
              0.8888888888888888,
              "#fdca26"
             ],
             [
              1,
              "#f0f921"
             ]
            ],
            "type": "surface"
           }
          ],
          "table": [
           {
            "cells": {
             "fill": {
              "color": "#EBF0F8"
             },
             "line": {
              "color": "white"
             }
            },
            "header": {
             "fill": {
              "color": "#C8D4E3"
             },
             "line": {
              "color": "white"
             }
            },
            "type": "table"
           }
          ]
         },
         "layout": {
          "annotationdefaults": {
           "arrowcolor": "#2a3f5f",
           "arrowhead": 0,
           "arrowwidth": 1
          },
          "autotypenumbers": "strict",
          "coloraxis": {
           "colorbar": {
            "outlinewidth": 0,
            "ticks": ""
           }
          },
          "colorscale": {
           "diverging": [
            [
             0,
             "#8e0152"
            ],
            [
             0.1,
             "#c51b7d"
            ],
            [
             0.2,
             "#de77ae"
            ],
            [
             0.3,
             "#f1b6da"
            ],
            [
             0.4,
             "#fde0ef"
            ],
            [
             0.5,
             "#f7f7f7"
            ],
            [
             0.6,
             "#e6f5d0"
            ],
            [
             0.7,
             "#b8e186"
            ],
            [
             0.8,
             "#7fbc41"
            ],
            [
             0.9,
             "#4d9221"
            ],
            [
             1,
             "#276419"
            ]
           ],
           "sequential": [
            [
             0,
             "#0d0887"
            ],
            [
             0.1111111111111111,
             "#46039f"
            ],
            [
             0.2222222222222222,
             "#7201a8"
            ],
            [
             0.3333333333333333,
             "#9c179e"
            ],
            [
             0.4444444444444444,
             "#bd3786"
            ],
            [
             0.5555555555555556,
             "#d8576b"
            ],
            [
             0.6666666666666666,
             "#ed7953"
            ],
            [
             0.7777777777777778,
             "#fb9f3a"
            ],
            [
             0.8888888888888888,
             "#fdca26"
            ],
            [
             1,
             "#f0f921"
            ]
           ],
           "sequentialminus": [
            [
             0,
             "#0d0887"
            ],
            [
             0.1111111111111111,
             "#46039f"
            ],
            [
             0.2222222222222222,
             "#7201a8"
            ],
            [
             0.3333333333333333,
             "#9c179e"
            ],
            [
             0.4444444444444444,
             "#bd3786"
            ],
            [
             0.5555555555555556,
             "#d8576b"
            ],
            [
             0.6666666666666666,
             "#ed7953"
            ],
            [
             0.7777777777777778,
             "#fb9f3a"
            ],
            [
             0.8888888888888888,
             "#fdca26"
            ],
            [
             1,
             "#f0f921"
            ]
           ]
          },
          "colorway": [
           "#636efa",
           "#EF553B",
           "#00cc96",
           "#ab63fa",
           "#FFA15A",
           "#19d3f3",
           "#FF6692",
           "#B6E880",
           "#FF97FF",
           "#FECB52"
          ],
          "font": {
           "color": "#2a3f5f"
          },
          "geo": {
           "bgcolor": "white",
           "lakecolor": "white",
           "landcolor": "#E5ECF6",
           "showlakes": true,
           "showland": true,
           "subunitcolor": "white"
          },
          "hoverlabel": {
           "align": "left"
          },
          "hovermode": "closest",
          "mapbox": {
           "style": "light"
          },
          "paper_bgcolor": "white",
          "plot_bgcolor": "#E5ECF6",
          "polar": {
           "angularaxis": {
            "gridcolor": "white",
            "linecolor": "white",
            "ticks": ""
           },
           "bgcolor": "#E5ECF6",
           "radialaxis": {
            "gridcolor": "white",
            "linecolor": "white",
            "ticks": ""
           }
          },
          "scene": {
           "xaxis": {
            "backgroundcolor": "#E5ECF6",
            "gridcolor": "white",
            "gridwidth": 2,
            "linecolor": "white",
            "showbackground": true,
            "ticks": "",
            "zerolinecolor": "white"
           },
           "yaxis": {
            "backgroundcolor": "#E5ECF6",
            "gridcolor": "white",
            "gridwidth": 2,
            "linecolor": "white",
            "showbackground": true,
            "ticks": "",
            "zerolinecolor": "white"
           },
           "zaxis": {
            "backgroundcolor": "#E5ECF6",
            "gridcolor": "white",
            "gridwidth": 2,
            "linecolor": "white",
            "showbackground": true,
            "ticks": "",
            "zerolinecolor": "white"
           }
          },
          "shapedefaults": {
           "line": {
            "color": "#2a3f5f"
           }
          },
          "ternary": {
           "aaxis": {
            "gridcolor": "white",
            "linecolor": "white",
            "ticks": ""
           },
           "baxis": {
            "gridcolor": "white",
            "linecolor": "white",
            "ticks": ""
           },
           "bgcolor": "#E5ECF6",
           "caxis": {
            "gridcolor": "white",
            "linecolor": "white",
            "ticks": ""
           }
          },
          "title": {
           "x": 0.05
          },
          "xaxis": {
           "automargin": true,
           "gridcolor": "white",
           "linecolor": "white",
           "ticks": "",
           "title": {
            "standoff": 15
           },
           "zerolinecolor": "white",
           "zerolinewidth": 2
          },
          "yaxis": {
           "automargin": true,
           "gridcolor": "white",
           "linecolor": "white",
           "ticks": "",
           "title": {
            "standoff": 15
           },
           "zerolinecolor": "white",
           "zerolinewidth": 2
          }
         }
        },
        "xaxis": {
         "anchor": "y",
         "domain": [
          0,
          1
         ],
         "title": {
          "text": "posterior"
         }
        },
        "yaxis": {
         "anchor": "x",
         "domain": [
          0,
          1
         ],
         "title": {
          "text": "prior"
         }
        }
       }
      }
     },
     "metadata": {},
     "output_type": "display_data"
    }
   ],
   "source": [
    "import plotly.express as px\n",
    "df = pd.DataFrame(d).T.reset_index()\n",
    "df.columns = ['team', *df.columns[1:]]\n",
    "fig = px.scatter(df, x='posterior', y='prior', color='team')\n",
    "fig.update_traces(hovertemplate=' ')"
   ]
  },
  {
   "cell_type": "markdown",
   "metadata": {},
   "source": [
    "# P(winning | leading at halftime)"
   ]
  },
  {
   "cell_type": "code",
   "execution_count": 38,
   "metadata": {},
   "outputs": [
    {
     "name": "stderr",
     "output_type": "stream",
     "text": [
      "100%|██████████| 30/30 [1:22:13<00:00, 164.45s/it]\n"
     ]
    }
   ],
   "source": [
    "import warnings\n",
    "from pandas.core.common import SettingWithCopyWarning\n",
    "warnings.simplefilter(action=\"ignore\", category=SettingWithCopyWarning)\n",
    "\n",
    "s = get_schedule(2020, playoffs=False)\n",
    "teams = list(s['HOME'].unique())\n",
    "s['HOME_PTS'] = s['HOME_PTS'].astype(int)\n",
    "s['VISITOR_PTS'] = s['VISITOR_PTS'].astype(int)\n",
    "half_dict = {}\n",
    "for team in tqdm(teams):\n",
    "    home_games = s[s['HOME'] == team]\n",
    "    visitor_games = s[s['VISITOR'] == team]\n",
    "    home_games['TEAM_WON'] = home_games.apply(lambda x: x['HOME_PTS'] > x['VISITOR_PTS'], axis=1)\n",
    "    visitor_games['TEAM_WON'] = visitor_games.apply(lambda x: x['VISITOR_PTS'] > x['HOME_PTS'], axis=1)\n",
    "    num_wins = sum(home_games['TEAM_WON'].astype(int)) + sum(visitor_games['TEAM_WON'].astype(int))\n",
    "    num_games = (len(home_games) + len(visitor_games))\n",
    "    prior = num_wins / num_games\n",
    "    marginal = 0\n",
    "    likelihood = 0\n",
    "    for i, row in home_games.iterrows():\n",
    "        # if i == 0:\n",
    "        #     print(row['VISITOR'], row['HOME'])\n",
    "        pbp = get_pbp(row['DATE'], TEAM_ABBREVS[row['VISITOR'].upper()], TEAM_ABBREVS[row['HOME'].upper()])\n",
    "        pbp_half = pbp[pbp['QUARTER'] == 3]\n",
    "        team_up_at_half = pbp_half.iloc[0, len(pbp_half.columns)-1] > pbp_half.iloc[0, len(pbp_half.columns)-2]\n",
    "        if team_up_at_half:\n",
    "            marginal += 1\n",
    "        if team_up_at_half and row['TEAM_WON']:\n",
    "            likelihood += 1\n",
    "    for i, row in visitor_games.iterrows():\n",
    "        # if i == 0:\n",
    "        #     print(row['VISITOR'], row['HOME'])\n",
    "        pbp = get_pbp(row['DATE'], TEAM_ABBREVS[row['VISITOR'].upper()], TEAM_ABBREVS[row['HOME'].upper()])\n",
    "        pbp_half = pbp[pbp['QUARTER'] == 3]\n",
    "        team_up_at_half = pbp_half.iloc[0, len(pbp_half.columns)-2] > pbp_half.iloc[0, len(pbp_half.columns)-1]\n",
    "        if team_up_at_half:\n",
    "            marginal += 1\n",
    "        if team_up_at_half and row['TEAM_WON']:\n",
    "            likelihood += 1\n",
    "    likelihood /= num_wins\n",
    "    marginal /= num_games   \n",
    "    posterior = (prior * likelihood) / marginal\n",
    "    half_dict[team] = {\n",
    "        'num_wins': num_wins,\n",
    "        'num_games': num_games,\n",
    "        'prior': prior,\n",
    "        'likelihood': likelihood,\n",
    "        'marginal': marginal,\n",
    "        'posterior': posterior\n",
    "    }"
   ]
  },
  {
   "cell_type": "code",
   "execution_count": 40,
   "metadata": {},
   "outputs": [
    {
     "data": {
      "image/png": "[encoded data removed]",
      "text/plain": [
       "<Figure size 864x576 with 1 Axes>"
      ]
     },
     "metadata": {
      "needs_background": "light"
     },
     "output_type": "display_data"
    }
   ],
   "source": [
    "from collections import OrderedDict\n",
    "sorted_dict = OrderedDict(sorted(half_dict.items(), key=lambda kv: kv[1]['posterior'], reverse=True))\n",
    "sorted_posteriors = {k: v['posterior'] for k, v in sorted_dict.items()}\n",
    "fig = plt.figure(figsize=(12,8))\n",
    "plt.bar(sorted_posteriors.keys(), sorted_posteriors.values())\n",
    "plt.xticks(rotation=90);"
   ]
  },
  {
   "cell_type": "code",
   "execution_count": 39,
   "metadata": {},
   "outputs": [
    {
     "data": {
      "application/vnd.plotly.v1+json": {
       "config": {
        "plotlyServerURL": "https://plot.ly"
       },
       "data": [
        {
         "hovertemplate": " ",
         "legendgroup": "Toronto Raptors",
         "marker": {
          "color": "#636efa",
          "symbol": "circle"
         },
         "mode": "markers",
         "name": "Toronto Raptors",
         "orientation": "v",
         "showlegend": true,
         "type": "scatter",
         "x": [
          0.8999999999999999
         ],
         "xaxis": "x",
         "y": [
          0.7361111111111112
         ],
         "yaxis": "y"
        },
        {
         "hovertemplate": " ",
         "legendgroup": "Los Angeles Clippers",
         "marker": {
          "color": "#EF553B",
          "symbol": "circle"
         },
         "mode": "markers",
         "name": "Los Angeles Clippers",
         "orientation": "v",
         "showlegend": true,
         "type": "scatter",
         "x": [
          0.8571428571428571
         ],
         "xaxis": "x",
         "y": [
          0.6805555555555556
         ],
         "yaxis": "y"
        },
        {
         "hovertemplate": " ",
         "legendgroup": "Portland Trail Blazers",
         "marker": {
          "color": "#00cc96",
          "symbol": "circle"
         },
         "mode": "markers",
         "name": "Portland Trail Blazers",
         "orientation": "v",
         "showlegend": true,
         "type": "scatter",
         "x": [
          0.7317073170731708
         ],
         "xaxis": "x",
         "y": [
          0.48
         ],
         "yaxis": "y"
        },
        {
         "hovertemplate": " ",
         "legendgroup": "Phoenix Suns",
         "marker": {
          "color": "#ab63fa",
          "symbol": "circle"
         },
         "mode": "markers",
         "name": "Phoenix Suns",
         "orientation": "v",
         "showlegend": true,
         "type": "scatter",
         "x": [
          0.6666666666666666
         ],
         "xaxis": "x",
         "y": [
          0.4657534246575342
         ],
         "yaxis": "y"
        },
        {
         "hovertemplate": " ",
         "legendgroup": "Utah Jazz",
         "marker": {
          "color": "#FFA15A",
          "symbol": "circle"
         },
         "mode": "markers",
         "name": "Utah Jazz",
         "orientation": "v",
         "showlegend": true,
         "type": "scatter",
         "x": [
          0.823529411764706
         ],
         "xaxis": "x",
         "y": [
          0.6111111111111112
         ],
         "yaxis": "y"
        },
        {
         "hovertemplate": " ",
         "legendgroup": "Dallas Mavericks",
         "marker": {
          "color": "#19d3f3",
          "symbol": "circle"
         },
         "mode": "markers",
         "name": "Dallas Mavericks",
         "orientation": "v",
         "showlegend": true,
         "type": "scatter",
         "x": [
          0.7209302325581395
         ],
         "xaxis": "x",
         "y": [
          0.5733333333333334
         ],
         "yaxis": "y"
        },
        {
         "hovertemplate": " ",
         "legendgroup": "Philadelphia 76ers",
         "marker": {
          "color": "#FF6692",
          "symbol": "circle"
         },
         "mode": "markers",
         "name": "Philadelphia 76ers",
         "orientation": "v",
         "showlegend": true,
         "type": "scatter",
         "x": [
          0.775
         ],
         "xaxis": "x",
         "y": [
          0.589041095890411
         ],
         "yaxis": "y"
        },
        {
         "hovertemplate": " ",
         "legendgroup": "San Antonio Spurs",
         "marker": {
          "color": "#B6E880",
          "symbol": "circle"
         },
         "mode": "markers",
         "name": "San Antonio Spurs",
         "orientation": "v",
         "showlegend": true,
         "type": "scatter",
         "x": [
          0.6785714285714287
         ],
         "xaxis": "x",
         "y": [
          0.4507042253521127
         ],
         "yaxis": "y"
        },
        {
         "hovertemplate": " ",
         "legendgroup": "Brooklyn Nets",
         "marker": {
          "color": "#FF97FF",
          "symbol": "circle"
         },
         "mode": "markers",
         "name": "Brooklyn Nets",
         "orientation": "v",
         "showlegend": true,
         "type": "scatter",
         "x": [
          0.6428571428571428
         ],
         "xaxis": "x",
         "y": [
          0.4861111111111111
         ],
         "yaxis": "y"
        },
        {
         "hovertemplate": " ",
         "legendgroup": "Orlando Magic",
         "marker": {
          "color": "#FECB52",
          "symbol": "circle"
         },
         "mode": "markers",
         "name": "Orlando Magic",
         "orientation": "v",
         "showlegend": true,
         "type": "scatter",
         "x": [
          0.71875
         ],
         "xaxis": "x",
         "y": [
          0.4520547945205479
         ],
         "yaxis": "y"
        },
        {
         "hovertemplate": " ",
         "legendgroup": "Indiana Pacers",
         "marker": {
          "color": "#636efa",
          "symbol": "circle"
         },
         "mode": "markers",
         "name": "Indiana Pacers",
         "orientation": "v",
         "showlegend": true,
         "type": "scatter",
         "x": [
          0.846153846153846
         ],
         "xaxis": "x",
         "y": [
          0.6164383561643836
         ],
         "yaxis": "y"
        },
        {
         "hovertemplate": " ",
         "legendgroup": "Charlotte Hornets",
         "marker": {
          "color": "#EF553B",
          "symbol": "circle"
         },
         "mode": "markers",
         "name": "Charlotte Hornets",
         "orientation": "v",
         "showlegend": true,
         "type": "scatter",
         "x": [
          0.5199999999999999
         ],
         "xaxis": "x",
         "y": [
          0.35384615384615387
         ],
         "yaxis": "y"
        },
        {
         "hovertemplate": " ",
         "legendgroup": "Miami Heat",
         "marker": {
          "color": "#00cc96",
          "symbol": "circle"
         },
         "mode": "markers",
         "name": "Miami Heat",
         "orientation": "v",
         "showlegend": true,
         "type": "scatter",
         "x": [
          0.7555555555555555
         ],
         "xaxis": "x",
         "y": [
          0.6027397260273972
         ],
         "yaxis": "y"
        },
        {
         "hovertemplate": " ",
         "legendgroup": "Detroit Pistons",
         "marker": {
          "color": "#ab63fa",
          "symbol": "circle"
         },
         "mode": "markers",
         "name": "Detroit Pistons",
         "orientation": "v",
         "showlegend": true,
         "type": "scatter",
         "x": [
          0.5714285714285715
         ],
         "xaxis": "x",
         "y": [
          0.30303030303030304
         ],
         "yaxis": "y"
        },
        {
         "hovertemplate": " ",
         "legendgroup": "Houston Rockets",
         "marker": {
          "color": "#FFA15A",
          "symbol": "circle"
         },
         "mode": "markers",
         "name": "Houston Rockets",
         "orientation": "v",
         "showlegend": true,
         "type": "scatter",
         "x": [
          0.8205128205128206
         ],
         "xaxis": "x",
         "y": [
          0.6111111111111112
         ],
         "yaxis": "y"
        },
        {
         "hovertemplate": " ",
         "legendgroup": "Golden State Warriors",
         "marker": {
          "color": "#19d3f3",
          "symbol": "circle"
         },
         "mode": "markers",
         "name": "Golden State Warriors",
         "orientation": "v",
         "showlegend": true,
         "type": "scatter",
         "x": [
          0.42105263157894735
         ],
         "xaxis": "x",
         "y": [
          0.23076923076923078
         ],
         "yaxis": "y"
        },
        {
         "hovertemplate": " ",
         "legendgroup": "Denver Nuggets",
         "marker": {
          "color": "#FF6692",
          "symbol": "circle"
         },
         "mode": "markers",
         "name": "Denver Nuggets",
         "orientation": "v",
         "showlegend": true,
         "type": "scatter",
         "x": [
          0.7714285714285716
         ],
         "xaxis": "x",
         "y": [
          0.6301369863013698
         ],
         "yaxis": "y"
        },
        {
         "hovertemplate": " ",
         "legendgroup": "Los Angeles Lakers",
         "marker": {
          "color": "#B6E880",
          "symbol": "circle"
         },
         "mode": "markers",
         "name": "Los Angeles Lakers",
         "orientation": "v",
         "showlegend": true,
         "type": "scatter",
         "x": [
          0.8636363636363636
         ],
         "xaxis": "x",
         "y": [
          0.7323943661971831
         ],
         "yaxis": "y"
        },
        {
         "hovertemplate": " ",
         "legendgroup": "Sacramento Kings",
         "marker": {
          "color": "#FF97FF",
          "symbol": "circle"
         },
         "mode": "markers",
         "name": "Sacramento Kings",
         "orientation": "v",
         "showlegend": true,
         "type": "scatter",
         "x": [
          0.7058823529411765
         ],
         "xaxis": "x",
         "y": [
          0.4305555555555556
         ],
         "yaxis": "y"
        },
        {
         "hovertemplate": " ",
         "legendgroup": "Oklahoma City Thunder",
         "marker": {
          "color": "#FECB52",
          "symbol": "circle"
         },
         "mode": "markers",
         "name": "Oklahoma City Thunder",
         "orientation": "v",
         "showlegend": true,
         "type": "scatter",
         "x": [
          0.7619047619047619
         ],
         "xaxis": "x",
         "y": [
          0.6111111111111112
         ],
         "yaxis": "y"
        },
        {
         "hovertemplate": " ",
         "legendgroup": "Memphis Grizzlies",
         "marker": {
          "color": "#636efa",
          "symbol": "circle"
         },
         "mode": "markers",
         "name": "Memphis Grizzlies",
         "orientation": "v",
         "showlegend": true,
         "type": "scatter",
         "x": [
          0.8181818181818181
         ],
         "xaxis": "x",
         "y": [
          0.4594594594594595
         ],
         "yaxis": "y"
        },
        {
         "hovertemplate": " ",
         "legendgroup": "Boston Celtics",
         "marker": {
          "color": "#EF553B",
          "symbol": "circle"
         },
         "mode": "markers",
         "name": "Boston Celtics",
         "orientation": "v",
         "showlegend": true,
         "type": "scatter",
         "x": [
          0.8372093023255814
         ],
         "xaxis": "x",
         "y": [
          0.6666666666666666
         ],
         "yaxis": "y"
        },
        {
         "hovertemplate": " ",
         "legendgroup": "New Orleans Pelicans",
         "marker": {
          "color": "#00cc96",
          "symbol": "circle"
         },
         "mode": "markers",
         "name": "New Orleans Pelicans",
         "orientation": "v",
         "showlegend": true,
         "type": "scatter",
         "x": [
          0.7777777777777778
         ],
         "xaxis": "x",
         "y": [
          0.4166666666666667
         ],
         "yaxis": "y"
        },
        {
         "hovertemplate": " ",
         "legendgroup": "Milwaukee Bucks",
         "marker": {
          "color": "#ab63fa",
          "symbol": "circle"
         },
         "mode": "markers",
         "name": "Milwaukee Bucks",
         "orientation": "v",
         "showlegend": true,
         "type": "scatter",
         "x": [
          0.92
         ],
         "xaxis": "x",
         "y": [
          0.7671232876712328
         ],
         "yaxis": "y"
        },
        {
         "hovertemplate": " ",
         "legendgroup": "Atlanta Hawks",
         "marker": {
          "color": "#FFA15A",
          "symbol": "circle"
         },
         "mode": "markers",
         "name": "Atlanta Hawks",
         "orientation": "v",
         "showlegend": true,
         "type": "scatter",
         "x": [
          0.5217391304347826
         ],
         "xaxis": "x",
         "y": [
          0.29850746268656714
         ],
         "yaxis": "y"
        },
        {
         "hovertemplate": " ",
         "legendgroup": "New York Knicks",
         "marker": {
          "color": "#19d3f3",
          "symbol": "circle"
         },
         "mode": "markers",
         "name": "New York Knicks",
         "orientation": "v",
         "showlegend": true,
         "type": "scatter",
         "x": [
          0.6153846153846153
         ],
         "xaxis": "x",
         "y": [
          0.3181818181818182
         ],
         "yaxis": "y"
        },
        {
         "hovertemplate": " ",
         "legendgroup": "Chicago Bulls",
         "marker": {
          "color": "#FF6692",
          "symbol": "circle"
         },
         "mode": "markers",
         "name": "Chicago Bulls",
         "orientation": "v",
         "showlegend": true,
         "type": "scatter",
         "x": [
          0.5
         ],
         "xaxis": "x",
         "y": [
          0.3384615384615385
         ],
         "yaxis": "y"
        },
        {
         "hovertemplate": " ",
         "legendgroup": "Cleveland Cavaliers",
         "marker": {
          "color": "#B6E880",
          "symbol": "circle"
         },
         "mode": "markers",
         "name": "Cleveland Cavaliers",
         "orientation": "v",
         "showlegend": true,
         "type": "scatter",
         "x": [
          0.6666666666666666
         ],
         "xaxis": "x",
         "y": [
          0.2923076923076923
         ],
         "yaxis": "y"
        },
        {
         "hovertemplate": " ",
         "legendgroup": "Minnesota Timberwolves",
         "marker": {
          "color": "#FF97FF",
          "symbol": "circle"
         },
         "mode": "markers",
         "name": "Minnesota Timberwolves",
         "orientation": "v",
         "showlegend": true,
         "type": "scatter",
         "x": [
          0.5416666666666666
         ],
         "xaxis": "x",
         "y": [
          0.296875
         ],
         "yaxis": "y"
        },
        {
         "hovertemplate": " ",
         "legendgroup": "Washington Wizards",
         "marker": {
          "color": "#FECB52",
          "symbol": "circle"
         },
         "mode": "markers",
         "name": "Washington Wizards",
         "orientation": "v",
         "showlegend": true,
         "type": "scatter",
         "x": [
          0.6428571428571428
         ],
         "xaxis": "x",
         "y": [
          0.3472222222222222
         ],
         "yaxis": "y"
        }
       ],
       "layout": {
        "legend": {
         "title": {
          "text": "team"
         },
         "tracegroupgap": 0
        },
        "margin": {
         "t": 60
        },
        "template": {
         "data": {
          "bar": [
           {
            "error_x": {
             "color": "#2a3f5f"
            },
            "error_y": {
             "color": "#2a3f5f"
            },
            "marker": {
             "line": {
              "color": "#E5ECF6",
              "width": 0.5
             },
             "pattern": {
              "fillmode": "overlay",
              "size": 10,
              "solidity": 0.2
             }
            },
            "type": "bar"
           }
          ],
          "barpolar": [
           {
            "marker": {
             "line": {
              "color": "#E5ECF6",
              "width": 0.5
             },
             "pattern": {
              "fillmode": "overlay",
              "size": 10,
              "solidity": 0.2
             }
            },
            "type": "barpolar"
           }
          ],
          "carpet": [
           {
            "aaxis": {
             "endlinecolor": "#2a3f5f",
             "gridcolor": "white",
             "linecolor": "white",
             "minorgridcolor": "white",
             "startlinecolor": "#2a3f5f"
            },
            "baxis": {
             "endlinecolor": "#2a3f5f",
             "gridcolor": "white",
             "linecolor": "white",
             "minorgridcolor": "white",
             "startlinecolor": "#2a3f5f"
            },
            "type": "carpet"
           }
          ],
          "choropleth": [
           {
            "colorbar": {
             "outlinewidth": 0,
             "ticks": ""
            },
            "type": "choropleth"
           }
          ],
          "contour": [
           {
            "colorbar": {
             "outlinewidth": 0,
             "ticks": ""
            },
            "colorscale": [
             [
              0,
              "#0d0887"
             ],
             [
              0.1111111111111111,
              "#46039f"
             ],
             [
              0.2222222222222222,
              "#7201a8"
             ],
             [
              0.3333333333333333,
              "#9c179e"
             ],
             [
              0.4444444444444444,
              "#bd3786"
             ],
             [
              0.5555555555555556,
              "#d8576b"
             ],
             [
              0.6666666666666666,
              "#ed7953"
             ],
             [
              0.7777777777777778,
              "#fb9f3a"
             ],
             [
              0.8888888888888888,
              "#fdca26"
             ],
             [
              1,
              "#f0f921"
             ]
            ],
            "type": "contour"
           }
          ],
          "contourcarpet": [
           {
            "colorbar": {
             "outlinewidth": 0,
             "ticks": ""
            },
            "type": "contourcarpet"
           }
          ],
          "heatmap": [
           {
            "colorbar": {
             "outlinewidth": 0,
             "ticks": ""
            },
            "colorscale": [
             [
              0,
              "#0d0887"
             ],
             [
              0.1111111111111111,
              "#46039f"
             ],
             [
              0.2222222222222222,
              "#7201a8"
             ],
             [
              0.3333333333333333,
              "#9c179e"
             ],
             [
              0.4444444444444444,
              "#bd3786"
             ],
             [
              0.5555555555555556,
              "#d8576b"
             ],
             [
              0.6666666666666666,
              "#ed7953"
             ],
             [
              0.7777777777777778,
              "#fb9f3a"
             ],
             [
              0.8888888888888888,
              "#fdca26"
             ],
             [
              1,
              "#f0f921"
             ]
            ],
            "type": "heatmap"
           }
          ],
          "heatmapgl": [
           {
            "colorbar": {
             "outlinewidth": 0,
             "ticks": ""
            },
            "colorscale": [
             [
              0,
              "#0d0887"
             ],
             [
              0.1111111111111111,
              "#46039f"
             ],
             [
              0.2222222222222222,
              "#7201a8"
             ],
             [
              0.3333333333333333,
              "#9c179e"
             ],
             [
              0.4444444444444444,
              "#bd3786"
             ],
             [
              0.5555555555555556,
              "#d8576b"
             ],
             [
              0.6666666666666666,
              "#ed7953"
             ],
             [
              0.7777777777777778,
              "#fb9f3a"
             ],
             [
              0.8888888888888888,
              "#fdca26"
             ],
             [
              1,
              "#f0f921"
             ]
            ],
            "type": "heatmapgl"
           }
          ],
          "histogram": [
           {
            "marker": {
             "pattern": {
              "fillmode": "overlay",
              "size": 10,
              "solidity": 0.2
             }
            },
            "type": "histogram"
           }
          ],
          "histogram2d": [
           {
            "colorbar": {
             "outlinewidth": 0,
             "ticks": ""
            },
            "colorscale": [
             [
              0,
              "#0d0887"
             ],
             [
              0.1111111111111111,
              "#46039f"
             ],
             [
              0.2222222222222222,
              "#7201a8"
             ],
             [
              0.3333333333333333,
              "#9c179e"
             ],
             [
              0.4444444444444444,
              "#bd3786"
             ],
             [
              0.5555555555555556,
              "#d8576b"
             ],
             [
              0.6666666666666666,
              "#ed7953"
             ],
             [
              0.7777777777777778,
              "#fb9f3a"
             ],
             [
              0.8888888888888888,
              "#fdca26"
             ],
             [
              1,
              "#f0f921"
             ]
            ],
            "type": "histogram2d"
           }
          ],
          "histogram2dcontour": [
           {
            "colorbar": {
             "outlinewidth": 0,
             "ticks": ""
            },
            "colorscale": [
             [
              0,
              "#0d0887"
             ],
             [
              0.1111111111111111,
              "#46039f"
             ],
             [
              0.2222222222222222,
              "#7201a8"
             ],
             [
              0.3333333333333333,
              "#9c179e"
             ],
             [
              0.4444444444444444,
              "#bd3786"
             ],
             [
              0.5555555555555556,
              "#d8576b"
             ],
             [
              0.6666666666666666,
              "#ed7953"
             ],
             [
              0.7777777777777778,
              "#fb9f3a"
             ],
             [
              0.8888888888888888,
              "#fdca26"
             ],
             [
              1,
              "#f0f921"
             ]
            ],
            "type": "histogram2dcontour"
           }
          ],
          "mesh3d": [
           {
            "colorbar": {
             "outlinewidth": 0,
             "ticks": ""
            },
            "type": "mesh3d"
           }
          ],
          "parcoords": [
           {
            "line": {
             "colorbar": {
              "outlinewidth": 0,
              "ticks": ""
             }
            },
            "type": "parcoords"
           }
          ],
          "pie": [
           {
            "automargin": true,
            "type": "pie"
           }
          ],
          "scatter": [
           {
            "marker": {
             "colorbar": {
              "outlinewidth": 0,
              "ticks": ""
             }
            },
            "type": "scatter"
           }
          ],
          "scatter3d": [
           {
            "line": {
             "colorbar": {
              "outlinewidth": 0,
              "ticks": ""
             }
            },
            "marker": {
             "colorbar": {
              "outlinewidth": 0,
              "ticks": ""
             }
            },
            "type": "scatter3d"
           }
          ],
          "scattercarpet": [
           {
            "marker": {
             "colorbar": {
              "outlinewidth": 0,
              "ticks": ""
             }
            },
            "type": "scattercarpet"
           }
          ],
          "scattergeo": [
           {
            "marker": {
             "colorbar": {
              "outlinewidth": 0,
              "ticks": ""
             }
            },
            "type": "scattergeo"
           }
          ],
          "scattergl": [
           {
            "marker": {
             "colorbar": {
              "outlinewidth": 0,
              "ticks": ""
             }
            },
            "type": "scattergl"
           }
          ],
          "scattermapbox": [
           {
            "marker": {
             "colorbar": {
              "outlinewidth": 0,
              "ticks": ""
             }
            },
            "type": "scattermapbox"
           }
          ],
          "scatterpolar": [
           {
            "marker": {
             "colorbar": {
              "outlinewidth": 0,
              "ticks": ""
             }
            },
            "type": "scatterpolar"
           }
          ],
          "scatterpolargl": [
           {
            "marker": {
             "colorbar": {
              "outlinewidth": 0,
              "ticks": ""
             }
            },
            "type": "scatterpolargl"
           }
          ],
          "scatterternary": [
           {
            "marker": {
             "colorbar": {
              "outlinewidth": 0,
              "ticks": ""
             }
            },
            "type": "scatterternary"
           }
          ],
          "surface": [
           {
            "colorbar": {
             "outlinewidth": 0,
             "ticks": ""
            },
            "colorscale": [
             [
              0,
              "#0d0887"
             ],
             [
              0.1111111111111111,
              "#46039f"
             ],
             [
              0.2222222222222222,
              "#7201a8"
             ],
             [
              0.3333333333333333,
              "#9c179e"
             ],
             [
              0.4444444444444444,
              "#bd3786"
             ],
             [
              0.5555555555555556,
              "#d8576b"
             ],
             [
              0.6666666666666666,
              "#ed7953"
             ],
             [
              0.7777777777777778,
              "#fb9f3a"
             ],
             [
              0.8888888888888888,
              "#fdca26"
             ],
             [
              1,
              "#f0f921"
             ]
            ],
            "type": "surface"
           }
          ],
          "table": [
           {
            "cells": {
             "fill": {
              "color": "#EBF0F8"
             },
             "line": {
              "color": "white"
             }
            },
            "header": {
             "fill": {
              "color": "#C8D4E3"
             },
             "line": {
              "color": "white"
             }
            },
            "type": "table"
           }
          ]
         },
         "layout": {
          "annotationdefaults": {
           "arrowcolor": "#2a3f5f",
           "arrowhead": 0,
           "arrowwidth": 1
          },
          "autotypenumbers": "strict",
          "coloraxis": {
           "colorbar": {
            "outlinewidth": 0,
            "ticks": ""
           }
          },
          "colorscale": {
           "diverging": [
            [
             0,
             "#8e0152"
            ],
            [
             0.1,
             "#c51b7d"
            ],
            [
             0.2,
             "#de77ae"
            ],
            [
             0.3,
             "#f1b6da"
            ],
            [
             0.4,
             "#fde0ef"
            ],
            [
             0.5,
             "#f7f7f7"
            ],
            [
             0.6,
             "#e6f5d0"
            ],
            [
             0.7,
             "#b8e186"
            ],
            [
             0.8,
             "#7fbc41"
            ],
            [
             0.9,
             "#4d9221"
            ],
            [
             1,
             "#276419"
            ]
           ],
           "sequential": [
            [
             0,
             "#0d0887"
            ],
            [
             0.1111111111111111,
             "#46039f"
            ],
            [
             0.2222222222222222,
             "#7201a8"
            ],
            [
             0.3333333333333333,
             "#9c179e"
            ],
            [
             0.4444444444444444,
             "#bd3786"
            ],
            [
             0.5555555555555556,
             "#d8576b"
            ],
            [
             0.6666666666666666,
             "#ed7953"
            ],
            [
             0.7777777777777778,
             "#fb9f3a"
            ],
            [
             0.8888888888888888,
             "#fdca26"
            ],
            [
             1,
             "#f0f921"
            ]
           ],
           "sequentialminus": [
            [
             0,
             "#0d0887"
            ],
            [
             0.1111111111111111,
             "#46039f"
            ],
            [
             0.2222222222222222,
             "#7201a8"
            ],
            [
             0.3333333333333333,
             "#9c179e"
            ],
            [
             0.4444444444444444,
             "#bd3786"
            ],
            [
             0.5555555555555556,
             "#d8576b"
            ],
            [
             0.6666666666666666,
             "#ed7953"
            ],
            [
             0.7777777777777778,
             "#fb9f3a"
            ],
            [
             0.8888888888888888,
             "#fdca26"
            ],
            [
             1,
             "#f0f921"
            ]
           ]
          },
          "colorway": [
           "#636efa",
           "#EF553B",
           "#00cc96",
           "#ab63fa",
           "#FFA15A",
           "#19d3f3",
           "#FF6692",
           "#B6E880",
           "#FF97FF",
           "#FECB52"
          ],
          "font": {
           "color": "#2a3f5f"
          },
          "geo": {
           "bgcolor": "white",
           "lakecolor": "white",
           "landcolor": "#E5ECF6",
           "showlakes": true,
           "showland": true,
           "subunitcolor": "white"
          },
          "hoverlabel": {
           "align": "left"
          },
          "hovermode": "closest",
          "mapbox": {
           "style": "light"
          },
          "paper_bgcolor": "white",
          "plot_bgcolor": "#E5ECF6",
          "polar": {
           "angularaxis": {
            "gridcolor": "white",
            "linecolor": "white",
            "ticks": ""
           },
           "bgcolor": "#E5ECF6",
           "radialaxis": {
            "gridcolor": "white",
            "linecolor": "white",
            "ticks": ""
           }
          },
          "scene": {
           "xaxis": {
            "backgroundcolor": "#E5ECF6",
            "gridcolor": "white",
            "gridwidth": 2,
            "linecolor": "white",
            "showbackground": true,
            "ticks": "",
            "zerolinecolor": "white"
           },
           "yaxis": {
            "backgroundcolor": "#E5ECF6",
            "gridcolor": "white",
            "gridwidth": 2,
            "linecolor": "white",
            "showbackground": true,
            "ticks": "",
            "zerolinecolor": "white"
           },
           "zaxis": {
            "backgroundcolor": "#E5ECF6",
            "gridcolor": "white",
            "gridwidth": 2,
            "linecolor": "white",
            "showbackground": true,
            "ticks": "",
            "zerolinecolor": "white"
           }
          },
          "shapedefaults": {
           "line": {
            "color": "#2a3f5f"
           }
          },
          "ternary": {
           "aaxis": {
            "gridcolor": "white",
            "linecolor": "white",
            "ticks": ""
           },
           "baxis": {
            "gridcolor": "white",
            "linecolor": "white",
            "ticks": ""
           },
           "bgcolor": "#E5ECF6",
           "caxis": {
            "gridcolor": "white",
            "linecolor": "white",
            "ticks": ""
           }
          },
          "title": {
           "x": 0.05
          },
          "xaxis": {
           "automargin": true,
           "gridcolor": "white",
           "linecolor": "white",
           "ticks": "",
           "title": {
            "standoff": 15
           },
           "zerolinecolor": "white",
           "zerolinewidth": 2
          },
          "yaxis": {
           "automargin": true,
           "gridcolor": "white",
           "linecolor": "white",
           "ticks": "",
           "title": {
            "standoff": 15
           },
           "zerolinecolor": "white",
           "zerolinewidth": 2
          }
         }
        },
        "xaxis": {
         "anchor": "y",
         "domain": [
          0,
          1
         ],
         "title": {
          "text": "posterior"
         }
        },
        "yaxis": {
         "anchor": "x",
         "domain": [
          0,
          1
         ],
         "title": {
          "text": "prior"
         }
        }
       }
      }
     },
     "metadata": {},
     "output_type": "display_data"
    }
   ],
   "source": [
    "import plotly.express as px\n",
    "df = pd.DataFrame(half_dict).T.reset_index()\n",
    "df.columns = ['team', *df.columns[1:]]\n",
    "fig = px.scatter(df, x='posterior', y='prior', color='team')\n",
    "fig.update_traces(hovertemplate=' ')"
   ]
  },
  {
   "cell_type": "markdown",
   "metadata": {},
   "source": [
    "# P(winning | leading after Q1)"
   ]
  },
  {
   "cell_type": "code",
   "execution_count": 17,
   "metadata": {},
   "outputs": [
    {
     "name": "stderr",
     "output_type": "stream",
     "text": [
      "100%|██████████| 30/30 [1:31:59<00:00, 184.00s/it]\n"
     ]
    }
   ],
   "source": [
    "import warnings\n",
    "from pandas.core.common import SettingWithCopyWarning\n",
    "warnings.simplefilter(action=\"ignore\", category=SettingWithCopyWarning)\n",
    "\n",
    "s = get_schedule(2020, playoffs=False)\n",
    "teams = list(s['HOME'].unique())\n",
    "s['HOME_PTS'] = s['HOME_PTS'].astype(int)\n",
    "s['VISITOR_PTS'] = s['VISITOR_PTS'].astype(int)\n",
    "q1_dict = {}\n",
    "for team in tqdm(teams):\n",
    "    home_games = s[s['HOME'] == team]\n",
    "    visitor_games = s[s['VISITOR'] == team]\n",
    "    home_games['TEAM_WON'] = home_games.apply(lambda x: x['HOME_PTS'] > x['VISITOR_PTS'], axis=1)\n",
    "    visitor_games['TEAM_WON'] = visitor_games.apply(lambda x: x['VISITOR_PTS'] > x['HOME_PTS'], axis=1)\n",
    "    num_wins = sum(home_games['TEAM_WON'].astype(int)) + sum(visitor_games['TEAM_WON'].astype(int))\n",
    "    num_games = (len(home_games) + len(visitor_games))\n",
    "    prior = num_wins / num_games\n",
    "    marginal = 0\n",
    "    likelihood = 0\n",
    "    for i, row in home_games.iterrows():\n",
    "        # if i == 0:\n",
    "        #     print(row['VISITOR'], row['HOME'])\n",
    "        pbp = get_pbp(row['DATE'], TEAM_ABBREVS[row['VISITOR'].upper()], TEAM_ABBREVS[row['HOME'].upper()])\n",
    "        pbp_q2 = pbp[pbp['QUARTER'] == 2]\n",
    "        team_up_at_q2 = pbp_q2.iloc[0, len(pbp_q2.columns)-1] > pbp_q2.iloc[0, len(pbp_q2.columns)-2]\n",
    "        if team_up_at_q2:\n",
    "            marginal += 1\n",
    "        if team_up_at_q2 and row['TEAM_WON']:\n",
    "            likelihood += 1\n",
    "    for i, row in visitor_games.iterrows():\n",
    "        # if i == 0:\n",
    "        #     print(row['VISITOR'], row['HOME'])\n",
    "        pbp = get_pbp(row['DATE'], TEAM_ABBREVS[row['VISITOR'].upper()], TEAM_ABBREVS[row['HOME'].upper()])\n",
    "        pbp_q2 = pbp[pbp['QUARTER'] == 2]\n",
    "        team_up_at_q2 = pbp_q2.iloc[0, len(pbp_q2.columns)-2] > pbp_q2.iloc[0, len(pbp_q2.columns)-1]\n",
    "        if team_up_at_q2:\n",
    "            marginal += 1\n",
    "        if team_up_at_q2 and row['TEAM_WON']:\n",
    "            likelihood += 1\n",
    "    likelihood /= num_wins\n",
    "    marginal /= num_games   \n",
    "    posterior = (prior * likelihood) / marginal\n",
    "    q1_dict[team] = {\n",
    "        'num_wins': num_wins,\n",
    "        'num_games': num_games,\n",
    "        'prior': prior,\n",
    "        'likelihood': likelihood,\n",
    "        'marginal': marginal,\n",
    "        'posterior': posterior\n",
    "    }"
   ]
  },
  {
   "cell_type": "code",
   "execution_count": 19,
   "metadata": {},
   "outputs": [
    {
     "data": {
      "image/png": "[encoded data removed]",
      "text/plain": [
       "<Figure size 864x576 with 1 Axes>"
      ]
     },
     "metadata": {
      "needs_background": "light"
     },
     "output_type": "display_data"
    }
   ],
   "source": [
    "from collections import OrderedDict\n",
    "sorted_dict = OrderedDict(sorted(q1_dict.items(), key=lambda kv: kv[1]['posterior'], reverse=True))\n",
    "sorted_posteriors = {k: v['posterior'] for k, v in sorted_dict.items()}\n",
    "fig = plt.figure(figsize=(12,8))\n",
    "plt.bar(sorted_posteriors.keys(), sorted_posteriors.values())\n",
    "plt.xticks(rotation=90);"
   ]
  },
  {
   "cell_type": "code",
   "execution_count": 22,
   "metadata": {},
   "outputs": [
    {
     "data": {
      "application/vnd.plotly.v1+json": {
       "config": {
        "plotlyServerURL": "https://plot.ly"
       },
       "data": [
        {
         "hovertemplate": " ",
         "legendgroup": "Toronto Raptors",
         "marker": {
          "color": "#636efa",
          "symbol": "circle"
         },
         "mode": "markers",
         "name": "Toronto Raptors",
         "orientation": "v",
         "showlegend": true,
         "type": "scatter",
         "x": [
          0.8292682926829268
         ],
         "xaxis": "x",
         "y": [
          0.7361111111111112
         ],
         "yaxis": "y"
        },
        {
         "hovertemplate": " ",
         "legendgroup": "Los Angeles Clippers",
         "marker": {
          "color": "#EF553B",
          "symbol": "circle"
         },
         "mode": "markers",
         "name": "Los Angeles Clippers",
         "orientation": "v",
         "showlegend": true,
         "type": "scatter",
         "x": [
          0.7435897435897436
         ],
         "xaxis": "x",
         "y": [
          0.6805555555555556
         ],
         "yaxis": "y"
        },
        {
         "hovertemplate": " ",
         "legendgroup": "Portland Trail Blazers",
         "marker": {
          "color": "#00cc96",
          "symbol": "circle"
         },
         "mode": "markers",
         "name": "Portland Trail Blazers",
         "orientation": "v",
         "showlegend": true,
         "type": "scatter",
         "x": [
          0.5789473684210525
         ],
         "xaxis": "x",
         "y": [
          0.48
         ],
         "yaxis": "y"
        },
        {
         "hovertemplate": " ",
         "legendgroup": "Phoenix Suns",
         "marker": {
          "color": "#ab63fa",
          "symbol": "circle"
         },
         "mode": "markers",
         "name": "Phoenix Suns",
         "orientation": "v",
         "showlegend": true,
         "type": "scatter",
         "x": [
          0.59375
         ],
         "xaxis": "x",
         "y": [
          0.4657534246575342
         ],
         "yaxis": "y"
        },
        {
         "hovertemplate": " ",
         "legendgroup": "Utah Jazz",
         "marker": {
          "color": "#FFA15A",
          "symbol": "circle"
         },
         "mode": "markers",
         "name": "Utah Jazz",
         "orientation": "v",
         "showlegend": true,
         "type": "scatter",
         "x": [
          0.6944444444444445
         ],
         "xaxis": "x",
         "y": [
          0.6111111111111112
         ],
         "yaxis": "y"
        },
        {
         "hovertemplate": " ",
         "legendgroup": "Dallas Mavericks",
         "marker": {
          "color": "#19d3f3",
          "symbol": "circle"
         },
         "mode": "markers",
         "name": "Dallas Mavericks",
         "orientation": "v",
         "showlegend": true,
         "type": "scatter",
         "x": [
          0.7317073170731708
         ],
         "xaxis": "x",
         "y": [
          0.5733333333333334
         ],
         "yaxis": "y"
        },
        {
         "hovertemplate": " ",
         "legendgroup": "Philadelphia 76ers",
         "marker": {
          "color": "#FF6692",
          "symbol": "circle"
         },
         "mode": "markers",
         "name": "Philadelphia 76ers",
         "orientation": "v",
         "showlegend": true,
         "type": "scatter",
         "x": [
          0.6382978723404256
         ],
         "xaxis": "x",
         "y": [
          0.589041095890411
         ],
         "yaxis": "y"
        },
        {
         "hovertemplate": " ",
         "legendgroup": "San Antonio Spurs",
         "marker": {
          "color": "#B6E880",
          "symbol": "circle"
         },
         "mode": "markers",
         "name": "San Antonio Spurs",
         "orientation": "v",
         "showlegend": true,
         "type": "scatter",
         "x": [
          0.6571428571428571
         ],
         "xaxis": "x",
         "y": [
          0.4507042253521127
         ],
         "yaxis": "y"
        },
        {
         "hovertemplate": " ",
         "legendgroup": "Brooklyn Nets",
         "marker": {
          "color": "#FF97FF",
          "symbol": "circle"
         },
         "mode": "markers",
         "name": "Brooklyn Nets",
         "orientation": "v",
         "showlegend": true,
         "type": "scatter",
         "x": [
          0.5641025641025641
         ],
         "xaxis": "x",
         "y": [
          0.4861111111111111
         ],
         "yaxis": "y"
        },
        {
         "hovertemplate": " ",
         "legendgroup": "Orlando Magic",
         "marker": {
          "color": "#FECB52",
          "symbol": "circle"
         },
         "mode": "markers",
         "name": "Orlando Magic",
         "orientation": "v",
         "showlegend": true,
         "type": "scatter",
         "x": [
          0.6206896551724137
         ],
         "xaxis": "x",
         "y": [
          0.4520547945205479
         ],
         "yaxis": "y"
        },
        {
         "hovertemplate": " ",
         "legendgroup": "Indiana Pacers",
         "marker": {
          "color": "#636efa",
          "symbol": "circle"
         },
         "mode": "markers",
         "name": "Indiana Pacers",
         "orientation": "v",
         "showlegend": true,
         "type": "scatter",
         "x": [
          0.8709677419354839
         ],
         "xaxis": "x",
         "y": [
          0.6164383561643836
         ],
         "yaxis": "y"
        },
        {
         "hovertemplate": " ",
         "legendgroup": "Charlotte Hornets",
         "marker": {
          "color": "#EF553B",
          "symbol": "circle"
         },
         "mode": "markers",
         "name": "Charlotte Hornets",
         "orientation": "v",
         "showlegend": true,
         "type": "scatter",
         "x": [
          0.4242424242424243
         ],
         "xaxis": "x",
         "y": [
          0.35384615384615387
         ],
         "yaxis": "y"
        },
        {
         "hovertemplate": " ",
         "legendgroup": "Miami Heat",
         "marker": {
          "color": "#00cc96",
          "symbol": "circle"
         },
         "mode": "markers",
         "name": "Miami Heat",
         "orientation": "v",
         "showlegend": true,
         "type": "scatter",
         "x": [
          0.7333333333333333
         ],
         "xaxis": "x",
         "y": [
          0.6027397260273972
         ],
         "yaxis": "y"
        },
        {
         "hovertemplate": " ",
         "legendgroup": "Detroit Pistons",
         "marker": {
          "color": "#ab63fa",
          "symbol": "circle"
         },
         "mode": "markers",
         "name": "Detroit Pistons",
         "orientation": "v",
         "showlegend": true,
         "type": "scatter",
         "x": [
          0.56
         ],
         "xaxis": "x",
         "y": [
          0.30303030303030304
         ],
         "yaxis": "y"
        },
        {
         "hovertemplate": " ",
         "legendgroup": "Houston Rockets",
         "marker": {
          "color": "#FFA15A",
          "symbol": "circle"
         },
         "mode": "markers",
         "name": "Houston Rockets",
         "orientation": "v",
         "showlegend": true,
         "type": "scatter",
         "x": [
          0.7209302325581397
         ],
         "xaxis": "x",
         "y": [
          0.6111111111111112
         ],
         "yaxis": "y"
        },
        {
         "hovertemplate": " ",
         "legendgroup": "Golden State Warriors",
         "marker": {
          "color": "#19d3f3",
          "symbol": "circle"
         },
         "mode": "markers",
         "name": "Golden State Warriors",
         "orientation": "v",
         "showlegend": true,
         "type": "scatter",
         "x": [
          0.42105263157894735
         ],
         "xaxis": "x",
         "y": [
          0.23076923076923078
         ],
         "yaxis": "y"
        },
        {
         "hovertemplate": " ",
         "legendgroup": "Denver Nuggets",
         "marker": {
          "color": "#FF6692",
          "symbol": "circle"
         },
         "mode": "markers",
         "name": "Denver Nuggets",
         "orientation": "v",
         "showlegend": true,
         "type": "scatter",
         "x": [
          0.7142857142857143
         ],
         "xaxis": "x",
         "y": [
          0.6301369863013698
         ],
         "yaxis": "y"
        },
        {
         "hovertemplate": " ",
         "legendgroup": "Los Angeles Lakers",
         "marker": {
          "color": "#B6E880",
          "symbol": "circle"
         },
         "mode": "markers",
         "name": "Los Angeles Lakers",
         "orientation": "v",
         "showlegend": true,
         "type": "scatter",
         "x": [
          0.7906976744186047
         ],
         "xaxis": "x",
         "y": [
          0.7323943661971831
         ],
         "yaxis": "y"
        },
        {
         "hovertemplate": " ",
         "legendgroup": "Sacramento Kings",
         "marker": {
          "color": "#FF97FF",
          "symbol": "circle"
         },
         "mode": "markers",
         "name": "Sacramento Kings",
         "orientation": "v",
         "showlegend": true,
         "type": "scatter",
         "x": [
          0.5526315789473685
         ],
         "xaxis": "x",
         "y": [
          0.4305555555555556
         ],
         "yaxis": "y"
        },
        {
         "hovertemplate": " ",
         "legendgroup": "Oklahoma City Thunder",
         "marker": {
          "color": "#FECB52",
          "symbol": "circle"
         },
         "mode": "markers",
         "name": "Oklahoma City Thunder",
         "orientation": "v",
         "showlegend": true,
         "type": "scatter",
         "x": [
          0.8285714285714286
         ],
         "xaxis": "x",
         "y": [
          0.6111111111111112
         ],
         "yaxis": "y"
        },
        {
         "hovertemplate": " ",
         "legendgroup": "Memphis Grizzlies",
         "marker": {
          "color": "#636efa",
          "symbol": "circle"
         },
         "mode": "markers",
         "name": "Memphis Grizzlies",
         "orientation": "v",
         "showlegend": true,
         "type": "scatter",
         "x": [
          0.5897435897435899
         ],
         "xaxis": "x",
         "y": [
          0.4594594594594595
         ],
         "yaxis": "y"
        },
        {
         "hovertemplate": " ",
         "legendgroup": "Boston Celtics",
         "marker": {
          "color": "#EF553B",
          "symbol": "circle"
         },
         "mode": "markers",
         "name": "Boston Celtics",
         "orientation": "v",
         "showlegend": true,
         "type": "scatter",
         "x": [
          0.8048780487804879
         ],
         "xaxis": "x",
         "y": [
          0.6666666666666666
         ],
         "yaxis": "y"
        },
        {
         "hovertemplate": " ",
         "legendgroup": "New Orleans Pelicans",
         "marker": {
          "color": "#00cc96",
          "symbol": "circle"
         },
         "mode": "markers",
         "name": "New Orleans Pelicans",
         "orientation": "v",
         "showlegend": true,
         "type": "scatter",
         "x": [
          0.5757575757575758
         ],
         "xaxis": "x",
         "y": [
          0.4166666666666667
         ],
         "yaxis": "y"
        },
        {
         "hovertemplate": " ",
         "legendgroup": "Milwaukee Bucks",
         "marker": {
          "color": "#ab63fa",
          "symbol": "circle"
         },
         "mode": "markers",
         "name": "Milwaukee Bucks",
         "orientation": "v",
         "showlegend": true,
         "type": "scatter",
         "x": [
          0.9166666666666666
         ],
         "xaxis": "x",
         "y": [
          0.7671232876712328
         ],
         "yaxis": "y"
        },
        {
         "hovertemplate": " ",
         "legendgroup": "Atlanta Hawks",
         "marker": {
          "color": "#FFA15A",
          "symbol": "circle"
         },
         "mode": "markers",
         "name": "Atlanta Hawks",
         "orientation": "v",
         "showlegend": true,
         "type": "scatter",
         "x": [
          0.4
         ],
         "xaxis": "x",
         "y": [
          0.29850746268656714
         ],
         "yaxis": "y"
        },
        {
         "hovertemplate": " ",
         "legendgroup": "New York Knicks",
         "marker": {
          "color": "#19d3f3",
          "symbol": "circle"
         },
         "mode": "markers",
         "name": "New York Knicks",
         "orientation": "v",
         "showlegend": true,
         "type": "scatter",
         "x": [
          0.48275862068965514
         ],
         "xaxis": "x",
         "y": [
          0.3181818181818182
         ],
         "yaxis": "y"
        },
        {
         "hovertemplate": " ",
         "legendgroup": "Chicago Bulls",
         "marker": {
          "color": "#FF6692",
          "symbol": "circle"
         },
         "mode": "markers",
         "name": "Chicago Bulls",
         "orientation": "v",
         "showlegend": true,
         "type": "scatter",
         "x": [
          0.4583333333333333
         ],
         "xaxis": "x",
         "y": [
          0.3384615384615385
         ],
         "yaxis": "y"
        },
        {
         "hovertemplate": " ",
         "legendgroup": "Cleveland Cavaliers",
         "marker": {
          "color": "#B6E880",
          "symbol": "circle"
         },
         "mode": "markers",
         "name": "Cleveland Cavaliers",
         "orientation": "v",
         "showlegend": true,
         "type": "scatter",
         "x": [
          0.5
         ],
         "xaxis": "x",
         "y": [
          0.2923076923076923
         ],
         "yaxis": "y"
        },
        {
         "hovertemplate": " ",
         "legendgroup": "Minnesota Timberwolves",
         "marker": {
          "color": "#FF97FF",
          "symbol": "circle"
         },
         "mode": "markers",
         "name": "Minnesota Timberwolves",
         "orientation": "v",
         "showlegend": true,
         "type": "scatter",
         "x": [
          0.45454545454545453
         ],
         "xaxis": "x",
         "y": [
          0.296875
         ],
         "yaxis": "y"
        },
        {
         "hovertemplate": " ",
         "legendgroup": "Washington Wizards",
         "marker": {
          "color": "#FECB52",
          "symbol": "circle"
         },
         "mode": "markers",
         "name": "Washington Wizards",
         "orientation": "v",
         "showlegend": true,
         "type": "scatter",
         "x": [
          0.5555555555555555
         ],
         "xaxis": "x",
         "y": [
          0.3472222222222222
         ],
         "yaxis": "y"
        }
       ],
       "layout": {
        "legend": {
         "title": {
          "text": "team"
         },
         "tracegroupgap": 0
        },
        "margin": {
         "t": 60
        },
        "template": {
         "data": {
          "bar": [
           {
            "error_x": {
             "color": "#2a3f5f"
            },
            "error_y": {
             "color": "#2a3f5f"
            },
            "marker": {
             "line": {
              "color": "#E5ECF6",
              "width": 0.5
             },
             "pattern": {
              "fillmode": "overlay",
              "size": 10,
              "solidity": 0.2
             }
            },
            "type": "bar"
           }
          ],
          "barpolar": [
           {
            "marker": {
             "line": {
              "color": "#E5ECF6",
              "width": 0.5
             },
             "pattern": {
              "fillmode": "overlay",
              "size": 10,
              "solidity": 0.2
             }
            },
            "type": "barpolar"
           }
          ],
          "carpet": [
           {
            "aaxis": {
             "endlinecolor": "#2a3f5f",
             "gridcolor": "white",
             "linecolor": "white",
             "minorgridcolor": "white",
             "startlinecolor": "#2a3f5f"
            },
            "baxis": {
             "endlinecolor": "#2a3f5f",
             "gridcolor": "white",
             "linecolor": "white",
             "minorgridcolor": "white",
             "startlinecolor": "#2a3f5f"
            },
            "type": "carpet"
           }
          ],
          "choropleth": [
           {
            "colorbar": {
             "outlinewidth": 0,
             "ticks": ""
            },
            "type": "choropleth"
           }
          ],
          "contour": [
           {
            "colorbar": {
             "outlinewidth": 0,
             "ticks": ""
            },
            "colorscale": [
             [
              0,
              "#0d0887"
             ],
             [
              0.1111111111111111,
              "#46039f"
             ],
             [
              0.2222222222222222,
              "#7201a8"
             ],
             [
              0.3333333333333333,
              "#9c179e"
             ],
             [
              0.4444444444444444,
              "#bd3786"
             ],
             [
              0.5555555555555556,
              "#d8576b"
             ],
             [
              0.6666666666666666,
              "#ed7953"
             ],
             [
              0.7777777777777778,
              "#fb9f3a"
             ],
             [
              0.8888888888888888,
              "#fdca26"
             ],
             [
              1,
              "#f0f921"
             ]
            ],
            "type": "contour"
           }
          ],
          "contourcarpet": [
           {
            "colorbar": {
             "outlinewidth": 0,
             "ticks": ""
            },
            "type": "contourcarpet"
           }
          ],
          "heatmap": [
           {
            "colorbar": {
             "outlinewidth": 0,
             "ticks": ""
            },
            "colorscale": [
             [
              0,
              "#0d0887"
             ],
             [
              0.1111111111111111,
              "#46039f"
             ],
             [
              0.2222222222222222,
              "#7201a8"
             ],
             [
              0.3333333333333333,
              "#9c179e"
             ],
             [
              0.4444444444444444,
              "#bd3786"
             ],
             [
              0.5555555555555556,
              "#d8576b"
             ],
             [
              0.6666666666666666,
              "#ed7953"
             ],
             [
              0.7777777777777778,
              "#fb9f3a"
             ],
             [
              0.8888888888888888,
              "#fdca26"
             ],
             [
              1,
              "#f0f921"
             ]
            ],
            "type": "heatmap"
           }
          ],
          "heatmapgl": [
           {
            "colorbar": {
             "outlinewidth": 0,
             "ticks": ""
            },
            "colorscale": [
             [
              0,
              "#0d0887"
             ],
             [
              0.1111111111111111,
              "#46039f"
             ],
             [
              0.2222222222222222,
              "#7201a8"
             ],
             [
              0.3333333333333333,
              "#9c179e"
             ],
             [
              0.4444444444444444,
              "#bd3786"
             ],
             [
              0.5555555555555556,
              "#d8576b"
             ],
             [
              0.6666666666666666,
              "#ed7953"
             ],
             [
              0.7777777777777778,
              "#fb9f3a"
             ],
             [
              0.8888888888888888,
              "#fdca26"
             ],
             [
              1,
              "#f0f921"
             ]
            ],
            "type": "heatmapgl"
           }
          ],
          "histogram": [
           {
            "marker": {
             "pattern": {
              "fillmode": "overlay",
              "size": 10,
              "solidity": 0.2
             }
            },
            "type": "histogram"
           }
          ],
          "histogram2d": [
           {
            "colorbar": {
             "outlinewidth": 0,
             "ticks": ""
            },
            "colorscale": [
             [
              0,
              "#0d0887"
             ],
             [
              0.1111111111111111,
              "#46039f"
             ],
             [
              0.2222222222222222,
              "#7201a8"
             ],
             [
              0.3333333333333333,
              "#9c179e"
             ],
             [
              0.4444444444444444,
              "#bd3786"
             ],
             [
              0.5555555555555556,
              "#d8576b"
             ],
             [
              0.6666666666666666,
              "#ed7953"
             ],
             [
              0.7777777777777778,
              "#fb9f3a"
             ],
             [
              0.8888888888888888,
              "#fdca26"
             ],
             [
              1,
              "#f0f921"
             ]
            ],
            "type": "histogram2d"
           }
          ],
          "histogram2dcontour": [
           {
            "colorbar": {
             "outlinewidth": 0,
             "ticks": ""
            },
            "colorscale": [
             [
              0,
              "#0d0887"
             ],
             [
              0.1111111111111111,
              "#46039f"
             ],
             [
              0.2222222222222222,
              "#7201a8"
             ],
             [
              0.3333333333333333,
              "#9c179e"
             ],
             [
              0.4444444444444444,
              "#bd3786"
             ],
             [
              0.5555555555555556,
              "#d8576b"
             ],
             [
              0.6666666666666666,
              "#ed7953"
             ],
             [
              0.7777777777777778,
              "#fb9f3a"
             ],
             [
              0.8888888888888888,
              "#fdca26"
             ],
             [
              1,
              "#f0f921"
             ]
            ],
            "type": "histogram2dcontour"
           }
          ],
          "mesh3d": [
           {
            "colorbar": {
             "outlinewidth": 0,
             "ticks": ""
            },
            "type": "mesh3d"
           }
          ],
          "parcoords": [
           {
            "line": {
             "colorbar": {
              "outlinewidth": 0,
              "ticks": ""
             }
            },
            "type": "parcoords"
           }
          ],
          "pie": [
           {
            "automargin": true,
            "type": "pie"
           }
          ],
          "scatter": [
           {
            "marker": {
             "colorbar": {
              "outlinewidth": 0,
              "ticks": ""
             }
            },
            "type": "scatter"
           }
          ],
          "scatter3d": [
           {
            "line": {
             "colorbar": {
              "outlinewidth": 0,
              "ticks": ""
             }
            },
            "marker": {
             "colorbar": {
              "outlinewidth": 0,
              "ticks": ""
             }
            },
            "type": "scatter3d"
           }
          ],
          "scattercarpet": [
           {
            "marker": {
             "colorbar": {
              "outlinewidth": 0,
              "ticks": ""
             }
            },
            "type": "scattercarpet"
           }
          ],
          "scattergeo": [
           {
            "marker": {
             "colorbar": {
              "outlinewidth": 0,
              "ticks": ""
             }
            },
            "type": "scattergeo"
           }
          ],
          "scattergl": [
           {
            "marker": {
             "colorbar": {
              "outlinewidth": 0,
              "ticks": ""
             }
            },
            "type": "scattergl"
           }
          ],
          "scattermapbox": [
           {
            "marker": {
             "colorbar": {
              "outlinewidth": 0,
              "ticks": ""
             }
            },
            "type": "scattermapbox"
           }
          ],
          "scatterpolar": [
           {
            "marker": {
             "colorbar": {
              "outlinewidth": 0,
              "ticks": ""
             }
            },
            "type": "scatterpolar"
           }
          ],
          "scatterpolargl": [
           {
            "marker": {
             "colorbar": {
              "outlinewidth": 0,
              "ticks": ""
             }
            },
            "type": "scatterpolargl"
           }
          ],
          "scatterternary": [
           {
            "marker": {
             "colorbar": {
              "outlinewidth": 0,
              "ticks": ""
             }
            },
            "type": "scatterternary"
           }
          ],
          "surface": [
           {
            "colorbar": {
             "outlinewidth": 0,
             "ticks": ""
            },
            "colorscale": [
             [
              0,
              "#0d0887"
             ],
             [
              0.1111111111111111,
              "#46039f"
             ],
             [
              0.2222222222222222,
              "#7201a8"
             ],
             [
              0.3333333333333333,
              "#9c179e"
             ],
             [
              0.4444444444444444,
              "#bd3786"
             ],
             [
              0.5555555555555556,
              "#d8576b"
             ],
             [
              0.6666666666666666,
              "#ed7953"
             ],
             [
              0.7777777777777778,
              "#fb9f3a"
             ],
             [
              0.8888888888888888,
              "#fdca26"
             ],
             [
              1,
              "#f0f921"
             ]
            ],
            "type": "surface"
           }
          ],
          "table": [
           {
            "cells": {
             "fill": {
              "color": "#EBF0F8"
             },
             "line": {
              "color": "white"
             }
            },
            "header": {
             "fill": {
              "color": "#C8D4E3"
             },
             "line": {
              "color": "white"
             }
            },
            "type": "table"
           }
          ]
         },
         "layout": {
          "annotationdefaults": {
           "arrowcolor": "#2a3f5f",
           "arrowhead": 0,
           "arrowwidth": 1
          },
          "autotypenumbers": "strict",
          "coloraxis": {
           "colorbar": {
            "outlinewidth": 0,
            "ticks": ""
           }
          },
          "colorscale": {
           "diverging": [
            [
             0,
             "#8e0152"
            ],
            [
             0.1,
             "#c51b7d"
            ],
            [
             0.2,
             "#de77ae"
            ],
            [
             0.3,
             "#f1b6da"
            ],
            [
             0.4,
             "#fde0ef"
            ],
            [
             0.5,
             "#f7f7f7"
            ],
            [
             0.6,
             "#e6f5d0"
            ],
            [
             0.7,
             "#b8e186"
            ],
            [
             0.8,
             "#7fbc41"
            ],
            [
             0.9,
             "#4d9221"
            ],
            [
             1,
             "#276419"
            ]
           ],
           "sequential": [
            [
             0,
             "#0d0887"
            ],
            [
             0.1111111111111111,
             "#46039f"
            ],
            [
             0.2222222222222222,
             "#7201a8"
            ],
            [
             0.3333333333333333,
             "#9c179e"
            ],
            [
             0.4444444444444444,
             "#bd3786"
            ],
            [
             0.5555555555555556,
             "#d8576b"
            ],
            [
             0.6666666666666666,
             "#ed7953"
            ],
            [
             0.7777777777777778,
             "#fb9f3a"
            ],
            [
             0.8888888888888888,
             "#fdca26"
            ],
            [
             1,
             "#f0f921"
            ]
           ],
           "sequentialminus": [
            [
             0,
             "#0d0887"
            ],
            [
             0.1111111111111111,
             "#46039f"
            ],
            [
             0.2222222222222222,
             "#7201a8"
            ],
            [
             0.3333333333333333,
             "#9c179e"
            ],
            [
             0.4444444444444444,
             "#bd3786"
            ],
            [
             0.5555555555555556,
             "#d8576b"
            ],
            [
             0.6666666666666666,
             "#ed7953"
            ],
            [
             0.7777777777777778,
             "#fb9f3a"
            ],
            [
             0.8888888888888888,
             "#fdca26"
            ],
            [
             1,
             "#f0f921"
            ]
           ]
          },
          "colorway": [
           "#636efa",
           "#EF553B",
           "#00cc96",
           "#ab63fa",
           "#FFA15A",
           "#19d3f3",
           "#FF6692",
           "#B6E880",
           "#FF97FF",
           "#FECB52"
          ],
          "font": {
           "color": "#2a3f5f"
          },
          "geo": {
           "bgcolor": "white",
           "lakecolor": "white",
           "landcolor": "#E5ECF6",
           "showlakes": true,
           "showland": true,
           "subunitcolor": "white"
          },
          "hoverlabel": {
           "align": "left"
          },
          "hovermode": "closest",
          "mapbox": {
           "style": "light"
          },
          "paper_bgcolor": "white",
          "plot_bgcolor": "#E5ECF6",
          "polar": {
           "angularaxis": {
            "gridcolor": "white",
            "linecolor": "white",
            "ticks": ""
           },
           "bgcolor": "#E5ECF6",
           "radialaxis": {
            "gridcolor": "white",
            "linecolor": "white",
            "ticks": ""
           }
          },
          "scene": {
           "xaxis": {
            "backgroundcolor": "#E5ECF6",
            "gridcolor": "white",
            "gridwidth": 2,
            "linecolor": "white",
            "showbackground": true,
            "ticks": "",
            "zerolinecolor": "white"
           },
           "yaxis": {
            "backgroundcolor": "#E5ECF6",
            "gridcolor": "white",
            "gridwidth": 2,
            "linecolor": "white",
            "showbackground": true,
            "ticks": "",
            "zerolinecolor": "white"
           },
           "zaxis": {
            "backgroundcolor": "#E5ECF6",
            "gridcolor": "white",
            "gridwidth": 2,
            "linecolor": "white",
            "showbackground": true,
            "ticks": "",
            "zerolinecolor": "white"
           }
          },
          "shapedefaults": {
           "line": {
            "color": "#2a3f5f"
           }
          },
          "ternary": {
           "aaxis": {
            "gridcolor": "white",
            "linecolor": "white",
            "ticks": ""
           },
           "baxis": {
            "gridcolor": "white",
            "linecolor": "white",
            "ticks": ""
           },
           "bgcolor": "#E5ECF6",
           "caxis": {
            "gridcolor": "white",
            "linecolor": "white",
            "ticks": ""
           }
          },
          "title": {
           "x": 0.05
          },
          "xaxis": {
           "automargin": true,
           "gridcolor": "white",
           "linecolor": "white",
           "ticks": "",
           "title": {
            "standoff": 15
           },
           "zerolinecolor": "white",
           "zerolinewidth": 2
          },
          "yaxis": {
           "automargin": true,
           "gridcolor": "white",
           "linecolor": "white",
           "ticks": "",
           "title": {
            "standoff": 15
           },
           "zerolinecolor": "white",
           "zerolinewidth": 2
          }
         }
        },
        "xaxis": {
         "anchor": "y",
         "domain": [
          0,
          1
         ],
         "title": {
          "text": "posterior"
         }
        },
        "yaxis": {
         "anchor": "x",
         "domain": [
          0,
          1
         ],
         "title": {
          "text": "prior"
         }
        }
       }
      }
     },
     "metadata": {},
     "output_type": "display_data"
    }
   ],
   "source": [
    "df = pd.DataFrame(q1_dict).T.reset_index()\n",
    "df.columns = ['team', *df.columns[1:]]\n",
    "fig = px.scatter(df, x='posterior', y='prior', color='team')\n",
    "fig.update_traces(hovertemplate=' ')"
   ]
  },
  {
   "cell_type": "code",
   "execution_count": 6,
   "metadata": {},
   "outputs": [
    {
     "data": {
      "text/html": [
       "<div>\n",
       "<style scoped>\n",
       "    .dataframe tbody tr th:only-of-type {\n",
       "        vertical-align: middle;\n",
       "    }\n",
       "\n",
       "    .dataframe tbody tr th {\n",
       "        vertical-align: top;\n",
       "    }\n",
       "\n",
       "    .dataframe thead th {\n",
       "        text-align: right;\n",
       "    }\n",
       "</style>\n",
       "<table border=\"1\" class=\"dataframe\">\n",
       "  <thead>\n",
       "    <tr style=\"text-align: right;\">\n",
       "      <th></th>\n",
       "      <th>QUARTER</th>\n",
       "      <th>TIME_REMAINING</th>\n",
       "      <th>CHICAGO_ACTION</th>\n",
       "      <th>BOSTON_ACTION</th>\n",
       "      <th>CHICAGO_SCORE</th>\n",
       "      <th>BOSTON_SCORE</th>\n",
       "    </tr>\n",
       "  </thead>\n",
       "  <tbody>\n",
       "    <tr>\n",
       "      <th>315</th>\n",
       "      <td>4</td>\n",
       "      <td>11:44.0</td>\n",
       "      <td>NaN</td>\n",
       "      <td>J. Tatum makes 2-pt jump shot from 17 ft (assi...</td>\n",
       "      <td>71</td>\n",
       "      <td>85</td>\n",
       "    </tr>\n",
       "    <tr>\n",
       "      <th>316</th>\n",
       "      <td>4</td>\n",
       "      <td>11:44.0</td>\n",
       "      <td>NaN</td>\n",
       "      <td>Shooting foul by C. Hutchison (drawn by J. Tatum)</td>\n",
       "      <td>71</td>\n",
       "      <td>85</td>\n",
       "    </tr>\n",
       "    <tr>\n",
       "      <th>317</th>\n",
       "      <td>4</td>\n",
       "      <td>11:44.0</td>\n",
       "      <td>NaN</td>\n",
       "      <td>J. Tatum makes free throw 1 of 1</td>\n",
       "      <td>71</td>\n",
       "      <td>86</td>\n",
       "    </tr>\n",
       "    <tr>\n",
       "      <th>318</th>\n",
       "      <td>4</td>\n",
       "      <td>11:32.0</td>\n",
       "      <td>T. Young misses 2-pt jump shot from 9 ft</td>\n",
       "      <td>NaN</td>\n",
       "      <td>71</td>\n",
       "      <td>86</td>\n",
       "    </tr>\n",
       "    <tr>\n",
       "      <th>319</th>\n",
       "      <td>4</td>\n",
       "      <td>11:29.0</td>\n",
       "      <td>NaN</td>\n",
       "      <td>Defensive rebound by E. Freedom</td>\n",
       "      <td>71</td>\n",
       "      <td>86</td>\n",
       "    </tr>\n",
       "    <tr>\n",
       "      <th>...</th>\n",
       "      <td>...</td>\n",
       "      <td>...</td>\n",
       "      <td>...</td>\n",
       "      <td>...</td>\n",
       "      <td>...</td>\n",
       "      <td>...</td>\n",
       "    </tr>\n",
       "    <tr>\n",
       "      <th>446</th>\n",
       "      <td>4</td>\n",
       "      <td>1:04.0</td>\n",
       "      <td>NaN</td>\n",
       "      <td>R. Langford makes free throw 2 of 2</td>\n",
       "      <td>96</td>\n",
       "      <td>113</td>\n",
       "    </tr>\n",
       "    <tr>\n",
       "      <th>447</th>\n",
       "      <td>4</td>\n",
       "      <td>0:54.0</td>\n",
       "      <td>D. Valentine makes 2-pt jump shot from 15 ft</td>\n",
       "      <td>NaN</td>\n",
       "      <td>98</td>\n",
       "      <td>113</td>\n",
       "    </tr>\n",
       "    <tr>\n",
       "      <th>448</th>\n",
       "      <td>4</td>\n",
       "      <td>0:33.0</td>\n",
       "      <td>NaN</td>\n",
       "      <td>V. Poirier misses 2-pt hook shot from 5 ft</td>\n",
       "      <td>98</td>\n",
       "      <td>113</td>\n",
       "    </tr>\n",
       "    <tr>\n",
       "      <th>449</th>\n",
       "      <td>4</td>\n",
       "      <td>0:29.0</td>\n",
       "      <td>Defensive rebound by D. Valentine</td>\n",
       "      <td>NaN</td>\n",
       "      <td>98</td>\n",
       "      <td>113</td>\n",
       "    </tr>\n",
       "    <tr>\n",
       "      <th>450</th>\n",
       "      <td>4</td>\n",
       "      <td>0:18.0</td>\n",
       "      <td>D. Valentine makes 3-pt jump shot from 25 ft</td>\n",
       "      <td>NaN</td>\n",
       "      <td>101</td>\n",
       "      <td>113</td>\n",
       "    </tr>\n",
       "  </tbody>\n",
       "</table>\n",
       "<p>136 rows × 6 columns</p>\n",
       "</div>"
      ],
      "text/plain": [
       "    QUARTER TIME_REMAINING                                CHICAGO_ACTION  \\\n",
       "315       4        11:44.0                                           NaN   \n",
       "316       4        11:44.0                                           NaN   \n",
       "317       4        11:44.0                                           NaN   \n",
       "318       4        11:32.0      T. Young misses 2-pt jump shot from 9 ft   \n",
       "319       4        11:29.0                                           NaN   \n",
       "..      ...            ...                                           ...   \n",
       "446       4         1:04.0                                           NaN   \n",
       "447       4         0:54.0  D. Valentine makes 2-pt jump shot from 15 ft   \n",
       "448       4         0:33.0                                           NaN   \n",
       "449       4         0:29.0             Defensive rebound by D. Valentine   \n",
       "450       4         0:18.0  D. Valentine makes 3-pt jump shot from 25 ft   \n",
       "\n",
       "                                         BOSTON_ACTION CHICAGO_SCORE  \\\n",
       "315  J. Tatum makes 2-pt jump shot from 17 ft (assi...            71   \n",
       "316  Shooting foul by C. Hutchison (drawn by J. Tatum)            71   \n",
       "317                   J. Tatum makes free throw 1 of 1            71   \n",
       "318                                                NaN            71   \n",
       "319                    Defensive rebound by E. Freedom            71   \n",
       "..                                                 ...           ...   \n",
       "446                R. Langford makes free throw 2 of 2            96   \n",
       "447                                                NaN            98   \n",
       "448         V. Poirier misses 2-pt hook shot from 5 ft            98   \n",
       "449                                                NaN            98   \n",
       "450                                                NaN           101   \n",
       "\n",
       "    BOSTON_SCORE  \n",
       "315           85  \n",
       "316           85  \n",
       "317           86  \n",
       "318           86  \n",
       "319           86  \n",
       "..           ...  \n",
       "446          113  \n",
       "447          113  \n",
       "448          113  \n",
       "449          113  \n",
       "450          113  \n",
       "\n",
       "[136 rows x 6 columns]"
      ]
     },
     "execution_count": 6,
     "metadata": {},
     "output_type": "execute_result"
    }
   ],
   "source": [
    "\n",
    "s = get_pbp('2020-01-13', 'CHI', 'BOS')\n",
    "s[s['QUARTER'] == 4]"
   ]
  },
  {
   "cell_type": "code",
   "execution_count": 65,
   "metadata": {},
   "outputs": [
    {
     "data": {
      "text/plain": [
       "Index(['x', 'y', 'QUARTER', 'TIME_REMAINING', 'PLAYER', 'MAKE_MISS', 'VALUE',\n",
       "       'DISTANCE'],\n",
       "      dtype='object')"
      ]
     },
     "execution_count": 65,
     "metadata": {},
     "output_type": "execute_result"
    }
   ],
   "source": [
    "s = get_shot_chart('2020-01-13', 'CHI', 'BOS')['BOS']\n",
    "s.columns"
   ]
  },
  {
   "cell_type": "code",
   "execution_count": 96,
   "metadata": {},
   "outputs": [
    {
     "data": {
      "image/png": "[encoded data removed]",
      "text/plain": [
       "<Figure size 432x288 with 2 Axes>"
      ]
     },
     "metadata": {
      "needs_background": "light"
     },
     "output_type": "display_data"
    }
   ],
   "source": [
    "s = shot_df.copy()\n",
    "s['x_pos'] = s['x'].apply(lambda x: float(x.strip(' ft')))\n",
    "s['y_pos'] = s['y'].apply(lambda y: float(y.strip(' ft')))\n",
    "# sns.heatmap(data=s.pivot(\"x_pos\", \"y_pos\", \"hue\"))\n",
    "x = s['x_pos'].to_list()\n",
    "y = s['y_pos'].to_list()\n",
    "plt.hist2d(x, y, bins=22, cmap='Blues')\n",
    "cb = plt.colorbar()\n",
    "cb.set_label('counts in bin')"
   ]
  },
  {
   "cell_type": "code",
   "execution_count": 17,
   "metadata": {},
   "outputs": [
    {
     "data": {
      "text/html": [
       "<div>\n",
       "<style scoped>\n",
       "    .dataframe tbody tr th:only-of-type {\n",
       "        vertical-align: middle;\n",
       "    }\n",
       "\n",
       "    .dataframe tbody tr th {\n",
       "        vertical-align: top;\n",
       "    }\n",
       "\n",
       "    .dataframe thead th {\n",
       "        text-align: right;\n",
       "    }\n",
       "</style>\n",
       "<table border=\"1\" class=\"dataframe\">\n",
       "  <thead>\n",
       "    <tr style=\"text-align: right;\">\n",
       "      <th></th>\n",
       "      <th>PLAYER</th>\n",
       "      <th>TEAM</th>\n",
       "      <th>DATE</th>\n",
       "      <th>DESCRIPTION</th>\n",
       "      <th>STATUS</th>\n",
       "      <th>INJURY</th>\n",
       "    </tr>\n",
       "  </thead>\n",
       "  <tbody>\n",
       "    <tr>\n",
       "      <th>0</th>\n",
       "      <td>Bogdan BogdanoviÄ‡</td>\n",
       "      <td>ATL</td>\n",
       "      <td>2022-02-14</td>\n",
       "      <td>Bogdanovic is listed as QUESTIONABLE for Tuesd...</td>\n",
       "      <td>Day To Day</td>\n",
       "      <td>Ankle</td>\n",
       "    </tr>\n",
       "    <tr>\n",
       "      <th>1</th>\n",
       "      <td>John Collins</td>\n",
       "      <td>ATL</td>\n",
       "      <td>2022-02-12</td>\n",
       "      <td>The Hawks announced that Collins will be sidel...</td>\n",
       "      <td>Out</td>\n",
       "      <td>Foot</td>\n",
       "    </tr>\n",
       "    <tr>\n",
       "      <th>2</th>\n",
       "      <td>Delon Wright</td>\n",
       "      <td>ATL</td>\n",
       "      <td>2022-02-14</td>\n",
       "      <td>Wright is listed as QUESTIONABLE for Tuesday's...</td>\n",
       "      <td>Day To Day</td>\n",
       "      <td>Groin</td>\n",
       "    </tr>\n",
       "    <tr>\n",
       "      <th>3</th>\n",
       "      <td>Kevin Durant</td>\n",
       "      <td>BRK</td>\n",
       "      <td>2022-01-16</td>\n",
       "      <td>The Nets announced that Durant was diagnosed w...</td>\n",
       "      <td>Out</td>\n",
       "      <td>Knee</td>\n",
       "    </tr>\n",
       "    <tr>\n",
       "      <th>4</th>\n",
       "      <td>Joe Harris</td>\n",
       "      <td>BRK</td>\n",
       "      <td>2021-11-29</td>\n",
       "      <td>Nets coach Steve Nash said Harris will have an...</td>\n",
       "      <td>Out</td>\n",
       "      <td>Ankle</td>\n",
       "    </tr>\n",
       "    <tr>\n",
       "      <th>...</th>\n",
       "      <td>...</td>\n",
       "      <td>...</td>\n",
       "      <td>...</td>\n",
       "      <td>...</td>\n",
       "      <td>...</td>\n",
       "      <td>...</td>\n",
       "    </tr>\n",
       "    <tr>\n",
       "      <th>89</th>\n",
       "      <td>Rudy Gay</td>\n",
       "      <td>UTA</td>\n",
       "      <td>2022-02-14</td>\n",
       "      <td>Gay is out for Monday's (Feb. 14) game against...</td>\n",
       "      <td>Out</td>\n",
       "      <td>Knee</td>\n",
       "    </tr>\n",
       "    <tr>\n",
       "      <th>90</th>\n",
       "      <td>Bradley Beal</td>\n",
       "      <td>WAS</td>\n",
       "      <td>2022-02-08</td>\n",
       "      <td>Beal will undergo season ending surgery on his...</td>\n",
       "      <td>Out For Season</td>\n",
       "      <td>Wrist</td>\n",
       "    </tr>\n",
       "    <tr>\n",
       "      <th>91</th>\n",
       "      <td>Daniel Gafford</td>\n",
       "      <td>WAS</td>\n",
       "      <td>2022-02-13</td>\n",
       "      <td>Gafford is out for Monday's (Feb. 14) game aga...</td>\n",
       "      <td>Out</td>\n",
       "      <td>Reconditioning</td>\n",
       "    </tr>\n",
       "    <tr>\n",
       "      <th>92</th>\n",
       "      <td>Rui Hachimura</td>\n",
       "      <td>WAS</td>\n",
       "      <td>2022-02-14</td>\n",
       "      <td>Hachimura left Monday's (Feb. 14) game and did...</td>\n",
       "      <td>Day To Day</td>\n",
       "      <td>Ankle</td>\n",
       "    </tr>\n",
       "    <tr>\n",
       "      <th>93</th>\n",
       "      <td>Kristaps PorziÅ†Ä£is</td>\n",
       "      <td>WAS</td>\n",
       "      <td>2022-02-13</td>\n",
       "      <td>Porzingis is out for Monday's (Feb. 14) game a...</td>\n",
       "      <td>Out</td>\n",
       "      <td>Knee</td>\n",
       "    </tr>\n",
       "  </tbody>\n",
       "</table>\n",
       "<p>94 rows × 6 columns</p>\n",
       "</div>"
      ],
      "text/plain": [
       "                  PLAYER TEAM       DATE  \\\n",
       "0     Bogdan BogdanoviÄ‡  ATL 2022-02-14   \n",
       "1           John Collins  ATL 2022-02-12   \n",
       "2           Delon Wright  ATL 2022-02-14   \n",
       "3           Kevin Durant  BRK 2022-01-16   \n",
       "4             Joe Harris  BRK 2021-11-29   \n",
       "..                   ...  ...        ...   \n",
       "89              Rudy Gay  UTA 2022-02-14   \n",
       "90          Bradley Beal  WAS 2022-02-08   \n",
       "91        Daniel Gafford  WAS 2022-02-13   \n",
       "92         Rui Hachimura  WAS 2022-02-14   \n",
       "93  Kristaps PorziÅ†Ä£is  WAS 2022-02-13   \n",
       "\n",
       "                                          DESCRIPTION          STATUS  \\\n",
       "0   Bogdanovic is listed as QUESTIONABLE for Tuesd...      Day To Day   \n",
       "1   The Hawks announced that Collins will be sidel...             Out   \n",
       "2   Wright is listed as QUESTIONABLE for Tuesday's...      Day To Day   \n",
       "3   The Nets announced that Durant was diagnosed w...             Out   \n",
       "4   Nets coach Steve Nash said Harris will have an...             Out   \n",
       "..                                                ...             ...   \n",
       "89  Gay is out for Monday's (Feb. 14) game against...             Out   \n",
       "90  Beal will undergo season ending surgery on his...  Out For Season   \n",
       "91  Gafford is out for Monday's (Feb. 14) game aga...             Out   \n",
       "92  Hachimura left Monday's (Feb. 14) game and did...      Day To Day   \n",
       "93  Porzingis is out for Monday's (Feb. 14) game a...             Out   \n",
       "\n",
       "            INJURY  \n",
       "0            Ankle  \n",
       "1             Foot  \n",
       "2            Groin  \n",
       "3             Knee  \n",
       "4            Ankle  \n",
       "..             ...  \n",
       "89            Knee  \n",
       "90           Wrist  \n",
       "91  Reconditioning  \n",
       "92           Ankle  \n",
       "93            Knee  \n",
       "\n",
       "[94 rows x 6 columns]"
      ]
     },
     "execution_count": 17,
     "metadata": {},
     "output_type": "execute_result"
    }
   ],
   "source": [
    "from basketball_reference_scraper.injury_report import get_injury_report\n",
    "\n",
    "s = get_injury_report()\n",
    "s"
   ]
  },
  {
   "cell_type": "code",
   "execution_count": 18,
   "metadata": {},
   "outputs": [
    {
     "name": "stdout",
     "output_type": "stream",
     "text": [
      "You searched for \"Pau Gasol\"\n",
      "7 results found.\n"
     ]
    },
    {
     "data": {
      "text/html": [
       "<div>\n",
       "<style scoped>\n",
       "    .dataframe tbody tr th:only-of-type {\n",
       "        vertical-align: middle;\n",
       "    }\n",
       "\n",
       "    .dataframe tbody tr th {\n",
       "        vertical-align: top;\n",
       "    }\n",
       "\n",
       "    .dataframe thead th {\n",
       "        text-align: right;\n",
       "    }\n",
       "</style>\n",
       "<table border=\"1\" class=\"dataframe\">\n",
       "  <thead>\n",
       "    <tr style=\"text-align: right;\">\n",
       "      <th></th>\n",
       "      <th>DATE</th>\n",
       "      <th>AGE</th>\n",
       "      <th>TEAM</th>\n",
       "      <th>HOME/AWAY</th>\n",
       "      <th>OPPONENT</th>\n",
       "      <th>RESULT</th>\n",
       "      <th>GS</th>\n",
       "      <th>MP</th>\n",
       "      <th>FG</th>\n",
       "      <th>FGA</th>\n",
       "      <th>...</th>\n",
       "      <th>DRB</th>\n",
       "      <th>TRB</th>\n",
       "      <th>AST</th>\n",
       "      <th>STL</th>\n",
       "      <th>BLK</th>\n",
       "      <th>TOV</th>\n",
       "      <th>PF</th>\n",
       "      <th>PTS</th>\n",
       "      <th>GAME_SCORE</th>\n",
       "      <th>+/-</th>\n",
       "    </tr>\n",
       "  </thead>\n",
       "  <tbody>\n",
       "    <tr>\n",
       "      <th>40</th>\n",
       "      <td>2010-01-15</td>\n",
       "      <td>29-193</td>\n",
       "      <td>LAL</td>\n",
       "      <td>HOME</td>\n",
       "      <td>LAC</td>\n",
       "      <td>W (+40)</td>\n",
       "      <td>1</td>\n",
       "      <td>30:29</td>\n",
       "      <td>4</td>\n",
       "      <td>10</td>\n",
       "      <td>...</td>\n",
       "      <td>2</td>\n",
       "      <td>6</td>\n",
       "      <td>3</td>\n",
       "      <td>0</td>\n",
       "      <td>3</td>\n",
       "      <td>1</td>\n",
       "      <td>0</td>\n",
       "      <td>20</td>\n",
       "      <td>21.2</td>\n",
       "      <td>+22</td>\n",
       "    </tr>\n",
       "    <tr>\n",
       "      <th>42</th>\n",
       "      <td>2010-01-18</td>\n",
       "      <td>29-196</td>\n",
       "      <td>LAL</td>\n",
       "      <td>HOME</td>\n",
       "      <td>ORL</td>\n",
       "      <td>W (+6)</td>\n",
       "      <td>1</td>\n",
       "      <td>39:32</td>\n",
       "      <td>8</td>\n",
       "      <td>14</td>\n",
       "      <td>...</td>\n",
       "      <td>7</td>\n",
       "      <td>10</td>\n",
       "      <td>2</td>\n",
       "      <td>1</td>\n",
       "      <td>0</td>\n",
       "      <td>1</td>\n",
       "      <td>4</td>\n",
       "      <td>17</td>\n",
       "      <td>14.4</td>\n",
       "      <td>+7</td>\n",
       "    </tr>\n",
       "  </tbody>\n",
       "</table>\n",
       "<p>2 rows × 28 columns</p>\n",
       "</div>"
      ],
      "text/plain": [
       "         DATE     AGE TEAM HOME/AWAY OPPONENT   RESULT GS     MP FG FGA  ...  \\\n",
       "40 2010-01-15  29-193  LAL      HOME      LAC  W (+40)  1  30:29  4  10  ...   \n",
       "42 2010-01-18  29-196  LAL      HOME      ORL   W (+6)  1  39:32  8  14  ...   \n",
       "\n",
       "   DRB TRB AST STL BLK TOV PF PTS GAME_SCORE  +/-  \n",
       "40   2   6   3   0   3   1  0  20       21.2  +22  \n",
       "42   7  10   2   1   0   1  4  17       14.4   +7  \n",
       "\n",
       "[2 rows x 28 columns]"
      ]
     },
     "execution_count": 18,
     "metadata": {},
     "output_type": "execute_result"
    }
   ],
   "source": [
    "\n",
    "\n",
    "df = get_game_logs('Pau Gasol', '2010-01-12', '2010-01-20', playoffs=False)\n",
    "df"
   ]
  },
  {
   "cell_type": "code",
   "execution_count": 19,
   "metadata": {},
   "outputs": [
    {
     "name": "stdout",
     "output_type": "stream",
     "text": [
      "You searched for \"Kobe Bryant\"\n",
      "4 results found.\n",
      "https://d2cwpp38twqe55.cloudfront.net/req/202006192/images/players/bryanko01.jpg\n"
     ]
    }
   ],
   "source": [
    "url = get_player_headshot('Kobe Bryant')\n",
    "print(url)"
   ]
  },
  {
   "cell_type": "code",
   "execution_count": 22,
   "metadata": {},
   "outputs": [
    {
     "data": {
      "text/html": [
       "<div>\n",
       "<style scoped>\n",
       "    .dataframe tbody tr th:only-of-type {\n",
       "        vertical-align: middle;\n",
       "    }\n",
       "\n",
       "    .dataframe tbody tr th {\n",
       "        vertical-align: top;\n",
       "    }\n",
       "\n",
       "    .dataframe thead th {\n",
       "        text-align: right;\n",
       "    }\n",
       "</style>\n",
       "<table border=\"1\" class=\"dataframe\">\n",
       "  <thead>\n",
       "    <tr style=\"text-align: right;\">\n",
       "      <th></th>\n",
       "      <th>PICK</th>\n",
       "      <th>TEAM</th>\n",
       "      <th>PLAYER</th>\n",
       "      <th>COLLEGE</th>\n",
       "      <th>YEARS</th>\n",
       "      <th>TOTALS_G</th>\n",
       "      <th>TOTALS_MP</th>\n",
       "      <th>TOTALS_PTS</th>\n",
       "      <th>TOTALS_TRB</th>\n",
       "      <th>TOTALS_AST</th>\n",
       "      <th>...</th>\n",
       "      <th>SHOOTING_3P%</th>\n",
       "      <th>SHOOTING_FT%</th>\n",
       "      <th>PER_GAME_MP</th>\n",
       "      <th>PER_GAME_PTS</th>\n",
       "      <th>PER_GAME_TRB</th>\n",
       "      <th>PER_GAME_AST</th>\n",
       "      <th>ADVANCED_WS</th>\n",
       "      <th>ADVANCED_WS/48</th>\n",
       "      <th>ADVANCED_BPM</th>\n",
       "      <th>ADVANCED_VORP</th>\n",
       "    </tr>\n",
       "  </thead>\n",
       "  <tbody>\n",
       "    <tr>\n",
       "      <th>0</th>\n",
       "      <td>1</td>\n",
       "      <td>DET</td>\n",
       "      <td>Cade Cunningham</td>\n",
       "      <td>Oklahoma State</td>\n",
       "      <td>1</td>\n",
       "      <td>43</td>\n",
       "      <td>1363</td>\n",
       "      <td>672</td>\n",
       "      <td>233</td>\n",
       "      <td>221</td>\n",
       "      <td>...</td>\n",
       "      <td>.323</td>\n",
       "      <td>.864</td>\n",
       "      <td>31.7</td>\n",
       "      <td>15.6</td>\n",
       "      <td>5.4</td>\n",
       "      <td>5.1</td>\n",
       "      <td>-0.7</td>\n",
       "      <td>-.026</td>\n",
       "      <td>-2.2</td>\n",
       "      <td>-0.1</td>\n",
       "    </tr>\n",
       "    <tr>\n",
       "      <th>1</th>\n",
       "      <td>2</td>\n",
       "      <td>HOU</td>\n",
       "      <td>Jalen Green</td>\n",
       "      <td>NaN</td>\n",
       "      <td>1</td>\n",
       "      <td>41</td>\n",
       "      <td>1241</td>\n",
       "      <td>589</td>\n",
       "      <td>132</td>\n",
       "      <td>97</td>\n",
       "      <td>...</td>\n",
       "      <td>.300</td>\n",
       "      <td>.819</td>\n",
       "      <td>30.3</td>\n",
       "      <td>14.4</td>\n",
       "      <td>3.2</td>\n",
       "      <td>2.4</td>\n",
       "      <td>-0.9</td>\n",
       "      <td>-.036</td>\n",
       "      <td>-5.2</td>\n",
       "      <td>-1.0</td>\n",
       "    </tr>\n",
       "    <tr>\n",
       "      <th>2</th>\n",
       "      <td>3</td>\n",
       "      <td>CLE</td>\n",
       "      <td>Evan Mobley</td>\n",
       "      <td>USC</td>\n",
       "      <td>1</td>\n",
       "      <td>49</td>\n",
       "      <td>1667</td>\n",
       "      <td>721</td>\n",
       "      <td>393</td>\n",
       "      <td>124</td>\n",
       "      <td>...</td>\n",
       "      <td>.273</td>\n",
       "      <td>.672</td>\n",
       "      <td>34.0</td>\n",
       "      <td>14.7</td>\n",
       "      <td>8.0</td>\n",
       "      <td>2.5</td>\n",
       "      <td>4.0</td>\n",
       "      <td>.116</td>\n",
       "      <td>0.8</td>\n",
       "      <td>1.2</td>\n",
       "    </tr>\n",
       "    <tr>\n",
       "      <th>3</th>\n",
       "      <td>4</td>\n",
       "      <td>TOR</td>\n",
       "      <td>Scottie Barnes</td>\n",
       "      <td>Florida State</td>\n",
       "      <td>1</td>\n",
       "      <td>48</td>\n",
       "      <td>1704</td>\n",
       "      <td>697</td>\n",
       "      <td>361</td>\n",
       "      <td>160</td>\n",
       "      <td>...</td>\n",
       "      <td>.313</td>\n",
       "      <td>.733</td>\n",
       "      <td>35.5</td>\n",
       "      <td>14.5</td>\n",
       "      <td>7.5</td>\n",
       "      <td>3.3</td>\n",
       "      <td>3.6</td>\n",
       "      <td>.102</td>\n",
       "      <td>-0.2</td>\n",
       "      <td>0.8</td>\n",
       "    </tr>\n",
       "    <tr>\n",
       "      <th>4</th>\n",
       "      <td>5</td>\n",
       "      <td>ORL</td>\n",
       "      <td>Jalen Suggs</td>\n",
       "      <td>Gonzaga</td>\n",
       "      <td>1</td>\n",
       "      <td>38</td>\n",
       "      <td>1064</td>\n",
       "      <td>473</td>\n",
       "      <td>142</td>\n",
       "      <td>166</td>\n",
       "      <td>...</td>\n",
       "      <td>.234</td>\n",
       "      <td>.770</td>\n",
       "      <td>28.0</td>\n",
       "      <td>12.4</td>\n",
       "      <td>3.7</td>\n",
       "      <td>4.4</td>\n",
       "      <td>-1.2</td>\n",
       "      <td>-.052</td>\n",
       "      <td>-5.1</td>\n",
       "      <td>-0.8</td>\n",
       "    </tr>\n",
       "    <tr>\n",
       "      <th>5</th>\n",
       "      <td>6</td>\n",
       "      <td>OKC</td>\n",
       "      <td>Josh Giddey</td>\n",
       "      <td>NaN</td>\n",
       "      <td>1</td>\n",
       "      <td>52</td>\n",
       "      <td>1630</td>\n",
       "      <td>642</td>\n",
       "      <td>402</td>\n",
       "      <td>329</td>\n",
       "      <td>...</td>\n",
       "      <td>.267</td>\n",
       "      <td>.705</td>\n",
       "      <td>31.3</td>\n",
       "      <td>12.3</td>\n",
       "      <td>7.7</td>\n",
       "      <td>6.3</td>\n",
       "      <td>0.9</td>\n",
       "      <td>.025</td>\n",
       "      <td>-1.0</td>\n",
       "      <td>0.4</td>\n",
       "    </tr>\n",
       "    <tr>\n",
       "      <th>6</th>\n",
       "      <td>7</td>\n",
       "      <td>GSW</td>\n",
       "      <td>Jonathan Kuminga</td>\n",
       "      <td>NaN</td>\n",
       "      <td>1</td>\n",
       "      <td>46</td>\n",
       "      <td>659</td>\n",
       "      <td>362</td>\n",
       "      <td>129</td>\n",
       "      <td>30</td>\n",
       "      <td>...</td>\n",
       "      <td>.306</td>\n",
       "      <td>.655</td>\n",
       "      <td>14.3</td>\n",
       "      <td>7.9</td>\n",
       "      <td>2.8</td>\n",
       "      <td>0.7</td>\n",
       "      <td>1.5</td>\n",
       "      <td>.109</td>\n",
       "      <td>-2.7</td>\n",
       "      <td>-0.1</td>\n",
       "    </tr>\n",
       "    <tr>\n",
       "      <th>7</th>\n",
       "      <td>8</td>\n",
       "      <td>ORL</td>\n",
       "      <td>Franz Wagner</td>\n",
       "      <td>Michigan</td>\n",
       "      <td>1</td>\n",
       "      <td>59</td>\n",
       "      <td>1889</td>\n",
       "      <td>923</td>\n",
       "      <td>272</td>\n",
       "      <td>176</td>\n",
       "      <td>...</td>\n",
       "      <td>.362</td>\n",
       "      <td>.853</td>\n",
       "      <td>32.0</td>\n",
       "      <td>15.6</td>\n",
       "      <td>4.6</td>\n",
       "      <td>3.0</td>\n",
       "      <td>2.9</td>\n",
       "      <td>.073</td>\n",
       "      <td>-1.0</td>\n",
       "      <td>0.5</td>\n",
       "    </tr>\n",
       "    <tr>\n",
       "      <th>8</th>\n",
       "      <td>9</td>\n",
       "      <td>SAC</td>\n",
       "      <td>Davion Mitchell</td>\n",
       "      <td>Baylor</td>\n",
       "      <td>1</td>\n",
       "      <td>53</td>\n",
       "      <td>1376</td>\n",
       "      <td>551</td>\n",
       "      <td>125</td>\n",
       "      <td>183</td>\n",
       "      <td>...</td>\n",
       "      <td>.326</td>\n",
       "      <td>.558</td>\n",
       "      <td>26.0</td>\n",
       "      <td>10.4</td>\n",
       "      <td>2.4</td>\n",
       "      <td>3.5</td>\n",
       "      <td>0.2</td>\n",
       "      <td>.007</td>\n",
       "      <td>-3.4</td>\n",
       "      <td>-0.5</td>\n",
       "    </tr>\n",
       "    <tr>\n",
       "      <th>9</th>\n",
       "      <td>10</td>\n",
       "      <td>NOP</td>\n",
       "      <td>Ziaire Williams</td>\n",
       "      <td>Stanford</td>\n",
       "      <td>1</td>\n",
       "      <td>38</td>\n",
       "      <td>821</td>\n",
       "      <td>278</td>\n",
       "      <td>67</td>\n",
       "      <td>35</td>\n",
       "      <td>...</td>\n",
       "      <td>.289</td>\n",
       "      <td>.760</td>\n",
       "      <td>21.6</td>\n",
       "      <td>7.3</td>\n",
       "      <td>1.8</td>\n",
       "      <td>0.9</td>\n",
       "      <td>1.0</td>\n",
       "      <td>.060</td>\n",
       "      <td>-4.1</td>\n",
       "      <td>-0.4</td>\n",
       "    </tr>\n",
       "    <tr>\n",
       "      <th>10</th>\n",
       "      <td>11</td>\n",
       "      <td>CHO</td>\n",
       "      <td>James Bouknight</td>\n",
       "      <td>UConn</td>\n",
       "      <td>1</td>\n",
       "      <td>27</td>\n",
       "      <td>288</td>\n",
       "      <td>140</td>\n",
       "      <td>47</td>\n",
       "      <td>21</td>\n",
       "      <td>...</td>\n",
       "      <td>.347</td>\n",
       "      <td>.871</td>\n",
       "      <td>10.7</td>\n",
       "      <td>5.2</td>\n",
       "      <td>1.7</td>\n",
       "      <td>0.8</td>\n",
       "      <td>0.1</td>\n",
       "      <td>.012</td>\n",
       "      <td>-7.0</td>\n",
       "      <td>-0.4</td>\n",
       "    </tr>\n",
       "    <tr>\n",
       "      <th>11</th>\n",
       "      <td>12</td>\n",
       "      <td>SAS</td>\n",
       "      <td>Joshua Primo</td>\n",
       "      <td>Alabama</td>\n",
       "      <td>1</td>\n",
       "      <td>29</td>\n",
       "      <td>464</td>\n",
       "      <td>146</td>\n",
       "      <td>47</td>\n",
       "      <td>40</td>\n",
       "      <td>...</td>\n",
       "      <td>.333</td>\n",
       "      <td>.783</td>\n",
       "      <td>16.0</td>\n",
       "      <td>5.0</td>\n",
       "      <td>1.6</td>\n",
       "      <td>1.4</td>\n",
       "      <td>0.1</td>\n",
       "      <td>.011</td>\n",
       "      <td>-3.9</td>\n",
       "      <td>-0.2</td>\n",
       "    </tr>\n",
       "    <tr>\n",
       "      <th>12</th>\n",
       "      <td>13</td>\n",
       "      <td>IND</td>\n",
       "      <td>Chris Duarte</td>\n",
       "      <td>Oregon</td>\n",
       "      <td>1</td>\n",
       "      <td>50</td>\n",
       "      <td>1433</td>\n",
       "      <td>671</td>\n",
       "      <td>205</td>\n",
       "      <td>110</td>\n",
       "      <td>...</td>\n",
       "      <td>.364</td>\n",
       "      <td>.792</td>\n",
       "      <td>28.7</td>\n",
       "      <td>13.4</td>\n",
       "      <td>4.1</td>\n",
       "      <td>2.2</td>\n",
       "      <td>1.4</td>\n",
       "      <td>.046</td>\n",
       "      <td>-1.8</td>\n",
       "      <td>0.1</td>\n",
       "    </tr>\n",
       "    <tr>\n",
       "      <th>13</th>\n",
       "      <td>14</td>\n",
       "      <td>GSW</td>\n",
       "      <td>Moses Moody</td>\n",
       "      <td>Arkansas</td>\n",
       "      <td>1</td>\n",
       "      <td>34</td>\n",
       "      <td>322</td>\n",
       "      <td>109</td>\n",
       "      <td>46</td>\n",
       "      <td>11</td>\n",
       "      <td>...</td>\n",
       "      <td>.306</td>\n",
       "      <td>.824</td>\n",
       "      <td>9.5</td>\n",
       "      <td>3.2</td>\n",
       "      <td>1.4</td>\n",
       "      <td>0.3</td>\n",
       "      <td>0.4</td>\n",
       "      <td>.066</td>\n",
       "      <td>-4.7</td>\n",
       "      <td>-0.2</td>\n",
       "    </tr>\n",
       "    <tr>\n",
       "      <th>14</th>\n",
       "      <td>15</td>\n",
       "      <td>WAS</td>\n",
       "      <td>Corey Kispert</td>\n",
       "      <td>Gonzaga</td>\n",
       "      <td>1</td>\n",
       "      <td>51</td>\n",
       "      <td>989</td>\n",
       "      <td>335</td>\n",
       "      <td>130</td>\n",
       "      <td>48</td>\n",
       "      <td>...</td>\n",
       "      <td>.315</td>\n",
       "      <td>.884</td>\n",
       "      <td>19.4</td>\n",
       "      <td>6.6</td>\n",
       "      <td>2.5</td>\n",
       "      <td>0.9</td>\n",
       "      <td>1.2</td>\n",
       "      <td>.059</td>\n",
       "      <td>-2.5</td>\n",
       "      <td>-0.1</td>\n",
       "    </tr>\n",
       "    <tr>\n",
       "      <th>15</th>\n",
       "      <td>16</td>\n",
       "      <td>OKC</td>\n",
       "      <td>Alperen ÅžengÃ¼n</td>\n",
       "      <td>NaN</td>\n",
       "      <td>1</td>\n",
       "      <td>48</td>\n",
       "      <td>895</td>\n",
       "      <td>414</td>\n",
       "      <td>223</td>\n",
       "      <td>118</td>\n",
       "      <td>...</td>\n",
       "      <td>.250</td>\n",
       "      <td>.694</td>\n",
       "      <td>18.6</td>\n",
       "      <td>8.6</td>\n",
       "      <td>4.6</td>\n",
       "      <td>2.5</td>\n",
       "      <td>1.1</td>\n",
       "      <td>.061</td>\n",
       "      <td>-0.9</td>\n",
       "      <td>0.3</td>\n",
       "    </tr>\n",
       "    <tr>\n",
       "      <th>16</th>\n",
       "      <td>17</td>\n",
       "      <td>MEM</td>\n",
       "      <td>Trey Murphy III</td>\n",
       "      <td>Virginia</td>\n",
       "      <td>1</td>\n",
       "      <td>41</td>\n",
       "      <td>519</td>\n",
       "      <td>160</td>\n",
       "      <td>88</td>\n",
       "      <td>20</td>\n",
       "      <td>...</td>\n",
       "      <td>.336</td>\n",
       "      <td>.857</td>\n",
       "      <td>12.7</td>\n",
       "      <td>3.9</td>\n",
       "      <td>2.1</td>\n",
       "      <td>0.5</td>\n",
       "      <td>0.6</td>\n",
       "      <td>.054</td>\n",
       "      <td>-3.3</td>\n",
       "      <td>-0.2</td>\n",
       "    </tr>\n",
       "    <tr>\n",
       "      <th>17</th>\n",
       "      <td>18</td>\n",
       "      <td>OKC</td>\n",
       "      <td>Tre Mann</td>\n",
       "      <td>Florida</td>\n",
       "      <td>1</td>\n",
       "      <td>44</td>\n",
       "      <td>867</td>\n",
       "      <td>366</td>\n",
       "      <td>94</td>\n",
       "      <td>42</td>\n",
       "      <td>...</td>\n",
       "      <td>.362</td>\n",
       "      <td>.774</td>\n",
       "      <td>19.7</td>\n",
       "      <td>8.3</td>\n",
       "      <td>2.1</td>\n",
       "      <td>1.0</td>\n",
       "      <td>0.1</td>\n",
       "      <td>.007</td>\n",
       "      <td>-4.6</td>\n",
       "      <td>-0.6</td>\n",
       "    </tr>\n",
       "    <tr>\n",
       "      <th>18</th>\n",
       "      <td>19</td>\n",
       "      <td>NYK</td>\n",
       "      <td>Kai Jones</td>\n",
       "      <td>Texas</td>\n",
       "      <td>1</td>\n",
       "      <td>17</td>\n",
       "      <td>48</td>\n",
       "      <td>16</td>\n",
       "      <td>8</td>\n",
       "      <td>4</td>\n",
       "      <td>...</td>\n",
       "      <td>.500</td>\n",
       "      <td>.250</td>\n",
       "      <td>2.8</td>\n",
       "      <td>0.9</td>\n",
       "      <td>0.5</td>\n",
       "      <td>0.2</td>\n",
       "      <td>0.0</td>\n",
       "      <td>-.024</td>\n",
       "      <td>-8.8</td>\n",
       "      <td>-0.1</td>\n",
       "    </tr>\n",
       "    <tr>\n",
       "      <th>19</th>\n",
       "      <td>20</td>\n",
       "      <td>ATL</td>\n",
       "      <td>Jalen Johnson</td>\n",
       "      <td>Duke</td>\n",
       "      <td>1</td>\n",
       "      <td>13</td>\n",
       "      <td>58</td>\n",
       "      <td>25</td>\n",
       "      <td>15</td>\n",
       "      <td>1</td>\n",
       "      <td>...</td>\n",
       "      <td>.429</td>\n",
       "      <td>.667</td>\n",
       "      <td>4.5</td>\n",
       "      <td>1.9</td>\n",
       "      <td>1.2</td>\n",
       "      <td>0.1</td>\n",
       "      <td>0.0</td>\n",
       "      <td>.018</td>\n",
       "      <td>-4.6</td>\n",
       "      <td>0.0</td>\n",
       "    </tr>\n",
       "    <tr>\n",
       "      <th>20</th>\n",
       "      <td>21</td>\n",
       "      <td>NYK</td>\n",
       "      <td>Keon Johnson</td>\n",
       "      <td>Tennessee</td>\n",
       "      <td>1</td>\n",
       "      <td>15</td>\n",
       "      <td>135</td>\n",
       "      <td>53</td>\n",
       "      <td>21</td>\n",
       "      <td>13</td>\n",
       "      <td>...</td>\n",
       "      <td>.273</td>\n",
       "      <td>.762</td>\n",
       "      <td>9.0</td>\n",
       "      <td>3.5</td>\n",
       "      <td>1.4</td>\n",
       "      <td>0.9</td>\n",
       "      <td>0.1</td>\n",
       "      <td>.020</td>\n",
       "      <td>-5.7</td>\n",
       "      <td>-0.1</td>\n",
       "    </tr>\n",
       "    <tr>\n",
       "      <th>21</th>\n",
       "      <td>22</td>\n",
       "      <td>LAL</td>\n",
       "      <td>Isaiah Jackson</td>\n",
       "      <td>Kentucky</td>\n",
       "      <td>1</td>\n",
       "      <td>20</td>\n",
       "      <td>193</td>\n",
       "      <td>115</td>\n",
       "      <td>55</td>\n",
       "      <td>7</td>\n",
       "      <td>...</td>\n",
       "      <td>.429</td>\n",
       "      <td>.667</td>\n",
       "      <td>9.7</td>\n",
       "      <td>5.8</td>\n",
       "      <td>2.8</td>\n",
       "      <td>0.4</td>\n",
       "      <td>0.7</td>\n",
       "      <td>.175</td>\n",
       "      <td>0.0</td>\n",
       "      <td>0.1</td>\n",
       "    </tr>\n",
       "    <tr>\n",
       "      <th>22</th>\n",
       "      <td>23</td>\n",
       "      <td>HOU</td>\n",
       "      <td>Usman Garuba</td>\n",
       "      <td>NaN</td>\n",
       "      <td>1</td>\n",
       "      <td>15</td>\n",
       "      <td>105</td>\n",
       "      <td>19</td>\n",
       "      <td>34</td>\n",
       "      <td>8</td>\n",
       "      <td>...</td>\n",
       "      <td>.154</td>\n",
       "      <td>.500</td>\n",
       "      <td>7.0</td>\n",
       "      <td>1.3</td>\n",
       "      <td>2.3</td>\n",
       "      <td>0.5</td>\n",
       "      <td>0.1</td>\n",
       "      <td>.053</td>\n",
       "      <td>-0.4</td>\n",
       "      <td>0.0</td>\n",
       "    </tr>\n",
       "    <tr>\n",
       "      <th>23</th>\n",
       "      <td>24</td>\n",
       "      <td>HOU</td>\n",
       "      <td>Josh Christopher</td>\n",
       "      <td>Arizona State</td>\n",
       "      <td>1</td>\n",
       "      <td>48</td>\n",
       "      <td>789</td>\n",
       "      <td>355</td>\n",
       "      <td>96</td>\n",
       "      <td>81</td>\n",
       "      <td>...</td>\n",
       "      <td>.333</td>\n",
       "      <td>.766</td>\n",
       "      <td>16.4</td>\n",
       "      <td>7.4</td>\n",
       "      <td>2.0</td>\n",
       "      <td>1.7</td>\n",
       "      <td>0.3</td>\n",
       "      <td>.020</td>\n",
       "      <td>-3.0</td>\n",
       "      <td>-0.2</td>\n",
       "    </tr>\n",
       "    <tr>\n",
       "      <th>24</th>\n",
       "      <td>25</td>\n",
       "      <td>LAC</td>\n",
       "      <td>Quentin Grimes</td>\n",
       "      <td>Houston</td>\n",
       "      <td>1</td>\n",
       "      <td>38</td>\n",
       "      <td>664</td>\n",
       "      <td>245</td>\n",
       "      <td>75</td>\n",
       "      <td>36</td>\n",
       "      <td>...</td>\n",
       "      <td>.395</td>\n",
       "      <td>.647</td>\n",
       "      <td>17.5</td>\n",
       "      <td>6.4</td>\n",
       "      <td>2.0</td>\n",
       "      <td>0.9</td>\n",
       "      <td>1.3</td>\n",
       "      <td>.091</td>\n",
       "      <td>0.1</td>\n",
       "      <td>0.4</td>\n",
       "    </tr>\n",
       "    <tr>\n",
       "      <th>25</th>\n",
       "      <td>26</td>\n",
       "      <td>DEN</td>\n",
       "      <td>Bones Hyland</td>\n",
       "      <td>VCU</td>\n",
       "      <td>1</td>\n",
       "      <td>45</td>\n",
       "      <td>813</td>\n",
       "      <td>398</td>\n",
       "      <td>124</td>\n",
       "      <td>88</td>\n",
       "      <td>...</td>\n",
       "      <td>.350</td>\n",
       "      <td>.881</td>\n",
       "      <td>18.1</td>\n",
       "      <td>8.8</td>\n",
       "      <td>2.8</td>\n",
       "      <td>2.0</td>\n",
       "      <td>0.6</td>\n",
       "      <td>.033</td>\n",
       "      <td>-2.8</td>\n",
       "      <td>-0.2</td>\n",
       "    </tr>\n",
       "    <tr>\n",
       "      <th>26</th>\n",
       "      <td>27</td>\n",
       "      <td>BRK</td>\n",
       "      <td>Cam Thomas</td>\n",
       "      <td>LSU</td>\n",
       "      <td>1</td>\n",
       "      <td>46</td>\n",
       "      <td>880</td>\n",
       "      <td>429</td>\n",
       "      <td>117</td>\n",
       "      <td>58</td>\n",
       "      <td>...</td>\n",
       "      <td>.272</td>\n",
       "      <td>.817</td>\n",
       "      <td>19.1</td>\n",
       "      <td>9.3</td>\n",
       "      <td>2.5</td>\n",
       "      <td>1.3</td>\n",
       "      <td>0.9</td>\n",
       "      <td>.047</td>\n",
       "      <td>-2.9</td>\n",
       "      <td>-0.2</td>\n",
       "    </tr>\n",
       "    <tr>\n",
       "      <th>27</th>\n",
       "      <td>28</td>\n",
       "      <td>PHI</td>\n",
       "      <td>Jaden Springer</td>\n",
       "      <td>Tennessee</td>\n",
       "      <td>1</td>\n",
       "      <td>2</td>\n",
       "      <td>6</td>\n",
       "      <td>2</td>\n",
       "      <td>2</td>\n",
       "      <td>0</td>\n",
       "      <td>...</td>\n",
       "      <td>NaN</td>\n",
       "      <td>NaN</td>\n",
       "      <td>3.0</td>\n",
       "      <td>1.0</td>\n",
       "      <td>1.0</td>\n",
       "      <td>0.0</td>\n",
       "      <td>0.0</td>\n",
       "      <td>.145</td>\n",
       "      <td>17.2</td>\n",
       "      <td>0.0</td>\n",
       "    </tr>\n",
       "    <tr>\n",
       "      <th>28</th>\n",
       "      <td>29</td>\n",
       "      <td>PHO</td>\n",
       "      <td>Day'Ron Sharpe</td>\n",
       "      <td>UNC</td>\n",
       "      <td>1</td>\n",
       "      <td>29</td>\n",
       "      <td>372</td>\n",
       "      <td>182</td>\n",
       "      <td>152</td>\n",
       "      <td>15</td>\n",
       "      <td>...</td>\n",
       "      <td>.250</td>\n",
       "      <td>.568</td>\n",
       "      <td>12.8</td>\n",
       "      <td>6.3</td>\n",
       "      <td>5.2</td>\n",
       "      <td>0.5</td>\n",
       "      <td>1.1</td>\n",
       "      <td>.147</td>\n",
       "      <td>-3.6</td>\n",
       "      <td>-0.1</td>\n",
       "    </tr>\n",
       "    <tr>\n",
       "      <th>29</th>\n",
       "      <td>30</td>\n",
       "      <td>UTA</td>\n",
       "      <td>Santi Aldama</td>\n",
       "      <td>Loyola (MD)</td>\n",
       "      <td>1</td>\n",
       "      <td>27</td>\n",
       "      <td>277</td>\n",
       "      <td>90</td>\n",
       "      <td>64</td>\n",
       "      <td>14</td>\n",
       "      <td>...</td>\n",
       "      <td>.103</td>\n",
       "      <td>.600</td>\n",
       "      <td>10.3</td>\n",
       "      <td>3.3</td>\n",
       "      <td>2.4</td>\n",
       "      <td>0.5</td>\n",
       "      <td>0.2</td>\n",
       "      <td>.026</td>\n",
       "      <td>-6.6</td>\n",
       "      <td>-0.3</td>\n",
       "    </tr>\n",
       "    <tr>\n",
       "      <th>32</th>\n",
       "      <td>31</td>\n",
       "      <td>MIL</td>\n",
       "      <td>Isaiah Todd</td>\n",
       "      <td>NaN</td>\n",
       "      <td>1</td>\n",
       "      <td>9</td>\n",
       "      <td>35</td>\n",
       "      <td>16</td>\n",
       "      <td>9</td>\n",
       "      <td>1</td>\n",
       "      <td>...</td>\n",
       "      <td>.400</td>\n",
       "      <td>.500</td>\n",
       "      <td>3.9</td>\n",
       "      <td>1.8</td>\n",
       "      <td>1.0</td>\n",
       "      <td>0.1</td>\n",
       "      <td>0.0</td>\n",
       "      <td>.060</td>\n",
       "      <td>1.8</td>\n",
       "      <td>0.0</td>\n",
       "    </tr>\n",
       "    <tr>\n",
       "      <th>33</th>\n",
       "      <td>32</td>\n",
       "      <td>NYK</td>\n",
       "      <td>Jeremiah Robinson-Earl</td>\n",
       "      <td>Villanova</td>\n",
       "      <td>1</td>\n",
       "      <td>44</td>\n",
       "      <td>1014</td>\n",
       "      <td>314</td>\n",
       "      <td>254</td>\n",
       "      <td>44</td>\n",
       "      <td>...</td>\n",
       "      <td>.333</td>\n",
       "      <td>.714</td>\n",
       "      <td>23.0</td>\n",
       "      <td>7.1</td>\n",
       "      <td>5.8</td>\n",
       "      <td>1.0</td>\n",
       "      <td>1.4</td>\n",
       "      <td>.068</td>\n",
       "      <td>-2.5</td>\n",
       "      <td>-0.1</td>\n",
       "    </tr>\n",
       "    <tr>\n",
       "      <th>34</th>\n",
       "      <td>33</td>\n",
       "      <td>ORL</td>\n",
       "      <td>Jason Preston</td>\n",
       "      <td>Ohio University</td>\n",
       "      <td>NaN</td>\n",
       "      <td>NaN</td>\n",
       "      <td>NaN</td>\n",
       "      <td>NaN</td>\n",
       "      <td>NaN</td>\n",
       "      <td>NaN</td>\n",
       "      <td>...</td>\n",
       "      <td>NaN</td>\n",
       "      <td>NaN</td>\n",
       "      <td>NaN</td>\n",
       "      <td>NaN</td>\n",
       "      <td>NaN</td>\n",
       "      <td>NaN</td>\n",
       "      <td>NaN</td>\n",
       "      <td>NaN</td>\n",
       "      <td>NaN</td>\n",
       "      <td>NaN</td>\n",
       "    </tr>\n",
       "    <tr>\n",
       "      <th>35</th>\n",
       "      <td>34</td>\n",
       "      <td>OKC</td>\n",
       "      <td>Rokas Jokubaitis</td>\n",
       "      <td>NaN</td>\n",
       "      <td>NaN</td>\n",
       "      <td>NaN</td>\n",
       "      <td>NaN</td>\n",
       "      <td>NaN</td>\n",
       "      <td>NaN</td>\n",
       "      <td>NaN</td>\n",
       "      <td>...</td>\n",
       "      <td>NaN</td>\n",
       "      <td>NaN</td>\n",
       "      <td>NaN</td>\n",
       "      <td>NaN</td>\n",
       "      <td>NaN</td>\n",
       "      <td>NaN</td>\n",
       "      <td>NaN</td>\n",
       "      <td>NaN</td>\n",
       "      <td>NaN</td>\n",
       "      <td>NaN</td>\n",
       "    </tr>\n",
       "    <tr>\n",
       "      <th>36</th>\n",
       "      <td>35</td>\n",
       "      <td>NOP</td>\n",
       "      <td>Herbert Jones</td>\n",
       "      <td>Alabama</td>\n",
       "      <td>1</td>\n",
       "      <td>54</td>\n",
       "      <td>1614</td>\n",
       "      <td>519</td>\n",
       "      <td>208</td>\n",
       "      <td>115</td>\n",
       "      <td>...</td>\n",
       "      <td>.365</td>\n",
       "      <td>.848</td>\n",
       "      <td>29.9</td>\n",
       "      <td>9.6</td>\n",
       "      <td>3.9</td>\n",
       "      <td>2.1</td>\n",
       "      <td>3.5</td>\n",
       "      <td>.104</td>\n",
       "      <td>-0.3</td>\n",
       "      <td>0.7</td>\n",
       "    </tr>\n",
       "    <tr>\n",
       "      <th>37</th>\n",
       "      <td>36</td>\n",
       "      <td>OKC</td>\n",
       "      <td>Miles McBride</td>\n",
       "      <td>West Virginia</td>\n",
       "      <td>1</td>\n",
       "      <td>21</td>\n",
       "      <td>151</td>\n",
       "      <td>38</td>\n",
       "      <td>16</td>\n",
       "      <td>23</td>\n",
       "      <td>...</td>\n",
       "      <td>.161</td>\n",
       "      <td>.750</td>\n",
       "      <td>7.2</td>\n",
       "      <td>1.8</td>\n",
       "      <td>0.8</td>\n",
       "      <td>1.1</td>\n",
       "      <td>-0.1</td>\n",
       "      <td>-.030</td>\n",
       "      <td>-6.0</td>\n",
       "      <td>-0.2</td>\n",
       "    </tr>\n",
       "    <tr>\n",
       "      <th>38</th>\n",
       "      <td>37</td>\n",
       "      <td>DET</td>\n",
       "      <td>JT Thor</td>\n",
       "      <td>Auburn</td>\n",
       "      <td>1</td>\n",
       "      <td>17</td>\n",
       "      <td>144</td>\n",
       "      <td>41</td>\n",
       "      <td>22</td>\n",
       "      <td>10</td>\n",
       "      <td>...</td>\n",
       "      <td>.286</td>\n",
       "      <td>.700</td>\n",
       "      <td>8.5</td>\n",
       "      <td>2.4</td>\n",
       "      <td>1.3</td>\n",
       "      <td>0.6</td>\n",
       "      <td>0.2</td>\n",
       "      <td>.062</td>\n",
       "      <td>-3.6</td>\n",
       "      <td>-0.1</td>\n",
       "    </tr>\n",
       "    <tr>\n",
       "      <th>39</th>\n",
       "      <td>38</td>\n",
       "      <td>CHI</td>\n",
       "      <td>Ayo Dosunmu</td>\n",
       "      <td>Illinois</td>\n",
       "      <td>1</td>\n",
       "      <td>53</td>\n",
       "      <td>1358</td>\n",
       "      <td>428</td>\n",
       "      <td>145</td>\n",
       "      <td>160</td>\n",
       "      <td>...</td>\n",
       "      <td>.413</td>\n",
       "      <td>.655</td>\n",
       "      <td>25.6</td>\n",
       "      <td>8.1</td>\n",
       "      <td>2.7</td>\n",
       "      <td>3.0</td>\n",
       "      <td>2.5</td>\n",
       "      <td>.090</td>\n",
       "      <td>-1.5</td>\n",
       "      <td>0.2</td>\n",
       "    </tr>\n",
       "    <tr>\n",
       "      <th>40</th>\n",
       "      <td>39</td>\n",
       "      <td>SAC</td>\n",
       "      <td>Neemias Queta</td>\n",
       "      <td>Utah State University</td>\n",
       "      <td>1</td>\n",
       "      <td>10</td>\n",
       "      <td>56</td>\n",
       "      <td>21</td>\n",
       "      <td>19</td>\n",
       "      <td>4</td>\n",
       "      <td>...</td>\n",
       "      <td>NaN</td>\n",
       "      <td>.600</td>\n",
       "      <td>5.6</td>\n",
       "      <td>2.1</td>\n",
       "      <td>1.9</td>\n",
       "      <td>0.4</td>\n",
       "      <td>0.0</td>\n",
       "      <td>.009</td>\n",
       "      <td>-6.3</td>\n",
       "      <td>-0.1</td>\n",
       "    </tr>\n",
       "    <tr>\n",
       "      <th>41</th>\n",
       "      <td>40</td>\n",
       "      <td>NOP</td>\n",
       "      <td>Jared Butler</td>\n",
       "      <td>Baylor</td>\n",
       "      <td>1</td>\n",
       "      <td>28</td>\n",
       "      <td>213</td>\n",
       "      <td>96</td>\n",
       "      <td>23</td>\n",
       "      <td>34</td>\n",
       "      <td>...</td>\n",
       "      <td>.362</td>\n",
       "      <td>.583</td>\n",
       "      <td>7.6</td>\n",
       "      <td>3.4</td>\n",
       "      <td>0.8</td>\n",
       "      <td>1.2</td>\n",
       "      <td>0.2</td>\n",
       "      <td>.039</td>\n",
       "      <td>-1.9</td>\n",
       "      <td>0.0</td>\n",
       "    </tr>\n",
       "    <tr>\n",
       "      <th>42</th>\n",
       "      <td>41</td>\n",
       "      <td>SAS</td>\n",
       "      <td>Joe Wieskamp</td>\n",
       "      <td>Iowa</td>\n",
       "      <td>1</td>\n",
       "      <td>15</td>\n",
       "      <td>92</td>\n",
       "      <td>37</td>\n",
       "      <td>8</td>\n",
       "      <td>5</td>\n",
       "      <td>...</td>\n",
       "      <td>.421</td>\n",
       "      <td>.429</td>\n",
       "      <td>6.1</td>\n",
       "      <td>2.5</td>\n",
       "      <td>0.5</td>\n",
       "      <td>0.3</td>\n",
       "      <td>0.2</td>\n",
       "      <td>.105</td>\n",
       "      <td>-0.1</td>\n",
       "      <td>0.0</td>\n",
       "    </tr>\n",
       "    <tr>\n",
       "      <th>43</th>\n",
       "      <td>42</td>\n",
       "      <td>DET</td>\n",
       "      <td>Isaiah Livers</td>\n",
       "      <td>Michigan</td>\n",
       "      <td>1</td>\n",
       "      <td>1</td>\n",
       "      <td>5</td>\n",
       "      <td>0</td>\n",
       "      <td>0</td>\n",
       "      <td>0</td>\n",
       "      <td>...</td>\n",
       "      <td>.000</td>\n",
       "      <td>NaN</td>\n",
       "      <td>5.0</td>\n",
       "      <td>0.0</td>\n",
       "      <td>0.0</td>\n",
       "      <td>0.0</td>\n",
       "      <td>-0.1</td>\n",
       "      <td>-.522</td>\n",
       "      <td>-17.1</td>\n",
       "      <td>0.0</td>\n",
       "    </tr>\n",
       "    <tr>\n",
       "      <th>44</th>\n",
       "      <td>43</td>\n",
       "      <td>NOP</td>\n",
       "      <td>Greg Brown III</td>\n",
       "      <td>Texas</td>\n",
       "      <td>1</td>\n",
       "      <td>27</td>\n",
       "      <td>204</td>\n",
       "      <td>89</td>\n",
       "      <td>53</td>\n",
       "      <td>7</td>\n",
       "      <td>...</td>\n",
       "      <td>.190</td>\n",
       "      <td>.607</td>\n",
       "      <td>7.6</td>\n",
       "      <td>3.3</td>\n",
       "      <td>2.0</td>\n",
       "      <td>0.3</td>\n",
       "      <td>0.2</td>\n",
       "      <td>.056</td>\n",
       "      <td>-3.9</td>\n",
       "      <td>-0.1</td>\n",
       "    </tr>\n",
       "    <tr>\n",
       "      <th>45</th>\n",
       "      <td>44</td>\n",
       "      <td>BRK</td>\n",
       "      <td>Kessler Edwards</td>\n",
       "      <td>Pepperdine</td>\n",
       "      <td>1</td>\n",
       "      <td>26</td>\n",
       "      <td>664</td>\n",
       "      <td>180</td>\n",
       "      <td>115</td>\n",
       "      <td>16</td>\n",
       "      <td>...</td>\n",
       "      <td>.345</td>\n",
       "      <td>.800</td>\n",
       "      <td>25.5</td>\n",
       "      <td>6.9</td>\n",
       "      <td>4.4</td>\n",
       "      <td>0.6</td>\n",
       "      <td>0.3</td>\n",
       "      <td>.023</td>\n",
       "      <td>-4.3</td>\n",
       "      <td>-0.4</td>\n",
       "    </tr>\n",
       "    <tr>\n",
       "      <th>46</th>\n",
       "      <td>45</td>\n",
       "      <td>BOS</td>\n",
       "      <td>Juhann Begarin</td>\n",
       "      <td>NaN</td>\n",
       "      <td>NaN</td>\n",
       "      <td>NaN</td>\n",
       "      <td>NaN</td>\n",
       "      <td>NaN</td>\n",
       "      <td>NaN</td>\n",
       "      <td>NaN</td>\n",
       "      <td>...</td>\n",
       "      <td>NaN</td>\n",
       "      <td>NaN</td>\n",
       "      <td>NaN</td>\n",
       "      <td>NaN</td>\n",
       "      <td>NaN</td>\n",
       "      <td>NaN</td>\n",
       "      <td>NaN</td>\n",
       "      <td>NaN</td>\n",
       "      <td>NaN</td>\n",
       "      <td>NaN</td>\n",
       "    </tr>\n",
       "    <tr>\n",
       "      <th>47</th>\n",
       "      <td>46</td>\n",
       "      <td>TOR</td>\n",
       "      <td>Dalano Banton</td>\n",
       "      <td>Nebraska</td>\n",
       "      <td>1</td>\n",
       "      <td>46</td>\n",
       "      <td>547</td>\n",
       "      <td>167</td>\n",
       "      <td>101</td>\n",
       "      <td>74</td>\n",
       "      <td>...</td>\n",
       "      <td>.256</td>\n",
       "      <td>.625</td>\n",
       "      <td>11.9</td>\n",
       "      <td>3.6</td>\n",
       "      <td>2.2</td>\n",
       "      <td>1.6</td>\n",
       "      <td>0.2</td>\n",
       "      <td>.018</td>\n",
       "      <td>-3.4</td>\n",
       "      <td>-0.2</td>\n",
       "    </tr>\n",
       "    <tr>\n",
       "      <th>48</th>\n",
       "      <td>47</td>\n",
       "      <td>TOR</td>\n",
       "      <td>David Johnson</td>\n",
       "      <td>Louisville</td>\n",
       "      <td>1</td>\n",
       "      <td>2</td>\n",
       "      <td>2</td>\n",
       "      <td>0</td>\n",
       "      <td>0</td>\n",
       "      <td>0</td>\n",
       "      <td>...</td>\n",
       "      <td>.000</td>\n",
       "      <td>NaN</td>\n",
       "      <td>1.0</td>\n",
       "      <td>0.0</td>\n",
       "      <td>0.0</td>\n",
       "      <td>0.0</td>\n",
       "      <td>0.0</td>\n",
       "      <td>-.508</td>\n",
       "      <td>-27.7</td>\n",
       "      <td>0.0</td>\n",
       "    </tr>\n",
       "    <tr>\n",
       "      <th>49</th>\n",
       "      <td>48</td>\n",
       "      <td>ATL</td>\n",
       "      <td>Sharife Cooper</td>\n",
       "      <td>Auburn</td>\n",
       "      <td>1</td>\n",
       "      <td>11</td>\n",
       "      <td>35</td>\n",
       "      <td>7</td>\n",
       "      <td>5</td>\n",
       "      <td>5</td>\n",
       "      <td>...</td>\n",
       "      <td>.167</td>\n",
       "      <td>NaN</td>\n",
       "      <td>3.2</td>\n",
       "      <td>0.6</td>\n",
       "      <td>0.5</td>\n",
       "      <td>0.5</td>\n",
       "      <td>-0.2</td>\n",
       "      <td>-.333</td>\n",
       "      <td>-17.3</td>\n",
       "      <td>-0.1</td>\n",
       "    </tr>\n",
       "    <tr>\n",
       "      <th>50</th>\n",
       "      <td>49</td>\n",
       "      <td>BRK</td>\n",
       "      <td>Marcus Zegarowski</td>\n",
       "      <td>Creighton</td>\n",
       "      <td>NaN</td>\n",
       "      <td>NaN</td>\n",
       "      <td>NaN</td>\n",
       "      <td>NaN</td>\n",
       "      <td>NaN</td>\n",
       "      <td>NaN</td>\n",
       "      <td>...</td>\n",
       "      <td>NaN</td>\n",
       "      <td>NaN</td>\n",
       "      <td>NaN</td>\n",
       "      <td>NaN</td>\n",
       "      <td>NaN</td>\n",
       "      <td>NaN</td>\n",
       "      <td>NaN</td>\n",
       "      <td>NaN</td>\n",
       "      <td>NaN</td>\n",
       "      <td>NaN</td>\n",
       "    </tr>\n",
       "    <tr>\n",
       "      <th>51</th>\n",
       "      <td>50</td>\n",
       "      <td>PHI</td>\n",
       "      <td>Filip PetruÅ¡ev</td>\n",
       "      <td>Gonzaga</td>\n",
       "      <td>NaN</td>\n",
       "      <td>NaN</td>\n",
       "      <td>NaN</td>\n",
       "      <td>NaN</td>\n",
       "      <td>NaN</td>\n",
       "      <td>NaN</td>\n",
       "      <td>...</td>\n",
       "      <td>NaN</td>\n",
       "      <td>NaN</td>\n",
       "      <td>NaN</td>\n",
       "      <td>NaN</td>\n",
       "      <td>NaN</td>\n",
       "      <td>NaN</td>\n",
       "      <td>NaN</td>\n",
       "      <td>NaN</td>\n",
       "      <td>NaN</td>\n",
       "      <td>NaN</td>\n",
       "    </tr>\n",
       "    <tr>\n",
       "      <th>52</th>\n",
       "      <td>51</td>\n",
       "      <td>MEM</td>\n",
       "      <td>Brandon Boston Jr.</td>\n",
       "      <td>Kentucky</td>\n",
       "      <td>1</td>\n",
       "      <td>40</td>\n",
       "      <td>610</td>\n",
       "      <td>267</td>\n",
       "      <td>92</td>\n",
       "      <td>34</td>\n",
       "      <td>...</td>\n",
       "      <td>.304</td>\n",
       "      <td>.855</td>\n",
       "      <td>15.3</td>\n",
       "      <td>6.7</td>\n",
       "      <td>2.3</td>\n",
       "      <td>0.9</td>\n",
       "      <td>0.2</td>\n",
       "      <td>.012</td>\n",
       "      <td>-3.7</td>\n",
       "      <td>-0.3</td>\n",
       "    </tr>\n",
       "    <tr>\n",
       "      <th>53</th>\n",
       "      <td>52</td>\n",
       "      <td>DET</td>\n",
       "      <td>Luka Garza</td>\n",
       "      <td>Iowa</td>\n",
       "      <td>1</td>\n",
       "      <td>29</td>\n",
       "      <td>340</td>\n",
       "      <td>151</td>\n",
       "      <td>87</td>\n",
       "      <td>16</td>\n",
       "      <td>...</td>\n",
       "      <td>.341</td>\n",
       "      <td>.643</td>\n",
       "      <td>11.7</td>\n",
       "      <td>5.2</td>\n",
       "      <td>3.0</td>\n",
       "      <td>0.6</td>\n",
       "      <td>0.5</td>\n",
       "      <td>.074</td>\n",
       "      <td>-3.4</td>\n",
       "      <td>-0.1</td>\n",
       "    </tr>\n",
       "    <tr>\n",
       "      <th>54</th>\n",
       "      <td>53</td>\n",
       "      <td>PHI</td>\n",
       "      <td>Charles Bassey</td>\n",
       "      <td>Western Kentucky</td>\n",
       "      <td>1</td>\n",
       "      <td>22</td>\n",
       "      <td>161</td>\n",
       "      <td>64</td>\n",
       "      <td>60</td>\n",
       "      <td>7</td>\n",
       "      <td>...</td>\n",
       "      <td>.000</td>\n",
       "      <td>.727</td>\n",
       "      <td>7.3</td>\n",
       "      <td>2.9</td>\n",
       "      <td>2.7</td>\n",
       "      <td>0.3</td>\n",
       "      <td>0.8</td>\n",
       "      <td>.224</td>\n",
       "      <td>1.8</td>\n",
       "      <td>0.2</td>\n",
       "    </tr>\n",
       "    <tr>\n",
       "      <th>55</th>\n",
       "      <td>54</td>\n",
       "      <td>IND</td>\n",
       "      <td>Sandro Mamukelashvili</td>\n",
       "      <td>Seton Hall</td>\n",
       "      <td>1</td>\n",
       "      <td>32</td>\n",
       "      <td>302</td>\n",
       "      <td>96</td>\n",
       "      <td>57</td>\n",
       "      <td>16</td>\n",
       "      <td>...</td>\n",
       "      <td>.385</td>\n",
       "      <td>.750</td>\n",
       "      <td>9.4</td>\n",
       "      <td>3.0</td>\n",
       "      <td>1.8</td>\n",
       "      <td>0.5</td>\n",
       "      <td>0.7</td>\n",
       "      <td>.105</td>\n",
       "      <td>-1.0</td>\n",
       "      <td>0.1</td>\n",
       "    </tr>\n",
       "    <tr>\n",
       "      <th>56</th>\n",
       "      <td>55</td>\n",
       "      <td>OKC</td>\n",
       "      <td>Aaron Wiggins</td>\n",
       "      <td>Maryland</td>\n",
       "      <td>1</td>\n",
       "      <td>33</td>\n",
       "      <td>732</td>\n",
       "      <td>236</td>\n",
       "      <td>114</td>\n",
       "      <td>37</td>\n",
       "      <td>...</td>\n",
       "      <td>.310</td>\n",
       "      <td>.694</td>\n",
       "      <td>22.2</td>\n",
       "      <td>7.2</td>\n",
       "      <td>3.5</td>\n",
       "      <td>1.1</td>\n",
       "      <td>1.2</td>\n",
       "      <td>.081</td>\n",
       "      <td>-2.7</td>\n",
       "      <td>-0.1</td>\n",
       "    </tr>\n",
       "    <tr>\n",
       "      <th>57</th>\n",
       "      <td>56</td>\n",
       "      <td>CHO</td>\n",
       "      <td>Scottie Lewis</td>\n",
       "      <td>Florida</td>\n",
       "      <td>1</td>\n",
       "      <td>2</td>\n",
       "      <td>7</td>\n",
       "      <td>1</td>\n",
       "      <td>0</td>\n",
       "      <td>1</td>\n",
       "      <td>...</td>\n",
       "      <td>NaN</td>\n",
       "      <td>.500</td>\n",
       "      <td>3.5</td>\n",
       "      <td>0.5</td>\n",
       "      <td>0.0</td>\n",
       "      <td>0.5</td>\n",
       "      <td>0.0</td>\n",
       "      <td>.162</td>\n",
       "      <td>6.1</td>\n",
       "      <td>0.0</td>\n",
       "    </tr>\n",
       "    <tr>\n",
       "      <th>58</th>\n",
       "      <td>57</td>\n",
       "      <td>CHO</td>\n",
       "      <td>BalÅ¡a Koprivica</td>\n",
       "      <td>Florida State</td>\n",
       "      <td>NaN</td>\n",
       "      <td>NaN</td>\n",
       "      <td>NaN</td>\n",
       "      <td>NaN</td>\n",
       "      <td>NaN</td>\n",
       "      <td>NaN</td>\n",
       "      <td>...</td>\n",
       "      <td>NaN</td>\n",
       "      <td>NaN</td>\n",
       "      <td>NaN</td>\n",
       "      <td>NaN</td>\n",
       "      <td>NaN</td>\n",
       "      <td>NaN</td>\n",
       "      <td>NaN</td>\n",
       "      <td>NaN</td>\n",
       "      <td>NaN</td>\n",
       "      <td>NaN</td>\n",
       "    </tr>\n",
       "    <tr>\n",
       "      <th>59</th>\n",
       "      <td>58</td>\n",
       "      <td>NYK</td>\n",
       "      <td>Jericho Sims</td>\n",
       "      <td>Texas</td>\n",
       "      <td>1</td>\n",
       "      <td>18</td>\n",
       "      <td>117</td>\n",
       "      <td>19</td>\n",
       "      <td>27</td>\n",
       "      <td>1</td>\n",
       "      <td>...</td>\n",
       "      <td>NaN</td>\n",
       "      <td>.750</td>\n",
       "      <td>6.5</td>\n",
       "      <td>1.1</td>\n",
       "      <td>1.5</td>\n",
       "      <td>0.1</td>\n",
       "      <td>0.4</td>\n",
       "      <td>.145</td>\n",
       "      <td>-0.6</td>\n",
       "      <td>0.0</td>\n",
       "    </tr>\n",
       "    <tr>\n",
       "      <th>60</th>\n",
       "      <td>59</td>\n",
       "      <td>BRK</td>\n",
       "      <td>RaiQuan Gray</td>\n",
       "      <td>Florida State</td>\n",
       "      <td>NaN</td>\n",
       "      <td>NaN</td>\n",
       "      <td>NaN</td>\n",
       "      <td>NaN</td>\n",
       "      <td>NaN</td>\n",
       "      <td>NaN</td>\n",
       "      <td>...</td>\n",
       "      <td>NaN</td>\n",
       "      <td>NaN</td>\n",
       "      <td>NaN</td>\n",
       "      <td>NaN</td>\n",
       "      <td>NaN</td>\n",
       "      <td>NaN</td>\n",
       "      <td>NaN</td>\n",
       "      <td>NaN</td>\n",
       "      <td>NaN</td>\n",
       "      <td>NaN</td>\n",
       "    </tr>\n",
       "    <tr>\n",
       "      <th>61</th>\n",
       "      <td>60</td>\n",
       "      <td>IND</td>\n",
       "      <td>Georgios Kalaitzakis</td>\n",
       "      <td>NaN</td>\n",
       "      <td>1</td>\n",
       "      <td>9</td>\n",
       "      <td>48</td>\n",
       "      <td>16</td>\n",
       "      <td>8</td>\n",
       "      <td>0</td>\n",
       "      <td>...</td>\n",
       "      <td>.500</td>\n",
       "      <td>.444</td>\n",
       "      <td>5.3</td>\n",
       "      <td>1.8</td>\n",
       "      <td>0.9</td>\n",
       "      <td>0.0</td>\n",
       "      <td>0.0</td>\n",
       "      <td>-.005</td>\n",
       "      <td>-8.0</td>\n",
       "      <td>-0.1</td>\n",
       "    </tr>\n",
       "  </tbody>\n",
       "</table>\n",
       "<p>60 rows × 21 columns</p>\n",
       "</div>"
      ],
      "text/plain": [
       "   PICK TEAM                  PLAYER                COLLEGE YEARS TOTALS_G  \\\n",
       "0     1  DET         Cade Cunningham         Oklahoma State     1       43   \n",
       "1     2  HOU             Jalen Green                    NaN     1       41   \n",
       "2     3  CLE             Evan Mobley                    USC     1       49   \n",
       "3     4  TOR          Scottie Barnes          Florida State     1       48   \n",
       "4     5  ORL             Jalen Suggs                Gonzaga     1       38   \n",
       "5     6  OKC             Josh Giddey                    NaN     1       52   \n",
       "6     7  GSW        Jonathan Kuminga                    NaN     1       46   \n",
       "7     8  ORL            Franz Wagner               Michigan     1       59   \n",
       "8     9  SAC         Davion Mitchell                 Baylor     1       53   \n",
       "9    10  NOP         Ziaire Williams               Stanford     1       38   \n",
       "10   11  CHO         James Bouknight                  UConn     1       27   \n",
       "11   12  SAS            Joshua Primo                Alabama     1       29   \n",
       "12   13  IND            Chris Duarte                 Oregon     1       50   \n",
       "13   14  GSW             Moses Moody               Arkansas     1       34   \n",
       "14   15  WAS           Corey Kispert                Gonzaga     1       51   \n",
       "15   16  OKC        Alperen ÅžengÃ¼n                    NaN     1       48   \n",
       "16   17  MEM         Trey Murphy III               Virginia     1       41   \n",
       "17   18  OKC                Tre Mann                Florida     1       44   \n",
       "18   19  NYK               Kai Jones                  Texas     1       17   \n",
       "19   20  ATL           Jalen Johnson                   Duke     1       13   \n",
       "20   21  NYK            Keon Johnson              Tennessee     1       15   \n",
       "21   22  LAL          Isaiah Jackson               Kentucky     1       20   \n",
       "22   23  HOU            Usman Garuba                    NaN     1       15   \n",
       "23   24  HOU        Josh Christopher          Arizona State     1       48   \n",
       "24   25  LAC          Quentin Grimes                Houston     1       38   \n",
       "25   26  DEN            Bones Hyland                    VCU     1       45   \n",
       "26   27  BRK              Cam Thomas                    LSU     1       46   \n",
       "27   28  PHI          Jaden Springer              Tennessee     1        2   \n",
       "28   29  PHO          Day'Ron Sharpe                    UNC     1       29   \n",
       "29   30  UTA            Santi Aldama            Loyola (MD)     1       27   \n",
       "32   31  MIL             Isaiah Todd                    NaN     1        9   \n",
       "33   32  NYK  Jeremiah Robinson-Earl              Villanova     1       44   \n",
       "34   33  ORL           Jason Preston        Ohio University   NaN      NaN   \n",
       "35   34  OKC        Rokas Jokubaitis                    NaN   NaN      NaN   \n",
       "36   35  NOP           Herbert Jones                Alabama     1       54   \n",
       "37   36  OKC           Miles McBride          West Virginia     1       21   \n",
       "38   37  DET                 JT Thor                 Auburn     1       17   \n",
       "39   38  CHI             Ayo Dosunmu               Illinois     1       53   \n",
       "40   39  SAC           Neemias Queta  Utah State University     1       10   \n",
       "41   40  NOP            Jared Butler                 Baylor     1       28   \n",
       "42   41  SAS            Joe Wieskamp                   Iowa     1       15   \n",
       "43   42  DET           Isaiah Livers               Michigan     1        1   \n",
       "44   43  NOP          Greg Brown III                  Texas     1       27   \n",
       "45   44  BRK         Kessler Edwards             Pepperdine     1       26   \n",
       "46   45  BOS          Juhann Begarin                    NaN   NaN      NaN   \n",
       "47   46  TOR           Dalano Banton               Nebraska     1       46   \n",
       "48   47  TOR           David Johnson             Louisville     1        2   \n",
       "49   48  ATL          Sharife Cooper                 Auburn     1       11   \n",
       "50   49  BRK       Marcus Zegarowski              Creighton   NaN      NaN   \n",
       "51   50  PHI         Filip PetruÅ¡ev                Gonzaga   NaN      NaN   \n",
       "52   51  MEM      Brandon Boston Jr.               Kentucky     1       40   \n",
       "53   52  DET              Luka Garza                   Iowa     1       29   \n",
       "54   53  PHI          Charles Bassey       Western Kentucky     1       22   \n",
       "55   54  IND   Sandro Mamukelashvili             Seton Hall     1       32   \n",
       "56   55  OKC           Aaron Wiggins               Maryland     1       33   \n",
       "57   56  CHO           Scottie Lewis                Florida     1        2   \n",
       "58   57  CHO        BalÅ¡a Koprivica          Florida State   NaN      NaN   \n",
       "59   58  NYK            Jericho Sims                  Texas     1       18   \n",
       "60   59  BRK            RaiQuan Gray          Florida State   NaN      NaN   \n",
       "61   60  IND    Georgios Kalaitzakis                    NaN     1        9   \n",
       "\n",
       "   TOTALS_MP TOTALS_PTS TOTALS_TRB TOTALS_AST  ... SHOOTING_3P% SHOOTING_FT%  \\\n",
       "0       1363        672        233        221  ...         .323         .864   \n",
       "1       1241        589        132         97  ...         .300         .819   \n",
       "2       1667        721        393        124  ...         .273         .672   \n",
       "3       1704        697        361        160  ...         .313         .733   \n",
       "4       1064        473        142        166  ...         .234         .770   \n",
       "5       1630        642        402        329  ...         .267         .705   \n",
       "6        659        362        129         30  ...         .306         .655   \n",
       "7       1889        923        272        176  ...         .362         .853   \n",
       "8       1376        551        125        183  ...         .326         .558   \n",
       "9        821        278         67         35  ...         .289         .760   \n",
       "10       288        140         47         21  ...         .347         .871   \n",
       "11       464        146         47         40  ...         .333         .783   \n",
       "12      1433        671        205        110  ...         .364         .792   \n",
       "13       322        109         46         11  ...         .306         .824   \n",
       "14       989        335        130         48  ...         .315         .884   \n",
       "15       895        414        223        118  ...         .250         .694   \n",
       "16       519        160         88         20  ...         .336         .857   \n",
       "17       867        366         94         42  ...         .362         .774   \n",
       "18        48         16          8          4  ...         .500         .250   \n",
       "19        58         25         15          1  ...         .429         .667   \n",
       "20       135         53         21         13  ...         .273         .762   \n",
       "21       193        115         55          7  ...         .429         .667   \n",
       "22       105         19         34          8  ...         .154         .500   \n",
       "23       789        355         96         81  ...         .333         .766   \n",
       "24       664        245         75         36  ...         .395         .647   \n",
       "25       813        398        124         88  ...         .350         .881   \n",
       "26       880        429        117         58  ...         .272         .817   \n",
       "27         6          2          2          0  ...          NaN          NaN   \n",
       "28       372        182        152         15  ...         .250         .568   \n",
       "29       277         90         64         14  ...         .103         .600   \n",
       "32        35         16          9          1  ...         .400         .500   \n",
       "33      1014        314        254         44  ...         .333         .714   \n",
       "34       NaN        NaN        NaN        NaN  ...          NaN          NaN   \n",
       "35       NaN        NaN        NaN        NaN  ...          NaN          NaN   \n",
       "36      1614        519        208        115  ...         .365         .848   \n",
       "37       151         38         16         23  ...         .161         .750   \n",
       "38       144         41         22         10  ...         .286         .700   \n",
       "39      1358        428        145        160  ...         .413         .655   \n",
       "40        56         21         19          4  ...          NaN         .600   \n",
       "41       213         96         23         34  ...         .362         .583   \n",
       "42        92         37          8          5  ...         .421         .429   \n",
       "43         5          0          0          0  ...         .000          NaN   \n",
       "44       204         89         53          7  ...         .190         .607   \n",
       "45       664        180        115         16  ...         .345         .800   \n",
       "46       NaN        NaN        NaN        NaN  ...          NaN          NaN   \n",
       "47       547        167        101         74  ...         .256         .625   \n",
       "48         2          0          0          0  ...         .000          NaN   \n",
       "49        35          7          5          5  ...         .167          NaN   \n",
       "50       NaN        NaN        NaN        NaN  ...          NaN          NaN   \n",
       "51       NaN        NaN        NaN        NaN  ...          NaN          NaN   \n",
       "52       610        267         92         34  ...         .304         .855   \n",
       "53       340        151         87         16  ...         .341         .643   \n",
       "54       161         64         60          7  ...         .000         .727   \n",
       "55       302         96         57         16  ...         .385         .750   \n",
       "56       732        236        114         37  ...         .310         .694   \n",
       "57         7          1          0          1  ...          NaN         .500   \n",
       "58       NaN        NaN        NaN        NaN  ...          NaN          NaN   \n",
       "59       117         19         27          1  ...          NaN         .750   \n",
       "60       NaN        NaN        NaN        NaN  ...          NaN          NaN   \n",
       "61        48         16          8          0  ...         .500         .444   \n",
       "\n",
       "   PER_GAME_MP PER_GAME_PTS PER_GAME_TRB PER_GAME_AST ADVANCED_WS  \\\n",
       "0         31.7         15.6          5.4          5.1        -0.7   \n",
       "1         30.3         14.4          3.2          2.4        -0.9   \n",
       "2         34.0         14.7          8.0          2.5         4.0   \n",
       "3         35.5         14.5          7.5          3.3         3.6   \n",
       "4         28.0         12.4          3.7          4.4        -1.2   \n",
       "5         31.3         12.3          7.7          6.3         0.9   \n",
       "6         14.3          7.9          2.8          0.7         1.5   \n",
       "7         32.0         15.6          4.6          3.0         2.9   \n",
       "8         26.0         10.4          2.4          3.5         0.2   \n",
       "9         21.6          7.3          1.8          0.9         1.0   \n",
       "10        10.7          5.2          1.7          0.8         0.1   \n",
       "11        16.0          5.0          1.6          1.4         0.1   \n",
       "12        28.7         13.4          4.1          2.2         1.4   \n",
       "13         9.5          3.2          1.4          0.3         0.4   \n",
       "14        19.4          6.6          2.5          0.9         1.2   \n",
       "15        18.6          8.6          4.6          2.5         1.1   \n",
       "16        12.7          3.9          2.1          0.5         0.6   \n",
       "17        19.7          8.3          2.1          1.0         0.1   \n",
       "18         2.8          0.9          0.5          0.2         0.0   \n",
       "19         4.5          1.9          1.2          0.1         0.0   \n",
       "20         9.0          3.5          1.4          0.9         0.1   \n",
       "21         9.7          5.8          2.8          0.4         0.7   \n",
       "22         7.0          1.3          2.3          0.5         0.1   \n",
       "23        16.4          7.4          2.0          1.7         0.3   \n",
       "24        17.5          6.4          2.0          0.9         1.3   \n",
       "25        18.1          8.8          2.8          2.0         0.6   \n",
       "26        19.1          9.3          2.5          1.3         0.9   \n",
       "27         3.0          1.0          1.0          0.0         0.0   \n",
       "28        12.8          6.3          5.2          0.5         1.1   \n",
       "29        10.3          3.3          2.4          0.5         0.2   \n",
       "32         3.9          1.8          1.0          0.1         0.0   \n",
       "33        23.0          7.1          5.8          1.0         1.4   \n",
       "34         NaN          NaN          NaN          NaN         NaN   \n",
       "35         NaN          NaN          NaN          NaN         NaN   \n",
       "36        29.9          9.6          3.9          2.1         3.5   \n",
       "37         7.2          1.8          0.8          1.1        -0.1   \n",
       "38         8.5          2.4          1.3          0.6         0.2   \n",
       "39        25.6          8.1          2.7          3.0         2.5   \n",
       "40         5.6          2.1          1.9          0.4         0.0   \n",
       "41         7.6          3.4          0.8          1.2         0.2   \n",
       "42         6.1          2.5          0.5          0.3         0.2   \n",
       "43         5.0          0.0          0.0          0.0        -0.1   \n",
       "44         7.6          3.3          2.0          0.3         0.2   \n",
       "45        25.5          6.9          4.4          0.6         0.3   \n",
       "46         NaN          NaN          NaN          NaN         NaN   \n",
       "47        11.9          3.6          2.2          1.6         0.2   \n",
       "48         1.0          0.0          0.0          0.0         0.0   \n",
       "49         3.2          0.6          0.5          0.5        -0.2   \n",
       "50         NaN          NaN          NaN          NaN         NaN   \n",
       "51         NaN          NaN          NaN          NaN         NaN   \n",
       "52        15.3          6.7          2.3          0.9         0.2   \n",
       "53        11.7          5.2          3.0          0.6         0.5   \n",
       "54         7.3          2.9          2.7          0.3         0.8   \n",
       "55         9.4          3.0          1.8          0.5         0.7   \n",
       "56        22.2          7.2          3.5          1.1         1.2   \n",
       "57         3.5          0.5          0.0          0.5         0.0   \n",
       "58         NaN          NaN          NaN          NaN         NaN   \n",
       "59         6.5          1.1          1.5          0.1         0.4   \n",
       "60         NaN          NaN          NaN          NaN         NaN   \n",
       "61         5.3          1.8          0.9          0.0         0.0   \n",
       "\n",
       "   ADVANCED_WS/48 ADVANCED_BPM ADVANCED_VORP  \n",
       "0           -.026         -2.2          -0.1  \n",
       "1           -.036         -5.2          -1.0  \n",
       "2            .116          0.8           1.2  \n",
       "3            .102         -0.2           0.8  \n",
       "4           -.052         -5.1          -0.8  \n",
       "5            .025         -1.0           0.4  \n",
       "6            .109         -2.7          -0.1  \n",
       "7            .073         -1.0           0.5  \n",
       "8            .007         -3.4          -0.5  \n",
       "9            .060         -4.1          -0.4  \n",
       "10           .012         -7.0          -0.4  \n",
       "11           .011         -3.9          -0.2  \n",
       "12           .046         -1.8           0.1  \n",
       "13           .066         -4.7          -0.2  \n",
       "14           .059         -2.5          -0.1  \n",
       "15           .061         -0.9           0.3  \n",
       "16           .054         -3.3          -0.2  \n",
       "17           .007         -4.6          -0.6  \n",
       "18          -.024         -8.8          -0.1  \n",
       "19           .018         -4.6           0.0  \n",
       "20           .020         -5.7          -0.1  \n",
       "21           .175          0.0           0.1  \n",
       "22           .053         -0.4           0.0  \n",
       "23           .020         -3.0          -0.2  \n",
       "24           .091          0.1           0.4  \n",
       "25           .033         -2.8          -0.2  \n",
       "26           .047         -2.9          -0.2  \n",
       "27           .145         17.2           0.0  \n",
       "28           .147         -3.6          -0.1  \n",
       "29           .026         -6.6          -0.3  \n",
       "32           .060          1.8           0.0  \n",
       "33           .068         -2.5          -0.1  \n",
       "34            NaN          NaN           NaN  \n",
       "35            NaN          NaN           NaN  \n",
       "36           .104         -0.3           0.7  \n",
       "37          -.030         -6.0          -0.2  \n",
       "38           .062         -3.6          -0.1  \n",
       "39           .090         -1.5           0.2  \n",
       "40           .009         -6.3          -0.1  \n",
       "41           .039         -1.9           0.0  \n",
       "42           .105         -0.1           0.0  \n",
       "43          -.522        -17.1           0.0  \n",
       "44           .056         -3.9          -0.1  \n",
       "45           .023         -4.3          -0.4  \n",
       "46            NaN          NaN           NaN  \n",
       "47           .018         -3.4          -0.2  \n",
       "48          -.508        -27.7           0.0  \n",
       "49          -.333        -17.3          -0.1  \n",
       "50            NaN          NaN           NaN  \n",
       "51            NaN          NaN           NaN  \n",
       "52           .012         -3.7          -0.3  \n",
       "53           .074         -3.4          -0.1  \n",
       "54           .224          1.8           0.2  \n",
       "55           .105         -1.0           0.1  \n",
       "56           .081         -2.7          -0.1  \n",
       "57           .162          6.1           0.0  \n",
       "58            NaN          NaN           NaN  \n",
       "59           .145         -0.6           0.0  \n",
       "60            NaN          NaN           NaN  \n",
       "61          -.005         -8.0          -0.1  \n",
       "\n",
       "[60 rows x 21 columns]"
      ]
     },
     "execution_count": 22,
     "metadata": {},
     "output_type": "execute_result"
    }
   ],
   "source": [
    "df = get_draft_class(2021)\n",
    "df"
   ]
  },
  {
   "cell_type": "code",
   "execution_count": null,
   "metadata": {},
   "outputs": [],
   "source": []
  }
 ],
 "metadata": {
  "interpreter": {
   "hash": "949777d72b0d2535278d3dc13498b2535136f6dfe0678499012e853ee9abcab1"
  },
  "kernelspec": {
   "display_name": "Python 3.7.6 64-bit",
   "language": "python",
   "name": "python3"
  },
  "language_info": {
   "codemirror_mode": {
    "name": "ipython",
    "version": 3
   },
   "file_extension": ".py",
   "mimetype": "text/x-python",
   "name": "python",
   "nbconvert_exporter": "python",
   "pygments_lexer": "ipython3",
   "version": "3.7.6"
  },
  "orig_nbformat": 4
 },
 "nbformat": 4,
 "nbformat_minor": 2
}
